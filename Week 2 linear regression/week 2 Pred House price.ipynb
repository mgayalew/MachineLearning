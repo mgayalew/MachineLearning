{
 "cells": [
  {
   "cell_type": "markdown",
   "metadata": {
    "collapsed": true
   },
   "source": [
    "# predicting house price"
   ]
  },
  {
   "cell_type": "code",
   "execution_count": 2,
   "metadata": {
    "collapsed": false
   },
   "outputs": [],
   "source": [
    "import graphlab"
   ]
  },
  {
   "cell_type": "code",
   "execution_count": 3,
   "metadata": {
    "collapsed": false
   },
   "outputs": [
    {
     "name": "stderr",
     "output_type": "stream",
     "text": [
      "/opt/conda/lib/python2.7/site-packages/requests/packages/urllib3/connection.py:266: SubjectAltNameWarning: Certificate for beta.graphlab.com has no `subjectAltName`, falling back to check for a `commonName` for now. This feature is being removed by major browsers and deprecated by RFC 2818. (See https://github.com/shazow/urllib3/issues/497 for details.)\n",
      "  SubjectAltNameWarning\n",
      "2016-07-07 23:41:26,301 [INFO] graphlab.cython.cy_server, 176: GraphLab Create v1.9 started. Logging: /tmp/graphlab_server_1467934885.log\n"
     ]
    },
    {
     "name": "stdout",
     "output_type": "stream",
     "text": [
      "This non-commercial license of GraphLab Create is assigned to mlmbt@yahoo.com and will expire on June 30, 2017. For commercial licensing options, visit https://turi.com/buy/.\n"
     ]
    }
   ],
   "source": [
    "md =graphlab.SFrame(\"home_data.gl\")"
   ]
  },
  {
   "cell_type": "code",
   "execution_count": 4,
   "metadata": {
    "collapsed": false
   },
   "outputs": [
    {
     "data": {
      "text/html": [
       "<div style=\"max-height:1000px;max-width:1500px;overflow:auto;\"><table frame=\"box\" rules=\"cols\">\n",
       "    <tr>\n",
       "        <th style=\"padding-left: 1em; padding-right: 1em; text-align: center\">id</th>\n",
       "        <th style=\"padding-left: 1em; padding-right: 1em; text-align: center\">date</th>\n",
       "        <th style=\"padding-left: 1em; padding-right: 1em; text-align: center\">price</th>\n",
       "        <th style=\"padding-left: 1em; padding-right: 1em; text-align: center\">bedrooms</th>\n",
       "        <th style=\"padding-left: 1em; padding-right: 1em; text-align: center\">bathrooms</th>\n",
       "        <th style=\"padding-left: 1em; padding-right: 1em; text-align: center\">sqft_living</th>\n",
       "        <th style=\"padding-left: 1em; padding-right: 1em; text-align: center\">sqft_lot</th>\n",
       "        <th style=\"padding-left: 1em; padding-right: 1em; text-align: center\">floors</th>\n",
       "        <th style=\"padding-left: 1em; padding-right: 1em; text-align: center\">waterfront</th>\n",
       "    </tr>\n",
       "    <tr>\n",
       "        <td style=\"padding-left: 1em; padding-right: 1em; text-align: center; vertical-align: top\">7129300520</td>\n",
       "        <td style=\"padding-left: 1em; padding-right: 1em; text-align: center; vertical-align: top\">2014-10-13 00:00:00+00:00</td>\n",
       "        <td style=\"padding-left: 1em; padding-right: 1em; text-align: center; vertical-align: top\">221900</td>\n",
       "        <td style=\"padding-left: 1em; padding-right: 1em; text-align: center; vertical-align: top\">3</td>\n",
       "        <td style=\"padding-left: 1em; padding-right: 1em; text-align: center; vertical-align: top\">1</td>\n",
       "        <td style=\"padding-left: 1em; padding-right: 1em; text-align: center; vertical-align: top\">1180</td>\n",
       "        <td style=\"padding-left: 1em; padding-right: 1em; text-align: center; vertical-align: top\">5650</td>\n",
       "        <td style=\"padding-left: 1em; padding-right: 1em; text-align: center; vertical-align: top\">1</td>\n",
       "        <td style=\"padding-left: 1em; padding-right: 1em; text-align: center; vertical-align: top\">0</td>\n",
       "    </tr>\n",
       "    <tr>\n",
       "        <td style=\"padding-left: 1em; padding-right: 1em; text-align: center; vertical-align: top\">6414100192</td>\n",
       "        <td style=\"padding-left: 1em; padding-right: 1em; text-align: center; vertical-align: top\">2014-12-09 00:00:00+00:00</td>\n",
       "        <td style=\"padding-left: 1em; padding-right: 1em; text-align: center; vertical-align: top\">538000</td>\n",
       "        <td style=\"padding-left: 1em; padding-right: 1em; text-align: center; vertical-align: top\">3</td>\n",
       "        <td style=\"padding-left: 1em; padding-right: 1em; text-align: center; vertical-align: top\">2.25</td>\n",
       "        <td style=\"padding-left: 1em; padding-right: 1em; text-align: center; vertical-align: top\">2570</td>\n",
       "        <td style=\"padding-left: 1em; padding-right: 1em; text-align: center; vertical-align: top\">7242</td>\n",
       "        <td style=\"padding-left: 1em; padding-right: 1em; text-align: center; vertical-align: top\">2</td>\n",
       "        <td style=\"padding-left: 1em; padding-right: 1em; text-align: center; vertical-align: top\">0</td>\n",
       "    </tr>\n",
       "    <tr>\n",
       "        <td style=\"padding-left: 1em; padding-right: 1em; text-align: center; vertical-align: top\">5631500400</td>\n",
       "        <td style=\"padding-left: 1em; padding-right: 1em; text-align: center; vertical-align: top\">2015-02-25 00:00:00+00:00</td>\n",
       "        <td style=\"padding-left: 1em; padding-right: 1em; text-align: center; vertical-align: top\">180000</td>\n",
       "        <td style=\"padding-left: 1em; padding-right: 1em; text-align: center; vertical-align: top\">2</td>\n",
       "        <td style=\"padding-left: 1em; padding-right: 1em; text-align: center; vertical-align: top\">1</td>\n",
       "        <td style=\"padding-left: 1em; padding-right: 1em; text-align: center; vertical-align: top\">770</td>\n",
       "        <td style=\"padding-left: 1em; padding-right: 1em; text-align: center; vertical-align: top\">10000</td>\n",
       "        <td style=\"padding-left: 1em; padding-right: 1em; text-align: center; vertical-align: top\">1</td>\n",
       "        <td style=\"padding-left: 1em; padding-right: 1em; text-align: center; vertical-align: top\">0</td>\n",
       "    </tr>\n",
       "    <tr>\n",
       "        <td style=\"padding-left: 1em; padding-right: 1em; text-align: center; vertical-align: top\">2487200875</td>\n",
       "        <td style=\"padding-left: 1em; padding-right: 1em; text-align: center; vertical-align: top\">2014-12-09 00:00:00+00:00</td>\n",
       "        <td style=\"padding-left: 1em; padding-right: 1em; text-align: center; vertical-align: top\">604000</td>\n",
       "        <td style=\"padding-left: 1em; padding-right: 1em; text-align: center; vertical-align: top\">4</td>\n",
       "        <td style=\"padding-left: 1em; padding-right: 1em; text-align: center; vertical-align: top\">3</td>\n",
       "        <td style=\"padding-left: 1em; padding-right: 1em; text-align: center; vertical-align: top\">1960</td>\n",
       "        <td style=\"padding-left: 1em; padding-right: 1em; text-align: center; vertical-align: top\">5000</td>\n",
       "        <td style=\"padding-left: 1em; padding-right: 1em; text-align: center; vertical-align: top\">1</td>\n",
       "        <td style=\"padding-left: 1em; padding-right: 1em; text-align: center; vertical-align: top\">0</td>\n",
       "    </tr>\n",
       "    <tr>\n",
       "        <td style=\"padding-left: 1em; padding-right: 1em; text-align: center; vertical-align: top\">1954400510</td>\n",
       "        <td style=\"padding-left: 1em; padding-right: 1em; text-align: center; vertical-align: top\">2015-02-18 00:00:00+00:00</td>\n",
       "        <td style=\"padding-left: 1em; padding-right: 1em; text-align: center; vertical-align: top\">510000</td>\n",
       "        <td style=\"padding-left: 1em; padding-right: 1em; text-align: center; vertical-align: top\">3</td>\n",
       "        <td style=\"padding-left: 1em; padding-right: 1em; text-align: center; vertical-align: top\">2</td>\n",
       "        <td style=\"padding-left: 1em; padding-right: 1em; text-align: center; vertical-align: top\">1680</td>\n",
       "        <td style=\"padding-left: 1em; padding-right: 1em; text-align: center; vertical-align: top\">8080</td>\n",
       "        <td style=\"padding-left: 1em; padding-right: 1em; text-align: center; vertical-align: top\">1</td>\n",
       "        <td style=\"padding-left: 1em; padding-right: 1em; text-align: center; vertical-align: top\">0</td>\n",
       "    </tr>\n",
       "    <tr>\n",
       "        <td style=\"padding-left: 1em; padding-right: 1em; text-align: center; vertical-align: top\">7237550310</td>\n",
       "        <td style=\"padding-left: 1em; padding-right: 1em; text-align: center; vertical-align: top\">2014-05-12 00:00:00+00:00</td>\n",
       "        <td style=\"padding-left: 1em; padding-right: 1em; text-align: center; vertical-align: top\">1225000</td>\n",
       "        <td style=\"padding-left: 1em; padding-right: 1em; text-align: center; vertical-align: top\">4</td>\n",
       "        <td style=\"padding-left: 1em; padding-right: 1em; text-align: center; vertical-align: top\">4.5</td>\n",
       "        <td style=\"padding-left: 1em; padding-right: 1em; text-align: center; vertical-align: top\">5420</td>\n",
       "        <td style=\"padding-left: 1em; padding-right: 1em; text-align: center; vertical-align: top\">101930</td>\n",
       "        <td style=\"padding-left: 1em; padding-right: 1em; text-align: center; vertical-align: top\">1</td>\n",
       "        <td style=\"padding-left: 1em; padding-right: 1em; text-align: center; vertical-align: top\">0</td>\n",
       "    </tr>\n",
       "    <tr>\n",
       "        <td style=\"padding-left: 1em; padding-right: 1em; text-align: center; vertical-align: top\">1321400060</td>\n",
       "        <td style=\"padding-left: 1em; padding-right: 1em; text-align: center; vertical-align: top\">2014-06-27 00:00:00+00:00</td>\n",
       "        <td style=\"padding-left: 1em; padding-right: 1em; text-align: center; vertical-align: top\">257500</td>\n",
       "        <td style=\"padding-left: 1em; padding-right: 1em; text-align: center; vertical-align: top\">3</td>\n",
       "        <td style=\"padding-left: 1em; padding-right: 1em; text-align: center; vertical-align: top\">2.25</td>\n",
       "        <td style=\"padding-left: 1em; padding-right: 1em; text-align: center; vertical-align: top\">1715</td>\n",
       "        <td style=\"padding-left: 1em; padding-right: 1em; text-align: center; vertical-align: top\">6819</td>\n",
       "        <td style=\"padding-left: 1em; padding-right: 1em; text-align: center; vertical-align: top\">2</td>\n",
       "        <td style=\"padding-left: 1em; padding-right: 1em; text-align: center; vertical-align: top\">0</td>\n",
       "    </tr>\n",
       "    <tr>\n",
       "        <td style=\"padding-left: 1em; padding-right: 1em; text-align: center; vertical-align: top\">2008000270</td>\n",
       "        <td style=\"padding-left: 1em; padding-right: 1em; text-align: center; vertical-align: top\">2015-01-15 00:00:00+00:00</td>\n",
       "        <td style=\"padding-left: 1em; padding-right: 1em; text-align: center; vertical-align: top\">291850</td>\n",
       "        <td style=\"padding-left: 1em; padding-right: 1em; text-align: center; vertical-align: top\">3</td>\n",
       "        <td style=\"padding-left: 1em; padding-right: 1em; text-align: center; vertical-align: top\">1.5</td>\n",
       "        <td style=\"padding-left: 1em; padding-right: 1em; text-align: center; vertical-align: top\">1060</td>\n",
       "        <td style=\"padding-left: 1em; padding-right: 1em; text-align: center; vertical-align: top\">9711</td>\n",
       "        <td style=\"padding-left: 1em; padding-right: 1em; text-align: center; vertical-align: top\">1</td>\n",
       "        <td style=\"padding-left: 1em; padding-right: 1em; text-align: center; vertical-align: top\">0</td>\n",
       "    </tr>\n",
       "    <tr>\n",
       "        <td style=\"padding-left: 1em; padding-right: 1em; text-align: center; vertical-align: top\">2414600126</td>\n",
       "        <td style=\"padding-left: 1em; padding-right: 1em; text-align: center; vertical-align: top\">2015-04-15 00:00:00+00:00</td>\n",
       "        <td style=\"padding-left: 1em; padding-right: 1em; text-align: center; vertical-align: top\">229500</td>\n",
       "        <td style=\"padding-left: 1em; padding-right: 1em; text-align: center; vertical-align: top\">3</td>\n",
       "        <td style=\"padding-left: 1em; padding-right: 1em; text-align: center; vertical-align: top\">1</td>\n",
       "        <td style=\"padding-left: 1em; padding-right: 1em; text-align: center; vertical-align: top\">1780</td>\n",
       "        <td style=\"padding-left: 1em; padding-right: 1em; text-align: center; vertical-align: top\">7470</td>\n",
       "        <td style=\"padding-left: 1em; padding-right: 1em; text-align: center; vertical-align: top\">1</td>\n",
       "        <td style=\"padding-left: 1em; padding-right: 1em; text-align: center; vertical-align: top\">0</td>\n",
       "    </tr>\n",
       "    <tr>\n",
       "        <td style=\"padding-left: 1em; padding-right: 1em; text-align: center; vertical-align: top\">3793500160</td>\n",
       "        <td style=\"padding-left: 1em; padding-right: 1em; text-align: center; vertical-align: top\">2015-03-12 00:00:00+00:00</td>\n",
       "        <td style=\"padding-left: 1em; padding-right: 1em; text-align: center; vertical-align: top\">323000</td>\n",
       "        <td style=\"padding-left: 1em; padding-right: 1em; text-align: center; vertical-align: top\">3</td>\n",
       "        <td style=\"padding-left: 1em; padding-right: 1em; text-align: center; vertical-align: top\">2.5</td>\n",
       "        <td style=\"padding-left: 1em; padding-right: 1em; text-align: center; vertical-align: top\">1890</td>\n",
       "        <td style=\"padding-left: 1em; padding-right: 1em; text-align: center; vertical-align: top\">6560</td>\n",
       "        <td style=\"padding-left: 1em; padding-right: 1em; text-align: center; vertical-align: top\">2</td>\n",
       "        <td style=\"padding-left: 1em; padding-right: 1em; text-align: center; vertical-align: top\">0</td>\n",
       "    </tr>\n",
       "</table>\n",
       "<table frame=\"box\" rules=\"cols\">\n",
       "    <tr>\n",
       "        <th style=\"padding-left: 1em; padding-right: 1em; text-align: center\">view</th>\n",
       "        <th style=\"padding-left: 1em; padding-right: 1em; text-align: center\">condition</th>\n",
       "        <th style=\"padding-left: 1em; padding-right: 1em; text-align: center\">grade</th>\n",
       "        <th style=\"padding-left: 1em; padding-right: 1em; text-align: center\">sqft_above</th>\n",
       "        <th style=\"padding-left: 1em; padding-right: 1em; text-align: center\">sqft_basement</th>\n",
       "        <th style=\"padding-left: 1em; padding-right: 1em; text-align: center\">yr_built</th>\n",
       "        <th style=\"padding-left: 1em; padding-right: 1em; text-align: center\">yr_renovated</th>\n",
       "        <th style=\"padding-left: 1em; padding-right: 1em; text-align: center\">zipcode</th>\n",
       "        <th style=\"padding-left: 1em; padding-right: 1em; text-align: center\">lat</th>\n",
       "    </tr>\n",
       "    <tr>\n",
       "        <td style=\"padding-left: 1em; padding-right: 1em; text-align: center; vertical-align: top\">0</td>\n",
       "        <td style=\"padding-left: 1em; padding-right: 1em; text-align: center; vertical-align: top\">3</td>\n",
       "        <td style=\"padding-left: 1em; padding-right: 1em; text-align: center; vertical-align: top\">7</td>\n",
       "        <td style=\"padding-left: 1em; padding-right: 1em; text-align: center; vertical-align: top\">1180</td>\n",
       "        <td style=\"padding-left: 1em; padding-right: 1em; text-align: center; vertical-align: top\">0</td>\n",
       "        <td style=\"padding-left: 1em; padding-right: 1em; text-align: center; vertical-align: top\">1955</td>\n",
       "        <td style=\"padding-left: 1em; padding-right: 1em; text-align: center; vertical-align: top\">0</td>\n",
       "        <td style=\"padding-left: 1em; padding-right: 1em; text-align: center; vertical-align: top\">98178</td>\n",
       "        <td style=\"padding-left: 1em; padding-right: 1em; text-align: center; vertical-align: top\">47.51123398</td>\n",
       "    </tr>\n",
       "    <tr>\n",
       "        <td style=\"padding-left: 1em; padding-right: 1em; text-align: center; vertical-align: top\">0</td>\n",
       "        <td style=\"padding-left: 1em; padding-right: 1em; text-align: center; vertical-align: top\">3</td>\n",
       "        <td style=\"padding-left: 1em; padding-right: 1em; text-align: center; vertical-align: top\">7</td>\n",
       "        <td style=\"padding-left: 1em; padding-right: 1em; text-align: center; vertical-align: top\">2170</td>\n",
       "        <td style=\"padding-left: 1em; padding-right: 1em; text-align: center; vertical-align: top\">400</td>\n",
       "        <td style=\"padding-left: 1em; padding-right: 1em; text-align: center; vertical-align: top\">1951</td>\n",
       "        <td style=\"padding-left: 1em; padding-right: 1em; text-align: center; vertical-align: top\">1991</td>\n",
       "        <td style=\"padding-left: 1em; padding-right: 1em; text-align: center; vertical-align: top\">98125</td>\n",
       "        <td style=\"padding-left: 1em; padding-right: 1em; text-align: center; vertical-align: top\">47.72102274</td>\n",
       "    </tr>\n",
       "    <tr>\n",
       "        <td style=\"padding-left: 1em; padding-right: 1em; text-align: center; vertical-align: top\">0</td>\n",
       "        <td style=\"padding-left: 1em; padding-right: 1em; text-align: center; vertical-align: top\">3</td>\n",
       "        <td style=\"padding-left: 1em; padding-right: 1em; text-align: center; vertical-align: top\">6</td>\n",
       "        <td style=\"padding-left: 1em; padding-right: 1em; text-align: center; vertical-align: top\">770</td>\n",
       "        <td style=\"padding-left: 1em; padding-right: 1em; text-align: center; vertical-align: top\">0</td>\n",
       "        <td style=\"padding-left: 1em; padding-right: 1em; text-align: center; vertical-align: top\">1933</td>\n",
       "        <td style=\"padding-left: 1em; padding-right: 1em; text-align: center; vertical-align: top\">0</td>\n",
       "        <td style=\"padding-left: 1em; padding-right: 1em; text-align: center; vertical-align: top\">98028</td>\n",
       "        <td style=\"padding-left: 1em; padding-right: 1em; text-align: center; vertical-align: top\">47.73792661</td>\n",
       "    </tr>\n",
       "    <tr>\n",
       "        <td style=\"padding-left: 1em; padding-right: 1em; text-align: center; vertical-align: top\">0</td>\n",
       "        <td style=\"padding-left: 1em; padding-right: 1em; text-align: center; vertical-align: top\">5</td>\n",
       "        <td style=\"padding-left: 1em; padding-right: 1em; text-align: center; vertical-align: top\">7</td>\n",
       "        <td style=\"padding-left: 1em; padding-right: 1em; text-align: center; vertical-align: top\">1050</td>\n",
       "        <td style=\"padding-left: 1em; padding-right: 1em; text-align: center; vertical-align: top\">910</td>\n",
       "        <td style=\"padding-left: 1em; padding-right: 1em; text-align: center; vertical-align: top\">1965</td>\n",
       "        <td style=\"padding-left: 1em; padding-right: 1em; text-align: center; vertical-align: top\">0</td>\n",
       "        <td style=\"padding-left: 1em; padding-right: 1em; text-align: center; vertical-align: top\">98136</td>\n",
       "        <td style=\"padding-left: 1em; padding-right: 1em; text-align: center; vertical-align: top\">47.52082</td>\n",
       "    </tr>\n",
       "    <tr>\n",
       "        <td style=\"padding-left: 1em; padding-right: 1em; text-align: center; vertical-align: top\">0</td>\n",
       "        <td style=\"padding-left: 1em; padding-right: 1em; text-align: center; vertical-align: top\">3</td>\n",
       "        <td style=\"padding-left: 1em; padding-right: 1em; text-align: center; vertical-align: top\">8</td>\n",
       "        <td style=\"padding-left: 1em; padding-right: 1em; text-align: center; vertical-align: top\">1680</td>\n",
       "        <td style=\"padding-left: 1em; padding-right: 1em; text-align: center; vertical-align: top\">0</td>\n",
       "        <td style=\"padding-left: 1em; padding-right: 1em; text-align: center; vertical-align: top\">1987</td>\n",
       "        <td style=\"padding-left: 1em; padding-right: 1em; text-align: center; vertical-align: top\">0</td>\n",
       "        <td style=\"padding-left: 1em; padding-right: 1em; text-align: center; vertical-align: top\">98074</td>\n",
       "        <td style=\"padding-left: 1em; padding-right: 1em; text-align: center; vertical-align: top\">47.61681228</td>\n",
       "    </tr>\n",
       "    <tr>\n",
       "        <td style=\"padding-left: 1em; padding-right: 1em; text-align: center; vertical-align: top\">0</td>\n",
       "        <td style=\"padding-left: 1em; padding-right: 1em; text-align: center; vertical-align: top\">3</td>\n",
       "        <td style=\"padding-left: 1em; padding-right: 1em; text-align: center; vertical-align: top\">11</td>\n",
       "        <td style=\"padding-left: 1em; padding-right: 1em; text-align: center; vertical-align: top\">3890</td>\n",
       "        <td style=\"padding-left: 1em; padding-right: 1em; text-align: center; vertical-align: top\">1530</td>\n",
       "        <td style=\"padding-left: 1em; padding-right: 1em; text-align: center; vertical-align: top\">2001</td>\n",
       "        <td style=\"padding-left: 1em; padding-right: 1em; text-align: center; vertical-align: top\">0</td>\n",
       "        <td style=\"padding-left: 1em; padding-right: 1em; text-align: center; vertical-align: top\">98053</td>\n",
       "        <td style=\"padding-left: 1em; padding-right: 1em; text-align: center; vertical-align: top\">47.65611835</td>\n",
       "    </tr>\n",
       "    <tr>\n",
       "        <td style=\"padding-left: 1em; padding-right: 1em; text-align: center; vertical-align: top\">0</td>\n",
       "        <td style=\"padding-left: 1em; padding-right: 1em; text-align: center; vertical-align: top\">3</td>\n",
       "        <td style=\"padding-left: 1em; padding-right: 1em; text-align: center; vertical-align: top\">7</td>\n",
       "        <td style=\"padding-left: 1em; padding-right: 1em; text-align: center; vertical-align: top\">1715</td>\n",
       "        <td style=\"padding-left: 1em; padding-right: 1em; text-align: center; vertical-align: top\">0</td>\n",
       "        <td style=\"padding-left: 1em; padding-right: 1em; text-align: center; vertical-align: top\">1995</td>\n",
       "        <td style=\"padding-left: 1em; padding-right: 1em; text-align: center; vertical-align: top\">0</td>\n",
       "        <td style=\"padding-left: 1em; padding-right: 1em; text-align: center; vertical-align: top\">98003</td>\n",
       "        <td style=\"padding-left: 1em; padding-right: 1em; text-align: center; vertical-align: top\">47.30972002</td>\n",
       "    </tr>\n",
       "    <tr>\n",
       "        <td style=\"padding-left: 1em; padding-right: 1em; text-align: center; vertical-align: top\">0</td>\n",
       "        <td style=\"padding-left: 1em; padding-right: 1em; text-align: center; vertical-align: top\">3</td>\n",
       "        <td style=\"padding-left: 1em; padding-right: 1em; text-align: center; vertical-align: top\">7</td>\n",
       "        <td style=\"padding-left: 1em; padding-right: 1em; text-align: center; vertical-align: top\">1060</td>\n",
       "        <td style=\"padding-left: 1em; padding-right: 1em; text-align: center; vertical-align: top\">0</td>\n",
       "        <td style=\"padding-left: 1em; padding-right: 1em; text-align: center; vertical-align: top\">1963</td>\n",
       "        <td style=\"padding-left: 1em; padding-right: 1em; text-align: center; vertical-align: top\">0</td>\n",
       "        <td style=\"padding-left: 1em; padding-right: 1em; text-align: center; vertical-align: top\">98198</td>\n",
       "        <td style=\"padding-left: 1em; padding-right: 1em; text-align: center; vertical-align: top\">47.40949984</td>\n",
       "    </tr>\n",
       "    <tr>\n",
       "        <td style=\"padding-left: 1em; padding-right: 1em; text-align: center; vertical-align: top\">0</td>\n",
       "        <td style=\"padding-left: 1em; padding-right: 1em; text-align: center; vertical-align: top\">3</td>\n",
       "        <td style=\"padding-left: 1em; padding-right: 1em; text-align: center; vertical-align: top\">7</td>\n",
       "        <td style=\"padding-left: 1em; padding-right: 1em; text-align: center; vertical-align: top\">1050</td>\n",
       "        <td style=\"padding-left: 1em; padding-right: 1em; text-align: center; vertical-align: top\">730</td>\n",
       "        <td style=\"padding-left: 1em; padding-right: 1em; text-align: center; vertical-align: top\">1960</td>\n",
       "        <td style=\"padding-left: 1em; padding-right: 1em; text-align: center; vertical-align: top\">0</td>\n",
       "        <td style=\"padding-left: 1em; padding-right: 1em; text-align: center; vertical-align: top\">98146</td>\n",
       "        <td style=\"padding-left: 1em; padding-right: 1em; text-align: center; vertical-align: top\">47.51229381</td>\n",
       "    </tr>\n",
       "    <tr>\n",
       "        <td style=\"padding-left: 1em; padding-right: 1em; text-align: center; vertical-align: top\">0</td>\n",
       "        <td style=\"padding-left: 1em; padding-right: 1em; text-align: center; vertical-align: top\">3</td>\n",
       "        <td style=\"padding-left: 1em; padding-right: 1em; text-align: center; vertical-align: top\">7</td>\n",
       "        <td style=\"padding-left: 1em; padding-right: 1em; text-align: center; vertical-align: top\">1890</td>\n",
       "        <td style=\"padding-left: 1em; padding-right: 1em; text-align: center; vertical-align: top\">0</td>\n",
       "        <td style=\"padding-left: 1em; padding-right: 1em; text-align: center; vertical-align: top\">2003</td>\n",
       "        <td style=\"padding-left: 1em; padding-right: 1em; text-align: center; vertical-align: top\">0</td>\n",
       "        <td style=\"padding-left: 1em; padding-right: 1em; text-align: center; vertical-align: top\">98038</td>\n",
       "        <td style=\"padding-left: 1em; padding-right: 1em; text-align: center; vertical-align: top\">47.36840673</td>\n",
       "    </tr>\n",
       "</table>\n",
       "<table frame=\"box\" rules=\"cols\">\n",
       "    <tr>\n",
       "        <th style=\"padding-left: 1em; padding-right: 1em; text-align: center\">long</th>\n",
       "        <th style=\"padding-left: 1em; padding-right: 1em; text-align: center\">sqft_living15</th>\n",
       "        <th style=\"padding-left: 1em; padding-right: 1em; text-align: center\">sqft_lot15</th>\n",
       "    </tr>\n",
       "    <tr>\n",
       "        <td style=\"padding-left: 1em; padding-right: 1em; text-align: center; vertical-align: top\">-122.25677536</td>\n",
       "        <td style=\"padding-left: 1em; padding-right: 1em; text-align: center; vertical-align: top\">1340.0</td>\n",
       "        <td style=\"padding-left: 1em; padding-right: 1em; text-align: center; vertical-align: top\">5650.0</td>\n",
       "    </tr>\n",
       "    <tr>\n",
       "        <td style=\"padding-left: 1em; padding-right: 1em; text-align: center; vertical-align: top\">-122.3188624</td>\n",
       "        <td style=\"padding-left: 1em; padding-right: 1em; text-align: center; vertical-align: top\">1690.0</td>\n",
       "        <td style=\"padding-left: 1em; padding-right: 1em; text-align: center; vertical-align: top\">7639.0</td>\n",
       "    </tr>\n",
       "    <tr>\n",
       "        <td style=\"padding-left: 1em; padding-right: 1em; text-align: center; vertical-align: top\">-122.23319601</td>\n",
       "        <td style=\"padding-left: 1em; padding-right: 1em; text-align: center; vertical-align: top\">2720.0</td>\n",
       "        <td style=\"padding-left: 1em; padding-right: 1em; text-align: center; vertical-align: top\">8062.0</td>\n",
       "    </tr>\n",
       "    <tr>\n",
       "        <td style=\"padding-left: 1em; padding-right: 1em; text-align: center; vertical-align: top\">-122.39318505</td>\n",
       "        <td style=\"padding-left: 1em; padding-right: 1em; text-align: center; vertical-align: top\">1360.0</td>\n",
       "        <td style=\"padding-left: 1em; padding-right: 1em; text-align: center; vertical-align: top\">5000.0</td>\n",
       "    </tr>\n",
       "    <tr>\n",
       "        <td style=\"padding-left: 1em; padding-right: 1em; text-align: center; vertical-align: top\">-122.04490059</td>\n",
       "        <td style=\"padding-left: 1em; padding-right: 1em; text-align: center; vertical-align: top\">1800.0</td>\n",
       "        <td style=\"padding-left: 1em; padding-right: 1em; text-align: center; vertical-align: top\">7503.0</td>\n",
       "    </tr>\n",
       "    <tr>\n",
       "        <td style=\"padding-left: 1em; padding-right: 1em; text-align: center; vertical-align: top\">-122.00528655</td>\n",
       "        <td style=\"padding-left: 1em; padding-right: 1em; text-align: center; vertical-align: top\">4760.0</td>\n",
       "        <td style=\"padding-left: 1em; padding-right: 1em; text-align: center; vertical-align: top\">101930.0</td>\n",
       "    </tr>\n",
       "    <tr>\n",
       "        <td style=\"padding-left: 1em; padding-right: 1em; text-align: center; vertical-align: top\">-122.32704857</td>\n",
       "        <td style=\"padding-left: 1em; padding-right: 1em; text-align: center; vertical-align: top\">2238.0</td>\n",
       "        <td style=\"padding-left: 1em; padding-right: 1em; text-align: center; vertical-align: top\">6819.0</td>\n",
       "    </tr>\n",
       "    <tr>\n",
       "        <td style=\"padding-left: 1em; padding-right: 1em; text-align: center; vertical-align: top\">-122.31457273</td>\n",
       "        <td style=\"padding-left: 1em; padding-right: 1em; text-align: center; vertical-align: top\">1650.0</td>\n",
       "        <td style=\"padding-left: 1em; padding-right: 1em; text-align: center; vertical-align: top\">9711.0</td>\n",
       "    </tr>\n",
       "    <tr>\n",
       "        <td style=\"padding-left: 1em; padding-right: 1em; text-align: center; vertical-align: top\">-122.33659507</td>\n",
       "        <td style=\"padding-left: 1em; padding-right: 1em; text-align: center; vertical-align: top\">1780.0</td>\n",
       "        <td style=\"padding-left: 1em; padding-right: 1em; text-align: center; vertical-align: top\">8113.0</td>\n",
       "    </tr>\n",
       "    <tr>\n",
       "        <td style=\"padding-left: 1em; padding-right: 1em; text-align: center; vertical-align: top\">-122.0308176</td>\n",
       "        <td style=\"padding-left: 1em; padding-right: 1em; text-align: center; vertical-align: top\">2390.0</td>\n",
       "        <td style=\"padding-left: 1em; padding-right: 1em; text-align: center; vertical-align: top\">7570.0</td>\n",
       "    </tr>\n",
       "</table>\n",
       "[21613 rows x 21 columns]<br/>Note: Only the head of the SFrame is printed.<br/>You can use print_rows(num_rows=m, num_columns=n) to print more rows and columns.\n",
       "</div>"
      ],
      "text/plain": [
       "Columns:\n",
       "\tid\tstr\n",
       "\tdate\tdatetime\n",
       "\tprice\tint\n",
       "\tbedrooms\tstr\n",
       "\tbathrooms\tstr\n",
       "\tsqft_living\tint\n",
       "\tsqft_lot\tint\n",
       "\tfloors\tstr\n",
       "\twaterfront\tint\n",
       "\tview\tint\n",
       "\tcondition\tint\n",
       "\tgrade\tint\n",
       "\tsqft_above\tint\n",
       "\tsqft_basement\tint\n",
       "\tyr_built\tint\n",
       "\tyr_renovated\tint\n",
       "\tzipcode\tstr\n",
       "\tlat\tfloat\n",
       "\tlong\tfloat\n",
       "\tsqft_living15\tfloat\n",
       "\tsqft_lot15\tfloat\n",
       "\n",
       "Rows: 21613\n",
       "\n",
       "Data:\n",
       "+------------+---------------------------+---------+----------+-----------+-------------+\n",
       "|     id     |            date           |  price  | bedrooms | bathrooms | sqft_living |\n",
       "+------------+---------------------------+---------+----------+-----------+-------------+\n",
       "| 7129300520 | 2014-10-13 00:00:00+00:00 |  221900 |    3     |     1     |     1180    |\n",
       "| 6414100192 | 2014-12-09 00:00:00+00:00 |  538000 |    3     |    2.25   |     2570    |\n",
       "| 5631500400 | 2015-02-25 00:00:00+00:00 |  180000 |    2     |     1     |     770     |\n",
       "| 2487200875 | 2014-12-09 00:00:00+00:00 |  604000 |    4     |     3     |     1960    |\n",
       "| 1954400510 | 2015-02-18 00:00:00+00:00 |  510000 |    3     |     2     |     1680    |\n",
       "| 7237550310 | 2014-05-12 00:00:00+00:00 | 1225000 |    4     |    4.5    |     5420    |\n",
       "| 1321400060 | 2014-06-27 00:00:00+00:00 |  257500 |    3     |    2.25   |     1715    |\n",
       "| 2008000270 | 2015-01-15 00:00:00+00:00 |  291850 |    3     |    1.5    |     1060    |\n",
       "| 2414600126 | 2015-04-15 00:00:00+00:00 |  229500 |    3     |     1     |     1780    |\n",
       "| 3793500160 | 2015-03-12 00:00:00+00:00 |  323000 |    3     |    2.5    |     1890    |\n",
       "+------------+---------------------------+---------+----------+-----------+-------------+\n",
       "+----------+--------+------------+------+-----------+-------+------------+---------------+\n",
       "| sqft_lot | floors | waterfront | view | condition | grade | sqft_above | sqft_basement |\n",
       "+----------+--------+------------+------+-----------+-------+------------+---------------+\n",
       "|   5650   |   1    |     0      |  0   |     3     |   7   |    1180    |       0       |\n",
       "|   7242   |   2    |     0      |  0   |     3     |   7   |    2170    |      400      |\n",
       "|  10000   |   1    |     0      |  0   |     3     |   6   |    770     |       0       |\n",
       "|   5000   |   1    |     0      |  0   |     5     |   7   |    1050    |      910      |\n",
       "|   8080   |   1    |     0      |  0   |     3     |   8   |    1680    |       0       |\n",
       "|  101930  |   1    |     0      |  0   |     3     |   11  |    3890    |      1530     |\n",
       "|   6819   |   2    |     0      |  0   |     3     |   7   |    1715    |       0       |\n",
       "|   9711   |   1    |     0      |  0   |     3     |   7   |    1060    |       0       |\n",
       "|   7470   |   1    |     0      |  0   |     3     |   7   |    1050    |      730      |\n",
       "|   6560   |   2    |     0      |  0   |     3     |   7   |    1890    |       0       |\n",
       "+----------+--------+------------+------+-----------+-------+------------+---------------+\n",
       "+----------+--------------+---------+-------------+---------------+---------------+-----+\n",
       "| yr_built | yr_renovated | zipcode |     lat     |      long     | sqft_living15 | ... |\n",
       "+----------+--------------+---------+-------------+---------------+---------------+-----+\n",
       "|   1955   |      0       |  98178  | 47.51123398 | -122.25677536 |     1340.0    | ... |\n",
       "|   1951   |     1991     |  98125  | 47.72102274 |  -122.3188624 |     1690.0    | ... |\n",
       "|   1933   |      0       |  98028  | 47.73792661 | -122.23319601 |     2720.0    | ... |\n",
       "|   1965   |      0       |  98136  |   47.52082  | -122.39318505 |     1360.0    | ... |\n",
       "|   1987   |      0       |  98074  | 47.61681228 | -122.04490059 |     1800.0    | ... |\n",
       "|   2001   |      0       |  98053  | 47.65611835 | -122.00528655 |     4760.0    | ... |\n",
       "|   1995   |      0       |  98003  | 47.30972002 | -122.32704857 |     2238.0    | ... |\n",
       "|   1963   |      0       |  98198  | 47.40949984 | -122.31457273 |     1650.0    | ... |\n",
       "|   1960   |      0       |  98146  | 47.51229381 | -122.33659507 |     1780.0    | ... |\n",
       "|   2003   |      0       |  98038  | 47.36840673 |  -122.0308176 |     2390.0    | ... |\n",
       "+----------+--------------+---------+-------------+---------------+---------------+-----+\n",
       "[21613 rows x 21 columns]\n",
       "Note: Only the head of the SFrame is printed.\n",
       "You can use print_rows(num_rows=m, num_columns=n) to print more rows and columns."
      ]
     },
     "execution_count": 4,
     "metadata": {},
     "output_type": "execute_result"
    }
   ],
   "source": [
    "md"
   ]
  },
  {
   "cell_type": "code",
   "execution_count": 5,
   "metadata": {
    "collapsed": false
   },
   "outputs": [
    {
     "data": {
      "application/javascript": [
       "$(\"head\").append($(\"<link/>\").attr({\n",
       "  rel:  \"stylesheet\",\n",
       "  type: \"text/css\",\n",
       "  href: \"//cdnjs.cloudflare.com/ajax/libs/font-awesome/4.1.0/css/font-awesome.min.css\"\n",
       "}));\n",
       "$(\"head\").append($(\"<link/>\").attr({\n",
       "  rel:  \"stylesheet\",\n",
       "  type: \"text/css\",\n",
       "  href: \"//dato.com/files/canvas/1.9/css/canvas.css\"\n",
       "}));\n",
       "\n",
       "            (function(){\n",
       "\n",
       "                var e = null;\n",
       "                if (typeof element == 'undefined') {\n",
       "                    var scripts = document.getElementsByTagName('script');\n",
       "                    var thisScriptTag = scripts[scripts.length-1];\n",
       "                    var parentDiv = thisScriptTag.parentNode;\n",
       "                    e = document.createElement('div');\n",
       "                    parentDiv.appendChild(e);\n",
       "                } else {\n",
       "                    e = element[0];\n",
       "                }\n",
       "\n",
       "                if (typeof requirejs !== 'undefined') {\n",
       "                    // disable load timeout; ipython_app.js is large and can take a while to load.\n",
       "                    requirejs.config({waitSeconds: 0});\n",
       "                }\n",
       "\n",
       "                require(['//dato.com/files/canvas/1.9/js/ipython_app.js'], function(IPythonApp){\n",
       "                    var app = new IPythonApp();\n",
       "                    app.attachView('sframe','Plots', {\"selected_variable\": {\"name\": [\"md\"], \"descriptives\": {\"rows\": 21613, \"columns\": 21}, \"view_component\": \"Plots\", \"view_file\": \"sframe\", \"view_params\": {\"y\": \"price\", \"x\": \"sqft_living\", \"columns\": [\"id\", \"date\", \"price\", \"bedrooms\", \"bathrooms\", \"sqft_living\", \"sqft_lot\", \"floors\", \"waterfront\", \"view\", \"condition\", \"grade\", \"sqft_above\", \"sqft_basement\", \"yr_built\", \"yr_renovated\", \"zipcode\", \"lat\", \"long\", \"sqft_living15\", \"sqft_lot15\"], \"view\": \"Scatter Plot\"}, \"view_components\": [\"Summary\", \"Table\", \"Bar Chart\", \"BoxWhisker Plot\", \"Line Chart\", \"Scatter Plot\", \"Heat Map\", \"Plots\"], \"type\": \"SFrame\", \"columns\": [{\"dtype\": \"str\", \"name\": \"id\"}, {\"dtype\": \"datetime\", \"name\": \"date\"}, {\"dtype\": \"int\", \"name\": \"price\"}, {\"dtype\": \"str\", \"name\": \"bedrooms\"}, {\"dtype\": \"str\", \"name\": \"bathrooms\"}, {\"dtype\": \"int\", \"name\": \"sqft_living\"}, {\"dtype\": \"int\", \"name\": \"sqft_lot\"}, {\"dtype\": \"str\", \"name\": \"floors\"}, {\"dtype\": \"int\", \"name\": \"waterfront\"}, {\"dtype\": \"int\", \"name\": \"view\"}, {\"dtype\": \"int\", \"name\": \"condition\"}, {\"dtype\": \"int\", \"name\": \"grade\"}, {\"dtype\": \"int\", \"name\": \"sqft_above\"}, {\"dtype\": \"int\", \"name\": \"sqft_basement\"}, {\"dtype\": \"int\", \"name\": \"yr_built\"}, {\"dtype\": \"int\", \"name\": \"yr_renovated\"}, {\"dtype\": \"str\", \"name\": \"zipcode\"}, {\"dtype\": \"float\", \"name\": \"lat\"}, {\"dtype\": \"float\", \"name\": \"long\"}, {\"dtype\": \"float\", \"name\": \"sqft_living15\"}, {\"dtype\": \"float\", \"name\": \"sqft_lot15\"}], \"column_identifiers\": [\"bathrooms\", \"sqft_living15\", \"sqft_above\", \"grade\", \"yr_built\", \"price\", \"bedrooms\", \"zipcode\", \"long\", \"id\", \"sqft_lot15\", \"sqft_living\", \"floors\", \"sqft_lot\", \"date\", \"waterfront\", \"sqft_basement\", \"yr_renovated\", \"lat\", \"condition\", \"view\"]}, \"complete\": 1, \"ipython\": true, \"progress\": 1.0, \"data\": [[2040, 619000], [2120, 369160], [290, 142000], [980, 550000], [2420, 298000], [2370, 369000], [730, 464000], [1730, 299000], [2710, 623000], [1380, 563000], [1870, 377000], [1700, 545000], [1480, 239900], [2300, 372000], [1660, 305000], [1510, 239000], [1640, 519000], [1600, 485000], [2010, 218000], [2730, 980000], [1620, 385000], [1770, 643002], [1810, 355000], [2880, 775000], [1260, 352000], [1910, 230000], [1460, 415000], [1550, 440000], [1613, 279500], [3370, 713900], [3760, 851000], [1730, 480680], [3250, 463828], [2200, 349900], [2060, 322500], [2490, 275000], [2140, 620000], [5090, 3100000], [2500, 235000], [1060, 170500], [1700, 500000], [1930, 345000], [1280, 297000], [3730, 840000], [4070, 993500], [3250, 530000], [2530, 355000], [3620, 394000], [2630, 650000], [1870, 285000], [2790, 815000], [8000, 5350000], [2880, 450000], [2880, 635000], [2620, 394250], [830, 325000], [2570, 320000], [1390, 261000], [3510, 695000], [770, 407500], [1930, 326000], [1330, 405000], [1450, 274500], [1610, 426250], [3420, 1225000], [1280, 319950], [1010, 166000], [2220, 275000], [1400, 295000], [1740, 255000], [2330, 650000], [4590, 1135000], [3070, 804100], [1050, 521000], [2280, 416500], [1980, 268000], [1460, 186000], [2170, 546800], [3050, 715000], [3560, 1070000], [2290, 590000], [2200, 525000], [2430, 510000], [1940, 322500], [1090, 406000], [1820, 875000], [720, 195000], [720, 333000], [1440, 327200], [2605, 599900], [2744, 300000], [1360, 370000], [1190, 320000], [1390, 445500], [620, 255000], [960, 200000], [3950, 1925000], [2520, 780000], [2500, 330000], [2400, 705640], [3850, 915000], [2510, 520000], [1750, 456150], [2000, 330000], [3078, 459950], [530, 238000], [2090, 248500], [1370, 369950], [1900, 305000], [1750, 499000], [2270, 435000], [2870, 1160000], [1160, 324000], [1020, 219950], [990, 620000], [2920, 265000], [1150, 358000], [2300, 287000], [1190, 160134], [1400, 401000], [1830, 494000], [2560, 350000], [2927, 407000], [2400, 475000], [2230, 699950], [2750, 739000], [2475, 329900], [2200, 460000], [2320, 822500], [1960, 305000], [1750, 270000], [3670, 796000], [1430, 351000], [1260, 475000], [1700, 545000], [1830, 383000], [1600, 218500], [2140, 616750], [2080, 436800], [1990, 430000], [1940, 555000], [2010, 495500], [1110, 229800], [1140, 379900], [1960, 460000], [2390, 460000], [1280, 490000], [1780, 342000], [6390, 2466350], [1640, 408000], [1210, 257500], [910, 265000], [2830, 710000], [5180, 2250000], [2170, 755000], [850, 440000], [2480, 1013050], [3320, 679990], [1980, 317750], [1550, 650000], [880, 241000], [4080, 899000], [3526, 911000], [1390, 230000], [1300, 397500], [2050, 256000], [420, 280000], [2400, 525000], [1560, 515000], [1030, 212500], [2280, 721000], [1280, 350000], [1320, 300000], [3880, 917500], [1100, 189650], [2010, 875000], [1890, 400000], [1870, 310000], [1310, 150000], [1950, 255000], [1210, 437500], [1780, 654500], [1000, 180000], [1900, 450000], [1960, 635000], [1380, 550000], [2180, 830000], [2090, 325000], [2430, 524000], [2530, 880000], [2040, 346950], [1620, 657500], [2160, 453000], [3660, 839990], [2450, 340000], [1270, 369950], [1800, 325000], [1300, 676500], [1390, 230000], [1800, 665000], [3690, 780000], [1400, 325000], [2910, 610000], [2970, 745000], [1190, 295950], [1990, 524400], [1270, 402500], [1300, 385000], [1940, 425590], [2100, 375000], [1651, 285000], [4130, 1900000], [4230, 879000], [880, 615000], [2970, 1565000], [2310, 700000], [2550, 847000], [1670, 555565], [4340, 2475000], [1460, 540000], [1220, 698000], [920, 589000], [1650, 685000], [1170, 286000], [2030, 910000], [4750, 770000], [920, 285000], [1720, 264950], [2734, 520000], [2590, 790100], [1360, 499950], [1640, 415000], [1530, 460000], [2500, 669500], [2330, 665000], [2900, 339000], [3470, 772000], [1870, 345000], [2120, 765000], [3070, 620000], [2770, 505000], [2007, 305950], [2310, 364950], [1730, 320000], [1460, 475000], [2050, 383000], [2960, 550000], [2210, 802000], [2340, 485000], [570, 260000], [2740, 730000], [1350, 389000], [1910, 189950], [870, 357000], [1470, 397500], [2060, 340000], [1290, 305000], [1650, 440000], [1820, 425000], [1800, 493500], [2270, 498000], [1670, 329900], [1760, 620047], [2770, 1080000], [4250, 1530000], [2190, 760000], [1120, 285000], [2180, 570000], [2130, 325000], [1390, 191950], [1210, 483300], [998, 324000], [2540, 325000], [3250, 779000], [3230, 765000], [2200, 512500], [2140, 245000], [2750, 635000], [2210, 455000], [2190, 379900], [1040, 210000], [1358, 280000], [2430, 658100], [4250, 2300000], [1860, 625000], [4010, 1325000], [1680, 525000], [1610, 282000], [1530, 231000], [3130, 1010000], [3070, 880000], [1690, 622000], [810, 285000], [3020, 735000], [2800, 345600], [950, 320000], [820, 194000], [1580, 400000], [1230, 460000], [2580, 355000], [4570, 1060000], [3180, 725000], [3640, 1651000], [2870, 765000], [4300, 430000], [910, 425000], [1540, 742000], [2500, 470500], [3120, 790000], [1180, 209950], [1780, 315000], [3130, 745000], [1240, 374950], [1840, 521000], [2240, 530000], [4970, 1436000], [1350, 428000], [1580, 255000], [2240, 610000], [1660, 431000], [2070, 440000], [1070, 219950], [2000, 237000], [2880, 285000], [3180, 1050000], [1730, 535500], [3650, 1280000], [1660, 350000], [780, 289000], [2760, 847093], [3920, 1605000], [2100, 429000], [1760, 690000], [3540, 1027500], [2610, 1000000], [2460, 675000], [2930, 559900], [2290, 1065000], [880, 415000], [2150, 371000], [2770, 359000], [2230, 460000], [2910, 625000], [920, 215150], [4380, 1050000], [960, 322000], [2340, 590000], [1680, 530000], [1290, 225000], [1320, 425000], [4910, 1675000], [1190, 587100], [1690, 499000], [4380, 995000], [860, 256000], [2090, 710000], [2250, 670000], [1380, 350000], [5370, 884900], [3010, 848000], [2620, 775000], [3820, 1620000], [3680, 1600000], [1340, 206135], [1840, 429000], [750, 263500], [1760, 1150000], [1820, 270000], [2050, 790000], [2830, 865000], [2690, 419000], [2440, 510000], [1340, 315000], [2830, 680000], [1010, 405000], [1510, 425000], [3230, 875000], [3230, 591975], [1050, 390000], [1230, 322000], [2100, 399000], [5100, 936000], [2550, 855000], [1330, 230000], [1330, 257000], [1960, 560000], [2530, 720000], [1790, 420000], [2780, 528000], [3500, 970000], [2440, 350000], [2270, 780000], [1790, 304500], [3000, 1688000], [3010, 789500], [2270, 199950], [2740, 549000], [2540, 800000], [2160, 378750], [1030, 718000], [1990, 500000], [2770, 650000], [2350, 615000], [3750, 2903000], [2200, 360000], [2430, 626000], [2680, 379950], [1800, 508500], [1930, 364950], [2030, 730000], [1850, 459950], [1450, 287000], [1950, 802500], [2320, 552500], [1730, 268000], [2350, 339000], [1400, 380000], [1590, 385000], [750, 300000], [960, 232000], [2200, 655000], [3080, 365000], [2650, 850000], [1460, 265000], [1900, 645000], [2840, 585000], [950, 450000], [1250, 235000], [1440, 397000], [1460, 239950], [590, 156000], [820, 365000], [2050, 245000], [1690, 390000], [2020, 868000], [2860, 805000], [1520, 525000], [1740, 339000], [1780, 315000], [3710, 692500], [1580, 517100], [1620, 459000], [1920, 781000], [2540, 475000], [1660, 294999], [1480, 268000], [830, 301500], [1540, 439950], [960, 235000], [1600, 385000], [1130, 384500], [2070, 235000], [1770, 449500], [2380, 415000], [1510, 490000], [2210, 250000], [690, 280000], [1740, 342000], [1690, 420000], [1670, 245000], [1290, 647500], [3080, 300000], [1290, 265000], [1820, 377000], [1660, 412000], [710, 402000], [2280, 320000], [1030, 535000], [1470, 430000], [1590, 463000], [1610, 290900], [3056, 524225], [2710, 560000], [1330, 300000], [1600, 380000], [3140, 389950], [1610, 460000], [1170, 425000], [630, 315000], [1060, 354000], [2060, 429950], [1720, 210000], [1270, 335000], [3140, 1640000], [1300, 369000], [2160, 295000], [2090, 258000], [2620, 539000], [1710, 411753], [750, 375000], [1230, 636000], [1290, 658000], [5810, 1875000], [1650, 730000], [1510, 397500], [2060, 610000], [2710, 410000], [1910, 400000], [2610, 294950], [2940, 503000], [1800, 449950], [1840, 235000], [1370, 720000], [2080, 368000], [1180, 250200], [1710, 385000], [1980, 425000], [1800, 319000], [1520, 550000], [2510, 575000], [1520, 292600], [3460, 971971], [1384, 273000], [2206, 780000], [2030, 493000], [2420, 1490000], [2370, 420000], [1260, 312620], [2640, 1025000], [1790, 280000], [3990, 609000], [1120, 230000], [1630, 507200], [1370, 385000], [1230, 329000], [3490, 1225000], [5660, 955000], [1580, 524500], [2820, 336000], [2230, 620000], [860, 370000], [1720, 340000], [2220, 771000], [1930, 321500], [2040, 812000], [2510, 290500], [1010, 201700], [1980, 329000], [1100, 502501], [1470, 339900], [890, 220000], [1290, 220000], [1880, 617000], [1160, 312000], [1430, 405000], [3350, 910000], [2510, 375000], [2040, 506000], [960, 349810], [950, 200000], [1900, 706000], [2640, 790000], [2410, 745000], [2300, 350000], [2820, 1600000], [1820, 479950], [3370, 540000], [3220, 2375000], [2240, 556000], [2320, 666570], [1530, 250000], [2242, 309780], [1870, 432000], [1260, 305000], [2220, 785000], [2630, 583000], [1840, 720000], [3710, 552500], [1570, 415000], [1690, 467000], [2420, 390000], [2500, 850000], [3560, 1045000], [2100, 521900], [1680, 285000], [1220, 300000], [2060, 625000], [2140, 680000], [2557, 594950], [1910, 335000], [2370, 350000], [810, 238950], [1790, 615000], [1240, 352000], [4150, 930800], [1830, 430000], [2150, 950000], [1760, 387000], [3700, 950000], [4620, 575000], [1740, 205000], [3732, 1225000], [2420, 329990], [1680, 425000], [2410, 608000], [1820, 385000], [1320, 475000], [3370, 595000], [2240, 287500], [3320, 302000], [1730, 670000], [1610, 270000], [1240, 255000], [3136, 665000], [2100, 555000], [2100, 530000], [2270, 311750], [1430, 175000], [2480, 408506], [3450, 688000], [1540, 324000], [1890, 545000], [1180, 400000], [1140, 400000], [2550, 369000], [1520, 425000], [1490, 525000], [1140, 660000], [1810, 400000], [2420, 590000], [1680, 258000], [2130, 534000], [1770, 671500], [1760, 605000], [2130, 475000], [960, 289500], [1950, 323000], [710, 390000], [1250, 287000], [1190, 555000], [1480, 509250], [1930, 435000], [1850, 461000], [2420, 920000], [890, 542000], [2720, 348000], [1880, 284000], [1930, 583000], [1420, 435000], [3440, 730000], [1300, 378000], [1400, 259950], [2180, 435000], [2130, 392000], [1390, 400000], [2220, 576750], [2020, 430000], [1870, 933000], [1310, 470000], [2800, 1465000], [2560, 823000], [2370, 545000], [1920, 325000], [2240, 238000], [1175, 342000], [700, 209995], [2150, 410000], [990, 495000], [2920, 675900], [3120, 1895000], [1580, 495000], [1060, 346000], [2910, 585000], [2040, 240000], [1570, 164950], [1322, 215000], [2650, 340000], [3290, 602000], [1840, 285000], [1210, 660000], [1530, 446000], [5230, 3400000], [2620, 460000], [770, 378510], [1790, 440000], [1460, 235000], [1450, 465000], [1520, 365000], [2910, 410000], [1710, 450000], [3550, 685000], [1340, 549000], [2440, 388000], [1960, 395000], [3530, 963000], [2990, 802541], [950, 335000], [1180, 249000], [2390, 363000], [2780, 1140000], [1090, 219000], [3320, 685000], [540, 425000], [2090, 600000], [2900, 690000], [1160, 306000], [1920, 443500], [2090, 485000], [1940, 580000], [2240, 980000], [2280, 575000], [1490, 260000], [1700, 895000], [1000, 380000], [2692, 436472], [2410, 432000], [3270, 765000], [2480, 550000], [3050, 1475000], [1980, 287000], [2680, 750000], [4140, 950000], [1190, 245000], [2190, 920000], [3970, 810000], [1880, 435000], [840, 208417], [1530, 635000], [2430, 359000], [4160, 1045000], [2790, 751000], [3000, 520000], [1640, 362000], [3770, 665000], [730, 321500], [3010, 775000], [880, 416000], [2320, 779000], [2100, 485000], [2180, 275000], [2250, 328000], [960, 395000], [2040, 580000], [2720, 710000], [2156, 347500], [1290, 239800], [3620, 768500], [1230, 139500], [2860, 378500], [1440, 409000], [2210, 360000], [2820, 697000], [1910, 300000], [2060, 750000], [2330, 700000], [1670, 545000], [2010, 335000], [1980, 660000], [1560, 368000], [1430, 518000], [1690, 277500], [1170, 480000], [1580, 617450], [2060, 410000], [1220, 165000], [1490, 242150], [720, 300000], [1900, 545000], [1680, 555000], [1790, 570000], [1050, 392500], [2330, 585000], [3040, 330000], [1190, 487500], [860, 219900], [2730, 565000], [3920, 1650000], [2000, 265000], [1770, 632500], [990, 285000], [1470, 379770], [2500, 432500], [1960, 405000], [2420, 415000], [2460, 452500], [1570, 502000], [1990, 450000], [1240, 318000], [3710, 635000], [1210, 239000], [1190, 550700], [2480, 585000], [1510, 196000], [3210, 770000], [1450, 257000], [3740, 448000], [2390, 335000], [3238, 355425], [1630, 575000], [1870, 289950], [2680, 475000], [2810, 675000], [1530, 620000], [1330, 249950], [4280, 1900000], [5070, 1100000], [2180, 590000], [1740, 710000], [1260, 374000], [920, 530000], [2760, 821000], [1640, 515000], [1680, 540000], [2800, 569500], [2870, 525000], [3600, 729999], [1810, 375000], [930, 255000], [2370, 348000], [3000, 430000], [990, 325000], [1710, 539000], [2010, 479990], [2060, 244615], [4890, 2400000], [3362, 410500], [1970, 812000], [1400, 190000], [2423, 290000], [1430, 246500], [3410, 1405000], [2900, 485000], [1320, 475000], [1239, 253101], [2790, 459000], [4870, 1835000], [2850, 1150000], [1730, 357500], [1620, 842000], [1790, 570000], [2480, 640000], [2880, 660000], [1470, 652000], [3700, 898000], [2320, 470101], [710, 320000], [1820, 545000], [1350, 419950], [1430, 552500], [710, 289000], [1470, 865000], [1010, 410000], [1620, 428750], [960, 500000], [1910, 300000], [2000, 290000], [1720, 583500], [3440, 554000], [2430, 590000], [1870, 355000], [800, 145000], [3490, 941500], [1740, 261500], [2030, 395000], [1890, 375000], [1790, 370500], [890, 358000], [1250, 253000], [3490, 1264000], [2030, 385000], [1540, 530100], [1651, 363000], [600, 280000], [1540, 439990], [1100, 249900], [2060, 558000], [2680, 575000], [1770, 596500], [2440, 500000], [1760, 444950], [1830, 642450], [1500, 249900], [2670, 405000], [2230, 440000], [1590, 490000], [2740, 705000], [2930, 718000], [4490, 700000], [2260, 925000], [2180, 555000], [4300, 600000], [3250, 1050000], [2400, 325000], [2680, 502000], [1350, 477000], [2370, 1057000], [2300, 683000], [1290, 265000], [7320, 1135250], [2300, 498000], [1310, 234500], [1720, 206000], [2910, 395000], [1440, 410000], [620, 175000], [1600, 392500], [2480, 855000], [2540, 696500], [2390, 339950], [1100, 199990], [1640, 525000], [1650, 400000], [1740, 470000], [2030, 430000], [1520, 550000], [2475, 319900], [3000, 415000], [1410, 255000], [1490, 316000], [2100, 750000], [1260, 200500], [4430, 1960000], [1410, 205000], [1000, 375000], [2720, 368000], [4070, 889000], [2990, 1110000], [2320, 485500], [1790, 250000], [1040, 687500], [950, 305000], [3690, 1125000], [1260, 270000], [1720, 246000], [1650, 390000], [1960, 395000], [1150, 252000], [2270, 575000], [1310, 415885], [3020, 780000], [4420, 2700000], [1470, 420000], [1780, 526000], [1970, 442500], [3330, 760000], [2020, 475000], [1720, 360000], [1070, 350000], [670, 202000], [2060, 275000], [4270, 997950], [1480, 315000], [2690, 635000], [1720, 525000], [2190, 286000], [3020, 275000], [2160, 733000], [1380, 268000], [2140, 524000], [3100, 1450000], [1770, 373000], [2990, 357000], [2795, 562000], [2020, 720000], [1710, 549000], [1520, 447000], [1030, 525000], [2810, 607000], [1310, 311000], [1760, 355000], [2980, 1058800], [2190, 1565000], [1340, 265000], [1430, 465000], [1770, 340500], [3400, 745000], [1230, 400000], [2970, 845000], [780, 286000], [3340, 810000], [1830, 312500], [1160, 215000], [2100, 567000], [1610, 371000], [2110, 615000], [2880, 550000], [3230, 714000], [1230, 424000], [2390, 645500], [4270, 1356925], [1960, 723000], [1730, 423000], [1760, 420000], [2640, 490000], [1300, 462000], [2570, 889000], [1580, 375000], [1470, 239000], [1260, 479000], [1600, 690000], [2060, 640000], [870, 365000], [2950, 739000], [2800, 408000], [3700, 1480000], [720, 438600], [2100, 640000], [2930, 800000], [810, 235000], [1030, 345000]], \"columns\": [{\"dtype\": \"str\", \"name\": \"id\"}, {\"dtype\": \"datetime\", \"name\": \"date\"}, {\"dtype\": \"int\", \"name\": \"price\"}, {\"dtype\": \"str\", \"name\": \"bedrooms\"}, {\"dtype\": \"str\", \"name\": \"bathrooms\"}, {\"dtype\": \"int\", \"name\": \"sqft_living\"}, {\"dtype\": \"int\", \"name\": \"sqft_lot\"}, {\"dtype\": \"str\", \"name\": \"floors\"}, {\"dtype\": \"int\", \"name\": \"waterfront\"}, {\"dtype\": \"int\", \"name\": \"view\"}, {\"dtype\": \"int\", \"name\": \"condition\"}, {\"dtype\": \"int\", \"name\": \"grade\"}, {\"dtype\": \"int\", \"name\": \"sqft_above\"}, {\"dtype\": \"int\", \"name\": \"sqft_basement\"}, {\"dtype\": \"int\", \"name\": \"yr_built\"}, {\"dtype\": \"int\", \"name\": \"yr_renovated\"}, {\"dtype\": \"str\", \"name\": \"zipcode\"}, {\"dtype\": \"float\", \"name\": \"lat\"}, {\"dtype\": \"float\", \"name\": \"long\"}, {\"dtype\": \"float\", \"name\": \"sqft_living15\"}, {\"dtype\": \"float\", \"name\": \"sqft_lot15\"}]}, e);\n",
       "                });\n",
       "            })();\n",
       "        "
      ]
     },
     "metadata": {},
     "output_type": "display_data"
    }
   ],
   "source": [
    "graphlab.canvas.set_target(\"ipynb\")\n",
    "md.show(view=\"Scatter Plot\", x= \"sqft_living\", y= \"price\")\n",
    "\n",
    "\n"
   ]
  },
  {
   "cell_type": "markdown",
   "metadata": {},
   "source": [
    "# create simple linear regresion model\n"
   ]
  },
  {
   "cell_type": "code",
   "execution_count": 6,
   "metadata": {
    "collapsed": true
   },
   "outputs": [],
   "source": [
    "training, test= md.random_split(0.8, seed=0)"
   ]
  },
  {
   "cell_type": "markdown",
   "metadata": {
    "collapsed": false
   },
   "source": [
    "training"
   ]
  },
  {
   "cell_type": "code",
   "execution_count": 24,
   "metadata": {
    "collapsed": false
   },
   "outputs": [
    {
     "data": {
      "application/javascript": [
       "$(\"head\").append($(\"<link/>\").attr({\n",
       "  rel:  \"stylesheet\",\n",
       "  type: \"text/css\",\n",
       "  href: \"//cdnjs.cloudflare.com/ajax/libs/font-awesome/4.1.0/css/font-awesome.min.css\"\n",
       "}));\n",
       "$(\"head\").append($(\"<link/>\").attr({\n",
       "  rel:  \"stylesheet\",\n",
       "  type: \"text/css\",\n",
       "  href: \"//dato.com/files/canvas/1.9/css/canvas.css\"\n",
       "}));\n",
       "\n",
       "            (function(){\n",
       "\n",
       "                var e = null;\n",
       "                if (typeof element == 'undefined') {\n",
       "                    var scripts = document.getElementsByTagName('script');\n",
       "                    var thisScriptTag = scripts[scripts.length-1];\n",
       "                    var parentDiv = thisScriptTag.parentNode;\n",
       "                    e = document.createElement('div');\n",
       "                    parentDiv.appendChild(e);\n",
       "                } else {\n",
       "                    e = element[0];\n",
       "                }\n",
       "\n",
       "                if (typeof requirejs !== 'undefined') {\n",
       "                    // disable load timeout; ipython_app.js is large and can take a while to load.\n",
       "                    requirejs.config({waitSeconds: 0});\n",
       "                }\n",
       "\n",
       "                require(['//dato.com/files/canvas/1.9/js/ipython_app.js'], function(IPythonApp){\n",
       "                    var app = new IPythonApp();\n",
       "                    app.attachView('sframe','Plots', {\"selected_variable\": {\"name\": [\"training\"], \"descriptives\": {\"rows\": 17384, \"columns\": 21}, \"view_component\": \"Plots\", \"view_file\": \"sframe\", \"view_params\": {\"y\": \"price\", \"x\": \"sqft_living\", \"columns\": [\"id\", \"date\", \"price\", \"bedrooms\", \"bathrooms\", \"sqft_living\", \"sqft_lot\", \"floors\", \"waterfront\", \"view\", \"condition\", \"grade\", \"sqft_above\", \"sqft_basement\", \"yr_built\", \"yr_renovated\", \"zipcode\", \"lat\", \"long\", \"sqft_living15\", \"sqft_lot15\"], \"view\": \"Scatter Plot\"}, \"view_components\": [\"Summary\", \"Table\", \"Bar Chart\", \"BoxWhisker Plot\", \"Line Chart\", \"Scatter Plot\", \"Heat Map\", \"Plots\"], \"type\": \"SFrame\", \"columns\": [{\"dtype\": \"str\", \"name\": \"id\"}, {\"dtype\": \"datetime\", \"name\": \"date\"}, {\"dtype\": \"int\", \"name\": \"price\"}, {\"dtype\": \"str\", \"name\": \"bedrooms\"}, {\"dtype\": \"str\", \"name\": \"bathrooms\"}, {\"dtype\": \"int\", \"name\": \"sqft_living\"}, {\"dtype\": \"int\", \"name\": \"sqft_lot\"}, {\"dtype\": \"str\", \"name\": \"floors\"}, {\"dtype\": \"int\", \"name\": \"waterfront\"}, {\"dtype\": \"int\", \"name\": \"view\"}, {\"dtype\": \"int\", \"name\": \"condition\"}, {\"dtype\": \"int\", \"name\": \"grade\"}, {\"dtype\": \"int\", \"name\": \"sqft_above\"}, {\"dtype\": \"int\", \"name\": \"sqft_basement\"}, {\"dtype\": \"int\", \"name\": \"yr_built\"}, {\"dtype\": \"int\", \"name\": \"yr_renovated\"}, {\"dtype\": \"str\", \"name\": \"zipcode\"}, {\"dtype\": \"float\", \"name\": \"lat\"}, {\"dtype\": \"float\", \"name\": \"long\"}, {\"dtype\": \"float\", \"name\": \"sqft_living15\"}, {\"dtype\": \"float\", \"name\": \"sqft_lot15\"}], \"column_identifiers\": [\"bathrooms\", \"sqft_living15\", \"sqft_above\", \"grade\", \"yr_built\", \"price\", \"bedrooms\", \"zipcode\", \"long\", \"id\", \"sqft_lot15\", \"sqft_living\", \"floors\", \"sqft_lot\", \"date\", \"waterfront\", \"sqft_basement\", \"yr_renovated\", \"lat\", \"condition\", \"view\"]}, \"complete\": 1, \"ipython\": true, \"progress\": 1.0, \"data\": [[2300, 350000], [4220, 633000], [770, 180000], [2430, 518000], [3670, 525000], [1720, 845000], [2920, 1738000], [1470, 385000], [1280, 180000], [1628, 250000], [3560, 662500], [1140, 218000], [4160, 1699000], [3270, 940000], [1170, 440000], [1600, 485000], [2430, 381500], [1300, 480000], [1230, 278000], [1010, 290000], [2015, 988500], [1550, 240000], [2190, 808000], [1800, 270000], [1170, 330000], [1520, 438000], [2750, 819000], [2080, 448500], [1480, 520000], [2100, 505000], [2200, 349900], [3260, 565000], [1760, 290000], [820, 389950], [2550, 695000], [1620, 370000], [1280, 300000], [1280, 309000], [2490, 527900], [1570, 212644], [2260, 675000], [480, 170000], [1850, 445000], [2520, 535000], [2700, 552500], [1210, 285000], [1980, 585000], [1160, 210000], [2220, 494950], [2514, 575000], [700, 403500], [2720, 975000], [4340, 1090000], [1553, 412000], [1760, 780500], [2430, 990000], [1250, 350000], [1220, 672000], [1090, 382500], [2230, 305000], [2160, 340000], [1940, 665000], [1410, 510000], [2020, 290000], [1660, 452000], [940, 223000], [2020, 742500], [1760, 500000], [1670, 605000], [2610, 890000], [2570, 621500], [2150, 580000], [1830, 270000], [1240, 662990], [3020, 1185000], [2420, 375000], [2390, 278226], [1010, 395000], [3040, 790000], [2250, 287500], [2420, 349900], [2800, 375000], [1950, 425000], [1310, 216000], [3400, 970000], [2310, 330000], [3020, 275000], [1150, 300000], [2820, 692500], [1520, 260000], [1260, 455000], [3730, 595000], [3770, 1104500], [2910, 485000], [3770, 1495000], [2740, 1070000], [4150, 1950000], [3450, 1378600], [1970, 475000], [3250, 980000], [1500, 651500], [930, 226950], [1430, 575000], [1530, 250000], [3420, 720000], [1010, 229900], [2070, 445800], [2510, 410000], [1440, 805500], [4285, 1650000], [2160, 260000], [1020, 187000], [1690, 462500], [2690, 608000], [3010, 659950], [2640, 1220000], [2120, 637000], [3910, 780000], [1810, 625000], [1750, 750000], [1150, 252000], [2300, 498000], [1720, 341000], [2000, 267000], [2190, 452000], [2550, 990000], [1120, 540000], [2630, 500000], [1360, 244000], [1360, 532170], [1870, 770000], [2280, 419950], [2690, 359950], [1670, 540000], [2380, 370000], [1750, 410000], [2820, 318000], [1760, 320000], [1200, 508000], [4470, 1476000], [2420, 390000], [1260, 280000], [1350, 261000], [1440, 330000], [1510, 489000], [1230, 625000], [2620, 650000], [1140, 276000], [2010, 319000], [1060, 325000], [1950, 269950], [2300, 610000], [4100, 775000], [2830, 539000], [1050, 163500], [1360, 300000], [3090, 1450000], [1940, 555000], [2130, 534000], [1370, 229000], [1790, 410000], [3480, 860000], [770, 264950], [1370, 199950], [840, 208417], [2300, 623000], [1420, 490000], [940, 267000], [1320, 251750], [2510, 520000], [3010, 830000], [860, 210000], [1260, 200500], [3460, 746500], [1570, 485000], [1280, 687500], [2240, 300000], [1200, 395000], [2270, 780000], [700, 330000], [1030, 310000], [3190, 750000], [800, 189900], [2070, 567000], [1340, 227000], [1250, 338000], [1120, 520000], [1370, 275000], [1360, 499950], [2630, 968000], [1900, 431500], [810, 170000], [2689, 425000], [1450, 655000], [2620, 950000], [3870, 1127500], [1820, 377000], [1460, 225000], [2750, 510000], [2870, 710000], [4090, 2400000], [960, 330000], [1940, 781000], [830, 210000], [2050, 455000], [1150, 340000], [1580, 210000], [2180, 657000], [1590, 356000], [1990, 378000], [1560, 481000], [2860, 503000], [2470, 550000], [3010, 615000], [3230, 530000], [1620, 450000], [2170, 250000], [1830, 263000], [1370, 335500], [1860, 315000], [1330, 539950], [1390, 270000], [1650, 233500], [2200, 302495], [2470, 1234568], [1070, 415000], [1767, 205000], [1430, 429950], [1440, 600000], [1690, 330000], [2150, 649950], [1960, 395000], [1980, 309000], [1870, 348500], [900, 140000], [1460, 437000], [1930, 515000], [680, 291970], [1580, 255000], [1640, 207500], [1320, 150000], [4040, 1115000], [1740, 470000], [1370, 797000], [2070, 518000], [3010, 482000], [3596, 580000], [2490, 500000], [1740, 452000], [2920, 1015000], [2000, 549000], [4010, 1325000], [3190, 765000], [1490, 312000], [1480, 425000], [2280, 520000], [2680, 600000], [1510, 199950], [2870, 730000], [1630, 522000], [2230, 464950], [2390, 660000], [1140, 249900], [1310, 514700], [2750, 763776], [2560, 765000], [2090, 290000], [2150, 458000], [1570, 425000], [2040, 872500], [2410, 446800], [2570, 449000], [1750, 322000], [2360, 535000], [2600, 316000], [1600, 425000], [1470, 418900], [1410, 225000], [1980, 455000], [900, 243500], [1550, 348500], [1400, 545000], [2110, 802000], [960, 435000], [1250, 520000], [1250, 475000], [1680, 359000], [1170, 399000], [1710, 389900], [1790, 415000], [1640, 463000], [3530, 1610000], [1760, 470000], [1090, 236000], [2400, 1388000], [2330, 840000], [1470, 250000], [1540, 759600], [1870, 314500], [2660, 313100], [1030, 249000], [1040, 341000], [1980, 660000], [1980, 615000], [3830, 679975], [2680, 600000], [2820, 450000], [1850, 277000], [1610, 305000], [1920, 266950], [3280, 2575000], [1820, 420000], [1380, 389000], [2810, 518380], [4030, 835000], [2380, 695000], [3250, 967500], [1050, 250000], [2120, 550000], [1960, 369990], [2800, 639983], [2020, 535000], [1590, 609500], [2450, 939000], [1480, 427500], [1860, 326995], [1610, 313500], [1090, 300000], [1060, 230000], [1990, 285000], [2085, 563500], [1470, 491150], [1470, 244000], [3420, 789900], [910, 169000], [2590, 779380], [2100, 546000], [3660, 839990], [2190, 310000], [1560, 239950], [2320, 308000], [2520, 598500], [2020, 555000], [2750, 895000], [1720, 430000], [3220, 534950], [2620, 600000], [2600, 599950], [2080, 700000], [3050, 950000], [1200, 225205], [1950, 313200], [1500, 340000], [1785, 530000], [1440, 447000], [1380, 552000], [2600, 580000], [2080, 248000], [1210, 529000], [1960, 509000], [1540, 395000], [1220, 287500], [1480, 600000], [2510, 750000], [1660, 535000], [1660, 203700], [1320, 269000], [1810, 216000], [3490, 745000], [2440, 340000], [1730, 205000], [1370, 276200], [2050, 540000], [1230, 320000], [4190, 1150000], [3120, 855000], [1860, 799950], [4270, 1532500], [1410, 445000], [1720, 230000], [1810, 430000], [820, 475000], [3160, 452100], [1450, 350500], [2120, 530000], [1350, 275000], [2530, 700000], [2120, 645000], [2040, 825000], [1670, 540000], [2170, 242050], [1810, 449000], [2200, 424000], [1250, 440000], [1310, 475000], [3180, 650000], [3830, 989000], [1740, 300000], [2120, 800000], [1210, 529000], [1250, 450000], [1540, 615000], [1250, 308000], [2180, 275000], [900, 89000], [1440, 265000], [2410, 490000], [2630, 725000], [1140, 582500], [1910, 275000], [1610, 450000], [1500, 300000], [2700, 710000], [1050, 250000], [3070, 753000], [2840, 580000], [3555, 895990], [2820, 934000], [2200, 515000], [1980, 307700], [3660, 920000], [3527, 340000], [1770, 660000], [1800, 379900], [4040, 765000], [2460, 735000], [2180, 480000], [2560, 390000], [2580, 481000], [2623, 333000], [2700, 1557600], [2960, 500000], [1580, 213550], [2450, 555000], [1600, 670000], [4920, 850000], [1320, 200000], [2060, 286000], [4210, 1054712], [1470, 700000], [2560, 880000], [2430, 550000], [1850, 405000], [3630, 1180000], [710, 385195], [1040, 234000], [1380, 235500], [3180, 1000000], [2160, 671500], [2120, 1000000], [2560, 442000], [1840, 235000], [1400, 537000], [2600, 540000], [1590, 225000], [1954, 340000], [940, 242500], [2200, 359000], [3490, 1225000], [2440, 499000], [1420, 268500], [1650, 599000], [2160, 640000], [2480, 470000], [2580, 379950], [1770, 243000], [1990, 438000], [1180, 455000], [1780, 399000], [1710, 500000], [2390, 845000], [2630, 778000], [2920, 823000], [2670, 437850], [1310, 600000], [920, 237000], [1430, 520000], [3990, 570000], [1160, 345000], [1840, 601450], [3000, 585000], [2660, 1230000], [1930, 533600], [840, 150000], [1240, 400000], [2120, 379500], [2370, 670000], [1030, 299950], [3470, 875000], [2650, 425000], [2390, 314500], [2040, 580000], [4270, 1610000], [900, 329950], [1270, 254000], [2120, 397950], [5545, 937500], [1660, 225000], [1710, 158550], [2690, 635000], [840, 130000], [2990, 514500], [1200, 173000], [1350, 613000], [920, 412133], [4330, 3168750], [1440, 391265], [2630, 715000], [2230, 544500], [830, 271115], [1480, 235000], [2110, 324000], [1300, 250000], [1500, 294900], [870, 406500], [2120, 600000], [2410, 500000], [2410, 745000], [1380, 253750], [3320, 410000], [1060, 506000], [4600, 880000], [1810, 555700], [2070, 1350000], [3360, 738515], [3010, 1280000], [1670, 290700], [3810, 966000], [1570, 765000], [1650, 295000], [1870, 270000], [1910, 369950], [720, 248500], [2517, 353900], [4690, 1015000], [870, 595000], [3210, 870000], [1620, 333000], [1380, 408000], [1530, 269000], [1820, 515000], [1920, 250000], [1420, 400000], [2700, 850000], [4115, 988830], [1060, 578888], [2360, 441500], [5020, 3650000], [1700, 269500], [2560, 750000], [1122, 265000], [1480, 505000], [2210, 315000], [2090, 405000], [2770, 678000], [3176, 819000], [1250, 259875], [1400, 485000], [1560, 490000], [1060, 325000], [2190, 255000], [2600, 1697000], [800, 162248], [1560, 270000], [1510, 250000], [2480, 340000], [1800, 180500], [1720, 280000], [1230, 433500], [2320, 436300], [2420, 339900], [1560, 387500], [2200, 365000], [2840, 560000], [2860, 1200000], [1980, 395000], [1930, 295000], [1480, 245000], [2900, 485000], [3720, 780000], [4740, 1049000], [2230, 426000], [1440, 253500], [2060, 575550], [2238, 330000], [2080, 740000], [1960, 640000], [2940, 560000], [1710, 453500], [1830, 550000], [1980, 317750], [1020, 335000], [880, 416000], [2260, 365000], [5640, 1999950], [1490, 259000], [860, 205000], [3070, 1295000], [2440, 565000], [1460, 539000], [2060, 648752], [1520, 365000], [2390, 516250], [1451, 300000], [2200, 375000], [880, 405000], [3200, 712000], [2000, 470000], [1190, 320000], [1100, 450000], [2620, 565000], [2890, 930000], [2680, 417400], [1300, 169575], [2610, 610360], [980, 295000], [2460, 750000], [3830, 1050000], [3510, 554820], [2250, 605000], [1920, 230000], [1420, 224097], [1930, 285000], [2450, 712198], [2140, 507000], [1280, 458500], [1670, 661000], [1465, 489000], [1150, 290000], [1300, 515000], [1640, 517000], [2030, 385000], [3420, 1350000], [3110, 531500], [1010, 254000], [2860, 872000], [1660, 490000], [1190, 329000], [2400, 405000], [1610, 725000], [2420, 400000], [1040, 225000], [2620, 394250], [3020, 613500], [2330, 650000], [1340, 495000], [1760, 625000], [2040, 366400], [1790, 325000], [690, 142500], [4240, 1160000], [1820, 465000], [1770, 350500], [1680, 255000], [2020, 519000], [4400, 1120000], [2310, 588000], [1405, 405000], [2260, 649000], [1850, 485000], [2150, 414999], [2520, 680000], [1210, 395000], [2060, 575000], [860, 278000], [3674, 699950], [1190, 245000], [3120, 1895000], [1640, 230000], [4000, 628000], [1340, 485500], [1280, 575000], [3930, 1093000], [1790, 493000], [1520, 438000], [2650, 485000], [3290, 329500], [2490, 442500], [1620, 347500], [1520, 425000], [3990, 1500000], [1900, 545000], [1790, 460000], [850, 294000], [1820, 469000], [2010, 487585], [3540, 1027500], [3320, 852600], [2010, 550000], [2730, 510000], [770, 275000], [2190, 450000], [2390, 379750], [1570, 450000], [1310, 663500], [1590, 490000], [2068, 276000], [1650, 350000], [3160, 1250000], [1170, 119500], [1550, 350000], [2890, 598000], [1300, 675000], [1910, 485000], [2240, 625000], [1840, 720000], [1570, 359950], [1050, 350000], [2190, 730000], [1970, 432000], [2070, 662500], [2620, 321500], [1300, 275000], [2560, 599000], [1982, 283200], [1780, 459000], [2770, 750000], [1760, 643950], [830, 160000], [3290, 762500], [2620, 470000], [790, 118125], [1620, 290000], [1750, 324000], [2200, 472000], [1390, 246000], [1150, 203000], [5770, 3850000], [1680, 675000], [2680, 1355000], [2320, 525000], [1720, 683000], [2980, 515000], [1300, 502000], [2200, 465000], [1740, 252000], [4890, 1780000], [1940, 580000], [1260, 405000], [1920, 303500], [3216, 498445], [1320, 510000], [4280, 1600000], [2240, 630000], [1970, 540000], [1930, 435000], [1680, 289000], [2550, 454000], [1900, 542000], [1570, 485000], [1370, 327000], [1650, 299000], [4470, 598800], [2830, 515500], [4140, 720000], [4100, 890000], [1020, 265000], [2403, 519900], [2360, 405000], [1630, 224950], [2100, 323000], [1930, 319000], [1540, 312000], [2210, 335000], [1350, 325000], [1150, 175000], [1270, 348000], [1630, 925000], [970, 205950], [3220, 775000], [3940, 725000], [2980, 1285000], [1280, 340000], [3370, 998000], [2070, 490000], [1904, 365000], [2530, 525000], [2720, 420000], [960, 457500], [3060, 657000], [3050, 865000], [3600, 817500], [1690, 318000], [1260, 240000], [1360, 535000], [2470, 361000], [2020, 317000], [2320, 325900], [2770, 675000], [1450, 274500], [3220, 485000], [760, 530000], [2380, 420000], [2790, 1800000], [1140, 550000], [4010, 849000], [3760, 2230000], [1260, 300000], [1320, 352000], [1950, 390000], [2340, 850000], [1180, 345000], [1100, 150000], [3960, 1395713], [1280, 165000], [1690, 379950], [2245, 389990], [1210, 353000], [1780, 538200], [1680, 260000], [1250, 164808], [2710, 419354], [1460, 427005], [2320, 380000], [1430, 522500], [2400, 338000], [2580, 865000], [2130, 779000], [2560, 255000], [3150, 705000], [1580, 402000], [2200, 585000], [1840, 340000], [4250, 2450000], [2830, 744000], [930, 230950], [1776, 620000], [2070, 395000], [900, 315000], [3070, 420000], [1070, 175000], [1770, 487000], [2050, 601002], [2520, 536000], [1130, 415000], [2110, 288250], [2130, 620000], [1000, 295000], [1640, 415000], [980, 215000], [2846, 482000], [2300, 705000], [1880, 735000], [2100, 759000], [1830, 273000], [2450, 760000], [2130, 378000], [2270, 375000], [1960, 560000], [730, 140000], [1190, 312000], [3420, 1225000], [3430, 1010000], [1870, 259000], [720, 435000], [1060, 515000], [2140, 625000], [1580, 214000], [2780, 550000], [2650, 695000], [1640, 319000], [1850, 249000], [1970, 490000], [790, 285000], [2720, 545000], [1710, 322400], [2940, 464500], [3000, 379000], [1910, 650000], [1040, 183500], [1000, 159995], [2990, 350000], [1420, 523950], [2130, 616000], [2650, 665000], [2340, 949950], [3250, 718000], [800, 295000], [3260, 1280000], [1280, 425000], [1450, 440000], [1230, 200000], [1820, 276000], [960, 232000], [1640, 190000], [1110, 375000], [1970, 400000], [2990, 772000], [1460, 399000], [1150, 436000], [2090, 315000], [1960, 289950], [1300, 273500], [1220, 165000], [1110, 190500], [2050, 739000], [1570, 476000], [1610, 659950], [2590, 465000], [1440, 409000], [7320, 1135250], [3730, 690000], [1250, 110000], [1310, 219000], [2100, 480000], [2020, 625000], [2640, 462000], [680, 365000], [1140, 355000], [1640, 635200], [1410, 355000], [1240, 529950], [1650, 385000], [1540, 263500], [2340, 290000], [4330, 1700000], [2610, 650000], [1040, 619790], [880, 291500], [960, 545000], [1410, 377500], [2550, 847000], [2320, 666570], [1460, 443750], [1860, 477500], [3120, 760000], [2000, 520000], [2930, 1385000], [900, 185000], [1280, 279000], [3380, 865000], [1570, 367500], [1980, 416000], [2880, 535000], [1450, 440000], [2200, 680000], [1320, 594000], [1440, 250000], [3300, 925000], [2370, 585000], [1000, 417200], [2040, 355000], [1960, 540000], [1170, 512000], [2100, 491500], [1600, 375000], [1130, 411500], [3450, 525000], [1580, 617450], [2820, 690000], [1860, 380000], [1740, 435000], [3050, 465000], [2750, 869900], [2820, 1450000], [2740, 510000], [2510, 267345], [3710, 935000], [1950, 622000], [4260, 994000], [2660, 729000], [1780, 415000], [1160, 351000], [4285, 1890000], [2140, 280000], [1130, 565000], [5960, 1355000], [2300, 665000], [2110, 496000], [1260, 207200], [1310, 455000], [3720, 828500], [1646, 305000], [2990, 373000], [2130, 370000], [3110, 2260000], [2600, 610000], [2350, 399950], [1130, 185000], [2250, 792000], [2190, 491500], [2110, 325000], [1100, 241450], [2200, 1050000], [1960, 569500], [1190, 455000], [2040, 1272500], [3720, 960000], [2350, 291000], [2450, 450000], [1700, 539000], [3500, 879950], [1120, 265000], [2480, 372500], [1270, 447000], [1570, 660000], [2510, 605000], [1010, 350000], [3640, 925000], [1440, 332500]], \"columns\": [{\"dtype\": \"str\", \"name\": \"id\"}, {\"dtype\": \"datetime\", \"name\": \"date\"}, {\"dtype\": \"int\", \"name\": \"price\"}, {\"dtype\": \"str\", \"name\": \"bedrooms\"}, {\"dtype\": \"str\", \"name\": \"bathrooms\"}, {\"dtype\": \"int\", \"name\": \"sqft_living\"}, {\"dtype\": \"int\", \"name\": \"sqft_lot\"}, {\"dtype\": \"str\", \"name\": \"floors\"}, {\"dtype\": \"int\", \"name\": \"waterfront\"}, {\"dtype\": \"int\", \"name\": \"view\"}, {\"dtype\": \"int\", \"name\": \"condition\"}, {\"dtype\": \"int\", \"name\": \"grade\"}, {\"dtype\": \"int\", \"name\": \"sqft_above\"}, {\"dtype\": \"int\", \"name\": \"sqft_basement\"}, {\"dtype\": \"int\", \"name\": \"yr_built\"}, {\"dtype\": \"int\", \"name\": \"yr_renovated\"}, {\"dtype\": \"str\", \"name\": \"zipcode\"}, {\"dtype\": \"float\", \"name\": \"lat\"}, {\"dtype\": \"float\", \"name\": \"long\"}, {\"dtype\": \"float\", \"name\": \"sqft_living15\"}, {\"dtype\": \"float\", \"name\": \"sqft_lot15\"}]}, e);\n",
       "                });\n",
       "            })();\n",
       "        "
      ]
     },
     "metadata": {},
     "output_type": "display_data"
    }
   ],
   "source": [
    "graphlab.canvas.set_target('ipynb')\n",
    "training.show(view= \"Scatter Plot\", x= \"sqft_living\", y= \"price\")\n",
    "             "
   ]
  },
  {
   "cell_type": "code",
   "execution_count": 25,
   "metadata": {
    "collapsed": false
   },
   "outputs": [
    {
     "data": {
      "application/javascript": [
       "$(\"head\").append($(\"<link/>\").attr({\n",
       "  rel:  \"stylesheet\",\n",
       "  type: \"text/css\",\n",
       "  href: \"//cdnjs.cloudflare.com/ajax/libs/font-awesome/4.1.0/css/font-awesome.min.css\"\n",
       "}));\n",
       "$(\"head\").append($(\"<link/>\").attr({\n",
       "  rel:  \"stylesheet\",\n",
       "  type: \"text/css\",\n",
       "  href: \"//dato.com/files/canvas/1.9/css/canvas.css\"\n",
       "}));\n",
       "\n",
       "            (function(){\n",
       "\n",
       "                var e = null;\n",
       "                if (typeof element == 'undefined') {\n",
       "                    var scripts = document.getElementsByTagName('script');\n",
       "                    var thisScriptTag = scripts[scripts.length-1];\n",
       "                    var parentDiv = thisScriptTag.parentNode;\n",
       "                    e = document.createElement('div');\n",
       "                    parentDiv.appendChild(e);\n",
       "                } else {\n",
       "                    e = element[0];\n",
       "                }\n",
       "\n",
       "                if (typeof requirejs !== 'undefined') {\n",
       "                    // disable load timeout; ipython_app.js is large and can take a while to load.\n",
       "                    requirejs.config({waitSeconds: 0});\n",
       "                }\n",
       "\n",
       "                require(['//dato.com/files/canvas/1.9/js/ipython_app.js'], function(IPythonApp){\n",
       "                    var app = new IPythonApp();\n",
       "                    app.attachView('sframe','Plots', {\"selected_variable\": {\"name\": [\"test\"], \"descriptives\": {\"rows\": 4229, \"columns\": 21}, \"view_component\": \"Plots\", \"view_file\": \"sframe\", \"view_params\": {\"y\": \"price\", \"x\": \"sqft_living\", \"columns\": [\"id\", \"date\", \"price\", \"bedrooms\", \"bathrooms\", \"sqft_living\", \"sqft_lot\", \"floors\", \"waterfront\", \"view\", \"condition\", \"grade\", \"sqft_above\", \"sqft_basement\", \"yr_built\", \"yr_renovated\", \"zipcode\", \"lat\", \"long\", \"sqft_living15\", \"sqft_lot15\"], \"view\": \"Scatter Plot\"}, \"view_components\": [\"Summary\", \"Table\", \"Bar Chart\", \"BoxWhisker Plot\", \"Line Chart\", \"Scatter Plot\", \"Heat Map\", \"Plots\"], \"type\": \"SFrame\", \"columns\": [{\"dtype\": \"str\", \"name\": \"id\"}, {\"dtype\": \"datetime\", \"name\": \"date\"}, {\"dtype\": \"int\", \"name\": \"price\"}, {\"dtype\": \"str\", \"name\": \"bedrooms\"}, {\"dtype\": \"str\", \"name\": \"bathrooms\"}, {\"dtype\": \"int\", \"name\": \"sqft_living\"}, {\"dtype\": \"int\", \"name\": \"sqft_lot\"}, {\"dtype\": \"str\", \"name\": \"floors\"}, {\"dtype\": \"int\", \"name\": \"waterfront\"}, {\"dtype\": \"int\", \"name\": \"view\"}, {\"dtype\": \"int\", \"name\": \"condition\"}, {\"dtype\": \"int\", \"name\": \"grade\"}, {\"dtype\": \"int\", \"name\": \"sqft_above\"}, {\"dtype\": \"int\", \"name\": \"sqft_basement\"}, {\"dtype\": \"int\", \"name\": \"yr_built\"}, {\"dtype\": \"int\", \"name\": \"yr_renovated\"}, {\"dtype\": \"str\", \"name\": \"zipcode\"}, {\"dtype\": \"float\", \"name\": \"lat\"}, {\"dtype\": \"float\", \"name\": \"long\"}, {\"dtype\": \"float\", \"name\": \"sqft_living15\"}, {\"dtype\": \"float\", \"name\": \"sqft_lot15\"}], \"column_identifiers\": [\"bathrooms\", \"sqft_living15\", \"sqft_above\", \"grade\", \"yr_built\", \"price\", \"bedrooms\", \"zipcode\", \"long\", \"id\", \"sqft_lot15\", \"sqft_living\", \"floors\", \"sqft_lot\", \"date\", \"waterfront\", \"sqft_basement\", \"yr_renovated\", \"lat\", \"condition\", \"view\"]}, \"complete\": 1, \"ipython\": true, \"progress\": 1.0, \"data\": [[1430, 310000], [2950, 650000], [2010, 740000], [1370, 257950], [1410, 225000], [2620, 605000], [1540, 485000], [4500, 870000], [4420, 890000], [1470, 459500], [1340, 474905], [1320, 206000], [2160, 305000], [1620, 275000], [1530, 154000], [1160, 440000], [900, 249500], [3170, 820000], [1860, 217000], [2350, 643403], [1170, 250000], [2020, 1400000], [2100, 399000], [2740, 779000], [2300, 610000], [1560, 284000], [3300, 1350000], [1880, 412000], [1470, 510000], [1600, 442500], [890, 220000], [1790, 199900], [2440, 677900], [2040, 812000], [1010, 310000], [2120, 370000], [2480, 450000], [1630, 246000], [840, 86500], [1440, 245000], [2040, 417000], [1380, 322000], [1480, 600000], [2460, 995000], [2000, 330000], [3830, 2050000], [2080, 357500], [1140, 518000], [1940, 380000], [1970, 550000], [2040, 208633], [1940, 577000], [2450, 682000], [370, 276000], [1370, 168000], [1010, 525000], [1450, 230000], [2000, 474500], [4130, 998000], [2430, 770000], [1380, 350000], [2930, 559900], [2100, 610000], [3090, 938000], [920, 208000], [420, 280000], [560, 299000], [1860, 280000], [3340, 870000], [860, 219900], [3040, 795000], [3520, 810000], [1300, 515000], [3828, 552900], [1640, 450000], [3390, 350000], [960, 345000], [1980, 490000], [2250, 589000], [3300, 927000], [2720, 530000], [1820, 582000], [2382, 345000], [2700, 669000], [1660, 279000], [2170, 420000], [1180, 220000], [1850, 230000], [1270, 235000], [4040, 988000], [2810, 479950], [1313, 885000], [1120, 335900], [2460, 960000], [1040, 230000], [3150, 727000], [710, 402000], [1658, 263900], [1610, 290900], [2090, 400000], [2550, 543500], [3800, 380000], [1350, 571000], [1200, 260000], [1650, 219950], [2286, 481000], [1330, 240000], [1300, 462000], [4760, 2250000], [2050, 300000], [6050, 1600000], [2860, 289275], [1340, 475000], [1630, 426000], [5403, 2125000], [2000, 236000], [1170, 302000], [1650, 379880], [3960, 1180000], [1180, 610000], [2240, 440000], [1830, 338900], [1080, 124000], [2480, 1013050], [3160, 660000], [2190, 289950], [2480, 468000], [1610, 338950], [1800, 365000], [2420, 774888], [2570, 654000], [1360, 415000], [1070, 415000], [2910, 645000], [3740, 595000], [2420, 279950], [2260, 514000], [1270, 259000], [2500, 575000], [1690, 705000], [2300, 612000], [2040, 506000], [2828, 367000], [1830, 373000], [1990, 309950], [1320, 499950], [2450, 559950], [2320, 600000], [2670, 515000], [2810, 571500], [1440, 210000], [1750, 510000], [1940, 306888], [4230, 985000], [2550, 895000], [2156, 347500], [2520, 420000], [3050, 740000], [1790, 472500], [2150, 950000], [2440, 769000], [3380, 600000], [1400, 330000], [1500, 490000], [1950, 525126], [2260, 648360], [1280, 279900], [2700, 810000], [2890, 706000], [2300, 615000], [1630, 422120], [2990, 625000], [1900, 335000], [1630, 574800], [1570, 371000], [1640, 443000], [2030, 500000], [920, 555500], [3350, 1000000], [3130, 649000], [1650, 539900], [1870, 619100], [2500, 350000], [2040, 720000], [2200, 930000], [1320, 445800], [1330, 374000], [1980, 418000], [1700, 245000], [1820, 318400], [1410, 205000], [2390, 420000], [1920, 329950], [3220, 579000], [2020, 253000], [1580, 350000], [1810, 260000], [1790, 544000], [4050, 1380000], [1830, 429950], [1760, 420000], [1640, 505000], [740, 178500], [3050, 585000], [1880, 326000], [1930, 321500], [1120, 225000], [2390, 420000], [1920, 554000], [3870, 900000], [1660, 530000], [2020, 496600], [2930, 549950], [1580, 389950], [2600, 300000], [1413, 286800], [2530, 1120275], [2230, 368750], [1940, 525000], [1740, 280000], [1810, 208000], [5584, 1680000], [1900, 340000], [1380, 295000], [1010, 347000], [1920, 455000], [1740, 550000], [2960, 367000], [3070, 1715000], [2200, 295000], [1350, 353000], [2020, 302000], [2584, 429900], [1590, 255000], [2300, 680000], [560, 90000], [1860, 510000], [1020, 350000], [3520, 905000], [3230, 699000], [5220, 1481000], [1520, 460000], [2550, 277500], [2010, 960000], [1890, 430000], [1420, 349950], [1020, 393000], [1540, 640000], [1860, 250000], [1890, 805000], [4190, 460000], [4260, 1000000], [2920, 760000], [2280, 320000], [1710, 211000], [1720, 555000], [1510, 415000], [2400, 335750], [2290, 661254], [1980, 410500], [1970, 289000], [2610, 665000], [1860, 477500], [1280, 167000], [1120, 380000], [2800, 915000], [1400, 510250], [1700, 500000], [1430, 399000], [2950, 530000], [1620, 600000], [1510, 279950], [830, 110000], [2120, 1200000], [880, 427550], [2080, 567500], [1950, 392500], [2070, 405000], [3230, 729953], [1530, 570000], [3120, 615000], [4120, 1250000], [1420, 294000], [3660, 1107461], [2790, 1131000], [2680, 590000], [930, 287000], [1920, 260000], [1860, 267500], [2550, 460000], [1700, 161000], [3510, 1370000], [1200, 275000], [2980, 725000], [1610, 280000], [920, 340895], [3320, 667000], [2570, 715000], [1680, 308000], [2500, 350000], [2740, 672800], [3080, 440000], [3020, 755000], [1500, 707500], [1320, 159000], [2650, 370000], [3090, 540500], [820, 365000], [2690, 340000], [1440, 203000], [1120, 329000], [5370, 1350000], [2798, 499950], [2200, 460000], [1400, 231200], [6563, 1300000], [1150, 346500], [3010, 745000], [1640, 390000], [1240, 319950], [1060, 310000], [970, 546000], [1390, 191950], [2150, 615000], [1790, 425000], [2270, 479000], [1070, 361500], [1420, 475000], [880, 330000], [1850, 515000], [1790, 390000], [1670, 500000], [2500, 895000], [2900, 790000], [3140, 925850], [1370, 667000], [600, 110000], [850, 490000], [1890, 325000], [4020, 900000], [1510, 299000], [2190, 340000], [4750, 1309500], [1760, 437500], [1975, 311000], [2150, 470000], [1310, 470000], [1560, 400000], [1552, 264000], [1720, 493000], [930, 281000], [2140, 616750], [1740, 340000], [3690, 440000], [1730, 315000], [2920, 555000], [2090, 550000], [1600, 390000], [1450, 230000], [2360, 392000], [1020, 230000], [1970, 297000], [4370, 2350000], [1390, 635000], [2310, 495000], [2420, 950000], [2600, 330000], [1920, 240000], [3630, 633000], [2360, 480000], [3360, 950000], [2100, 283000], [1220, 280500], [2360, 753000], [1490, 467500], [3620, 1525000], [3880, 762300], [2400, 590000], [3990, 1068000], [2850, 750000], [880, 248500], [680, 193000], [2100, 207000], [4570, 1580000], [2130, 380000], [2080, 345000], [2030, 730000], [2790, 1045000], [1280, 405000], [1280, 552000], [1500, 578000], [1890, 525000], [1760, 680000], [2540, 487000], [2050, 540000], [2250, 390000], [2650, 715000], [2020, 490000], [770, 257000], [680, 200000], [1700, 616000], [1810, 358000], [1040, 227000], [1160, 312000], [3480, 810000], [2280, 626100], [1460, 237950], [1980, 760000], [2190, 719950], [2120, 720000], [1010, 350000], [1590, 463000], [3000, 887000], [2610, 440000], [1760, 620047], [2420, 369946], [3030, 580000], [2390, 926250], [1680, 427000], [3480, 1800000], [1780, 443000], [1370, 548000], [870, 235000], [3300, 920000], [2410, 715000], [2400, 300000], [2570, 492500], [1150, 171500], [2180, 570000], [920, 203000], [1420, 335000], [2716, 452000], [3470, 920000], [1120, 365000], [2750, 865000], [3240, 575000], [1730, 355000], [2100, 735000], [2250, 550000], [3040, 620000], [1580, 524500], [2660, 765000], [1509, 420000], [1680, 425000], [2190, 520000], [2800, 752875], [1290, 205000], [1840, 490000], [1290, 441000], [2630, 665000], [3840, 875000], [1910, 435000], [2220, 464000], [1880, 320000], [2240, 410000], [1430, 375000], [1300, 439888], [2440, 720000], [1509, 401500], [2190, 418500], [1650, 282500], [1880, 389800], [1190, 276693], [1700, 410000], [1800, 471001], [3060, 446500], [800, 265050], [1430, 245500], [1350, 389000], [2290, 625000], [1760, 281000], [1420, 260000], [1920, 230000], [1850, 819000], [1160, 361550], [2060, 885000], [950, 520000], [2540, 299000], [3500, 799000], [2270, 446000], [950, 325000], [3340, 910000], [3600, 923990], [1740, 395000], [1560, 430000], [2180, 279000], [1700, 545000], [1760, 500000], [4220, 1060000], [4090, 1150000], [3020, 575000], [1960, 355950], [2150, 392500], [1100, 277000], [3160, 1600000], [2340, 438000], [2490, 306000], [840, 290000], [2820, 810000], [2110, 425000], [2590, 300000], [650, 129000], [3480, 970000], [1840, 285000], [1360, 425000], [1760, 615000], [1370, 238000], [1300, 249000], [910, 330000], [4410, 1625000], [1740, 299950], [980, 350000], [1770, 286000], [3020, 354000], [2210, 375000], [2000, 756100], [2660, 525000], [1210, 305000], [1850, 611000], [2550, 550000], [3440, 1225000], [1800, 335620], [2690, 760000], [1880, 565000], [1940, 423000], [1380, 473000], [1500, 240000], [2120, 428000], [1200, 250000], [2000, 358500], [2000, 630000], [720, 210000], [3770, 872000], [2980, 900000], [2430, 412950], [1660, 619000], [1250, 225000], [2350, 650000], [970, 219900], [1540, 240000], [2490, 470000], [1610, 715000], [2410, 610000], [2850, 710000], [2560, 780000], [800, 195000], [2790, 695000], [1890, 298500], [2310, 890000], [3020, 530000], [1200, 375000], [1990, 536000], [2370, 597000], [2110, 780000], [1980, 220000], [2150, 580000], [1730, 275000], [1980, 638500], [1360, 223000], [1980, 711000], [2150, 411000], [4130, 775000], [1480, 256000], [3610, 870000], [1980, 380000], [1980, 450000], [1960, 460000], [1140, 576000], [1290, 240000], [3570, 725000], [1400, 399950], [1584, 267000], [1760, 322000], [2280, 335000], [3920, 760000], [1030, 595000], [2790, 751000], [2600, 425000], [3590, 798000], [2760, 424950], [3160, 650000], [3560, 790000], [5850, 1525000], [1690, 430000], [3290, 799000], [2020, 633000], [1960, 280000], [1490, 550000], [5450, 3418800], [2350, 725000], [2160, 335000], [3540, 920000], [2170, 550000], [1670, 274950], [2140, 250750], [1590, 339275], [3140, 400000], [1920, 495000], [1430, 198000], [3100, 449950], [1580, 305000], [3360, 590000], [4670, 1238000], [2060, 244615], [1250, 485000], [1710, 488500], [1820, 515000], [3260, 552500], [3040, 598555], [3380, 1346400], [3120, 653000], [1930, 250600], [1820, 430000], [2090, 200000], [2710, 502700], [1080, 210000], [3180, 1130000], [2240, 309000], [2730, 1030000], [860, 170000], [840, 308500], [1160, 250000], [2180, 545000], [1010, 400000], [2660, 310000], [2340, 428000], [2400, 585000], [970, 209950], [1130, 325000], [2660, 549995], [1070, 660000], [1720, 775000], [3830, 1850000], [1050, 175000], [1240, 427500], [1050, 310000], [2910, 585083], [1580, 551000], [1460, 497000], [1520, 314950], [1640, 308000], [2110, 1150000], [790, 439000], [1820, 500007], [1680, 450000], [1780, 475000], [2200, 358000], [2050, 210000], [3090, 370000], [2550, 855000], [700, 340000], [2650, 425000], [2240, 555000], [1860, 380000], [1320, 342000], [830, 385000], [1210, 285000], [1110, 255000], [2580, 787888], [4660, 2147500], [1880, 410000], [1220, 483000], [2370, 335000], [2230, 435000], [710, 264000], [1540, 539000], [2290, 325500], [1890, 420000], [1660, 315000], [2270, 292000], [680, 510000], [2710, 715000], [3100, 795000], [1480, 560000], [3920, 918000], [2730, 756000], [3070, 1570000], [2390, 629800], [2700, 390000], [1490, 368888], [1530, 536000], [1340, 400000], [2200, 1100000], [1230, 410000], [3320, 805000], [3430, 1202500], [1440, 420000], [1810, 329500], [2350, 805000], [1820, 359000], [2180, 910000], [1890, 826000], [2240, 700000], [1220, 249900], [2430, 490000], [1860, 967000], [1640, 299999], [1260, 259000], [1140, 277000], [2280, 597000], [5270, 782000], [1170, 459500], [2790, 375000], [880, 334550], [3680, 595000], [1160, 201500], [1060, 275000], [2350, 449000], [1140, 200000], [3110, 600000], [2160, 849000], [960, 225000], [4350, 2065000], [2400, 705640], [2150, 380000], [2720, 910000], [2310, 685000], [2020, 356000], [2790, 484259], [2993, 540000], [3630, 716500], [3310, 885000], [1970, 600000], [1820, 438000], [2340, 525000], [3310, 670000], [2440, 700000], [3410, 720000], [5230, 1350000], [2070, 320000], [2120, 285000], [1510, 420000], [2150, 355000], [5370, 884900], [2070, 289950], [1800, 493500], [1350, 250000], [980, 435000], [1090, 289950], [1150, 350000], [1140, 549000], [1480, 580000], [1510, 247000], [2540, 374950], [2560, 655000], [1880, 435000], [1580, 325000], [760, 95000], [2700, 357000], [2060, 306500], [1360, 445000], [1210, 310000], [3620, 856000], [1460, 250000], [1480, 584000], [930, 300000], [2380, 735000], [2960, 385000], [3010, 359950], [800, 388000], [3100, 850000], [550, 188000], [1450, 357500], [1200, 210000], [1440, 337000], [2740, 530000], [1340, 357000], [5470, 1612500], [1020, 165000], [1180, 289900], [1100, 395000], [3410, 1225000], [2170, 876650], [1270, 415000], [840, 220000], [1540, 325500], [4030, 920000], [1190, 425000], [1890, 825000], [1870, 449000], [3330, 1210000], [1530, 635000], [1010, 230000], [2770, 711000], [1500, 215000], [3640, 1200688], [2710, 1200000], [1950, 400000], [1640, 275000], [2360, 370000], [910, 422500], [3280, 925000], [1990, 359000], [2110, 460000], [2160, 665000], [1640, 242000], [1920, 502000], [1180, 207000], [5000, 1250000], [3550, 720000], [1940, 627000], [2110, 324950], [2730, 632000], [2240, 975000], [3190, 760750], [1710, 362500], [2620, 538000], [4180, 550000], [1180, 435000], [2830, 1086000], [2950, 810000], [1730, 465000], [2090, 725000], [1610, 449950], [2390, 269950], [3610, 830005], [1680, 525000], [1160, 340000], [2840, 640000], [1920, 542500], [2220, 275000], [2680, 698000], [1120, 399000], [2600, 452000], [3490, 1264000], [3250, 800000], [2160, 475000], [3366, 1300000], [2000, 318989], [1600, 365000], [2890, 655000], [1900, 407500], [560, 249900], [1260, 523000], [2400, 569000], [650, 295000], [1230, 393500], [2490, 950000], [1730, 423000], [1651, 363000], [1480, 650000], [1000, 249000], [1160, 350000], [2430, 560000], [1330, 375000], [960, 208000], [1890, 475000], [940, 375000], [860, 222900], [1240, 375000], [2540, 510000], [2200, 457000], [2100, 330000], [1400, 348125], [3980, 925900], [2840, 339000], [1180, 347500], [3370, 1245000], [1560, 500000], [2890, 978000], [1580, 267000], [1120, 435000], [1500, 437000], [1470, 300000], [4050, 1288000], [3250, 1050000], [1180, 338900], [5540, 2630000], [1490, 289999], [1610, 565000], [1270, 425000], [1900, 360000], [1870, 285000], [1900, 315000], [840, 202000], [3240, 812000], [1740, 525000], [3420, 965000], [1445, 415000], [1710, 332544], [1870, 554000], [2190, 920000], [2840, 450000], [2120, 733500], [2880, 1125000], [4410, 1437500], [1620, 327000], [1400, 217000], [1560, 448000], [1080, 345000], [1400, 310000], [1240, 352900], [1490, 285000], [910, 301000], [2120, 470000], [1820, 469950], [1530, 338000], [1370, 190000], [1460, 685000], [1640, 190000], [1410, 335000], [1910, 630100], [1400, 470000], [1330, 344950], [2220, 585000], [2038, 319950], [1760, 554000], [2190, 435000], [1330, 245000], [2370, 800000], [1970, 291700], [1360, 329950], [4420, 2700000], [4640, 1267500], [800, 414000], [1770, 375000], [2540, 800000], [1940, 540000], [1910, 260000], [2300, 765000], [1110, 293000], [2310, 319950], [1260, 300000], [1440, 330490], [1250, 234900], [2760, 424950], [3170, 890776], [2070, 450000], [950, 330000], [4590, 1135000], [790, 342888], [2170, 315000], [2420, 445000], [1140, 310000], [2640, 650000], [1760, 720000], [1410, 415000], [770, 275000], [1140, 455000], [2090, 489900], [1910, 650000], [1790, 437500], [1900, 675000], [1540, 392500], [4280, 1200000], [2660, 580000], [3560, 1160000], [950, 515000], [1220, 253000], [920, 229950], [1833, 719000], [2100, 500000], [3920, 825000], [900, 529500], [2180, 488000], [1270, 390000], [4320, 1040000], [2270, 435000], [2680, 1028950], [2500, 799000], [1870, 832500], [1350, 401000], [5430, 1360000], [3560, 435000], [2250, 370000], [800, 350000], [2290, 209950], [1980, 319950], [2130, 450000], [2200, 259875], [3270, 1305000], [1580, 247800], [2710, 624000], [3230, 815000], [1800, 655000], [982, 250000], [3820, 830000], [2220, 490000], [1090, 149000], [1240, 345000], [1270, 406000], [1660, 368000], [1610, 203000], [950, 320000], [2090, 349950], [1830, 410000], [1040, 440000], [2540, 630000], [1110, 600000], [1560, 368000], [1240, 405000], [2190, 464950], [2680, 608095], [860, 215000], [1040, 430000], [2010, 479990], [1300, 270000], [1460, 225000], [1530, 649000], [1790, 475000]], \"columns\": [{\"dtype\": \"str\", \"name\": \"id\"}, {\"dtype\": \"datetime\", \"name\": \"date\"}, {\"dtype\": \"int\", \"name\": \"price\"}, {\"dtype\": \"str\", \"name\": \"bedrooms\"}, {\"dtype\": \"str\", \"name\": \"bathrooms\"}, {\"dtype\": \"int\", \"name\": \"sqft_living\"}, {\"dtype\": \"int\", \"name\": \"sqft_lot\"}, {\"dtype\": \"str\", \"name\": \"floors\"}, {\"dtype\": \"int\", \"name\": \"waterfront\"}, {\"dtype\": \"int\", \"name\": \"view\"}, {\"dtype\": \"int\", \"name\": \"condition\"}, {\"dtype\": \"int\", \"name\": \"grade\"}, {\"dtype\": \"int\", \"name\": \"sqft_above\"}, {\"dtype\": \"int\", \"name\": \"sqft_basement\"}, {\"dtype\": \"int\", \"name\": \"yr_built\"}, {\"dtype\": \"int\", \"name\": \"yr_renovated\"}, {\"dtype\": \"str\", \"name\": \"zipcode\"}, {\"dtype\": \"float\", \"name\": \"lat\"}, {\"dtype\": \"float\", \"name\": \"long\"}, {\"dtype\": \"float\", \"name\": \"sqft_living15\"}, {\"dtype\": \"float\", \"name\": \"sqft_lot15\"}]}, e);\n",
       "                });\n",
       "            })();\n",
       "        "
      ]
     },
     "metadata": {},
     "output_type": "display_data"
    }
   ],
   "source": [
    "graphlab.canvas.set_target(\"ipynb\")\n",
    "test.show(view= \"Scatter Plot\", x=\"sqft_living\", y =\"price\")\n"
   ]
  },
  {
   "cell_type": "code",
   "execution_count": 26,
   "metadata": {
    "collapsed": false
   },
   "outputs": [],
   "source": [
    "import matplotlib.pyplot as pt\n",
    "%matplotlib inline"
   ]
  },
  {
   "cell_type": "code",
   "execution_count": 10,
   "metadata": {
    "collapsed": false
   },
   "outputs": [
    {
     "data": {
      "text/plain": [
       "[<matplotlib.lines.Line2D at 0x7fd4546cf090>]"
      ]
     },
     "execution_count": 10,
     "metadata": {},
     "output_type": "execute_result"
    },
    {
     "data": {
      "image/png": "[encoded data removed]",
      "text/plain": [
       "<matplotlib.figure.Figure at 0x7fd4549a4cd0>"
      ]
     },
     "metadata": {},
     "output_type": "display_data"
    }
   ],
   "source": [
    "pt.plot(test[\"sqft_living\"], test[\"price\"], \".\", )"
   ]
  },
  {
   "cell_type": "code",
   "execution_count": 11,
   "metadata": {
    "collapsed": false
   },
   "outputs": [
    {
     "data": {
      "text/html": [
       "<div style=\"max-height:1000px;max-width:1500px;overflow:auto;\"><table frame=\"box\" rules=\"cols\">\n",
       "    <tr>\n",
       "        <th style=\"padding-left: 1em; padding-right: 1em; text-align: center\">id</th>\n",
       "        <th style=\"padding-left: 1em; padding-right: 1em; text-align: center\">date</th>\n",
       "        <th style=\"padding-left: 1em; padding-right: 1em; text-align: center\">price</th>\n",
       "        <th style=\"padding-left: 1em; padding-right: 1em; text-align: center\">bedrooms</th>\n",
       "        <th style=\"padding-left: 1em; padding-right: 1em; text-align: center\">bathrooms</th>\n",
       "        <th style=\"padding-left: 1em; padding-right: 1em; text-align: center\">sqft_living</th>\n",
       "        <th style=\"padding-left: 1em; padding-right: 1em; text-align: center\">sqft_lot</th>\n",
       "        <th style=\"padding-left: 1em; padding-right: 1em; text-align: center\">floors</th>\n",
       "        <th style=\"padding-left: 1em; padding-right: 1em; text-align: center\">waterfront</th>\n",
       "    </tr>\n",
       "    <tr>\n",
       "        <td style=\"padding-left: 1em; padding-right: 1em; text-align: center; vertical-align: top\">0114101516</td>\n",
       "        <td style=\"padding-left: 1em; padding-right: 1em; text-align: center; vertical-align: top\">2014-05-28 00:00:00+00:00</td>\n",
       "        <td style=\"padding-left: 1em; padding-right: 1em; text-align: center; vertical-align: top\">310000</td>\n",
       "        <td style=\"padding-left: 1em; padding-right: 1em; text-align: center; vertical-align: top\">3</td>\n",
       "        <td style=\"padding-left: 1em; padding-right: 1em; text-align: center; vertical-align: top\">1</td>\n",
       "        <td style=\"padding-left: 1em; padding-right: 1em; text-align: center; vertical-align: top\">1430</td>\n",
       "        <td style=\"padding-left: 1em; padding-right: 1em; text-align: center; vertical-align: top\">19901</td>\n",
       "        <td style=\"padding-left: 1em; padding-right: 1em; text-align: center; vertical-align: top\">1.5</td>\n",
       "        <td style=\"padding-left: 1em; padding-right: 1em; text-align: center; vertical-align: top\">0</td>\n",
       "    </tr>\n",
       "    <tr>\n",
       "        <td style=\"padding-left: 1em; padding-right: 1em; text-align: center; vertical-align: top\">9297300055</td>\n",
       "        <td style=\"padding-left: 1em; padding-right: 1em; text-align: center; vertical-align: top\">2015-01-24 00:00:00+00:00</td>\n",
       "        <td style=\"padding-left: 1em; padding-right: 1em; text-align: center; vertical-align: top\">650000</td>\n",
       "        <td style=\"padding-left: 1em; padding-right: 1em; text-align: center; vertical-align: top\">4</td>\n",
       "        <td style=\"padding-left: 1em; padding-right: 1em; text-align: center; vertical-align: top\">3</td>\n",
       "        <td style=\"padding-left: 1em; padding-right: 1em; text-align: center; vertical-align: top\">2950</td>\n",
       "        <td style=\"padding-left: 1em; padding-right: 1em; text-align: center; vertical-align: top\">5000</td>\n",
       "        <td style=\"padding-left: 1em; padding-right: 1em; text-align: center; vertical-align: top\">2</td>\n",
       "        <td style=\"padding-left: 1em; padding-right: 1em; text-align: center; vertical-align: top\">0</td>\n",
       "    </tr>\n",
       "    <tr>\n",
       "        <td style=\"padding-left: 1em; padding-right: 1em; text-align: center; vertical-align: top\">1202000200</td>\n",
       "        <td style=\"padding-left: 1em; padding-right: 1em; text-align: center; vertical-align: top\">2014-11-03 00:00:00+00:00</td>\n",
       "        <td style=\"padding-left: 1em; padding-right: 1em; text-align: center; vertical-align: top\">233000</td>\n",
       "        <td style=\"padding-left: 1em; padding-right: 1em; text-align: center; vertical-align: top\">3</td>\n",
       "        <td style=\"padding-left: 1em; padding-right: 1em; text-align: center; vertical-align: top\">2</td>\n",
       "        <td style=\"padding-left: 1em; padding-right: 1em; text-align: center; vertical-align: top\">1710</td>\n",
       "        <td style=\"padding-left: 1em; padding-right: 1em; text-align: center; vertical-align: top\">4697</td>\n",
       "        <td style=\"padding-left: 1em; padding-right: 1em; text-align: center; vertical-align: top\">1.5</td>\n",
       "        <td style=\"padding-left: 1em; padding-right: 1em; text-align: center; vertical-align: top\">0</td>\n",
       "    </tr>\n",
       "    <tr>\n",
       "        <td style=\"padding-left: 1em; padding-right: 1em; text-align: center; vertical-align: top\">8562750320</td>\n",
       "        <td style=\"padding-left: 1em; padding-right: 1em; text-align: center; vertical-align: top\">2014-11-10 00:00:00+00:00</td>\n",
       "        <td style=\"padding-left: 1em; padding-right: 1em; text-align: center; vertical-align: top\">580500</td>\n",
       "        <td style=\"padding-left: 1em; padding-right: 1em; text-align: center; vertical-align: top\">3</td>\n",
       "        <td style=\"padding-left: 1em; padding-right: 1em; text-align: center; vertical-align: top\">2.5</td>\n",
       "        <td style=\"padding-left: 1em; padding-right: 1em; text-align: center; vertical-align: top\">2320</td>\n",
       "        <td style=\"padding-left: 1em; padding-right: 1em; text-align: center; vertical-align: top\">3980</td>\n",
       "        <td style=\"padding-left: 1em; padding-right: 1em; text-align: center; vertical-align: top\">2</td>\n",
       "        <td style=\"padding-left: 1em; padding-right: 1em; text-align: center; vertical-align: top\">0</td>\n",
       "    </tr>\n",
       "    <tr>\n",
       "        <td style=\"padding-left: 1em; padding-right: 1em; text-align: center; vertical-align: top\">7589200193</td>\n",
       "        <td style=\"padding-left: 1em; padding-right: 1em; text-align: center; vertical-align: top\">2014-11-10 00:00:00+00:00</td>\n",
       "        <td style=\"padding-left: 1em; padding-right: 1em; text-align: center; vertical-align: top\">535000</td>\n",
       "        <td style=\"padding-left: 1em; padding-right: 1em; text-align: center; vertical-align: top\">3</td>\n",
       "        <td style=\"padding-left: 1em; padding-right: 1em; text-align: center; vertical-align: top\">1</td>\n",
       "        <td style=\"padding-left: 1em; padding-right: 1em; text-align: center; vertical-align: top\">1090</td>\n",
       "        <td style=\"padding-left: 1em; padding-right: 1em; text-align: center; vertical-align: top\">3000</td>\n",
       "        <td style=\"padding-left: 1em; padding-right: 1em; text-align: center; vertical-align: top\">1.5</td>\n",
       "        <td style=\"padding-left: 1em; padding-right: 1em; text-align: center; vertical-align: top\">0</td>\n",
       "    </tr>\n",
       "    <tr>\n",
       "        <td style=\"padding-left: 1em; padding-right: 1em; text-align: center; vertical-align: top\">2078500320</td>\n",
       "        <td style=\"padding-left: 1em; padding-right: 1em; text-align: center; vertical-align: top\">2014-06-20 00:00:00+00:00</td>\n",
       "        <td style=\"padding-left: 1em; padding-right: 1em; text-align: center; vertical-align: top\">605000</td>\n",
       "        <td style=\"padding-left: 1em; padding-right: 1em; text-align: center; vertical-align: top\">4</td>\n",
       "        <td style=\"padding-left: 1em; padding-right: 1em; text-align: center; vertical-align: top\">2.5</td>\n",
       "        <td style=\"padding-left: 1em; padding-right: 1em; text-align: center; vertical-align: top\">2620</td>\n",
       "        <td style=\"padding-left: 1em; padding-right: 1em; text-align: center; vertical-align: top\">7553</td>\n",
       "        <td style=\"padding-left: 1em; padding-right: 1em; text-align: center; vertical-align: top\">2</td>\n",
       "        <td style=\"padding-left: 1em; padding-right: 1em; text-align: center; vertical-align: top\">0</td>\n",
       "    </tr>\n",
       "    <tr>\n",
       "        <td style=\"padding-left: 1em; padding-right: 1em; text-align: center; vertical-align: top\">7766200013</td>\n",
       "        <td style=\"padding-left: 1em; padding-right: 1em; text-align: center; vertical-align: top\">2014-08-11 00:00:00+00:00</td>\n",
       "        <td style=\"padding-left: 1em; padding-right: 1em; text-align: center; vertical-align: top\">775000</td>\n",
       "        <td style=\"padding-left: 1em; padding-right: 1em; text-align: center; vertical-align: top\">4</td>\n",
       "        <td style=\"padding-left: 1em; padding-right: 1em; text-align: center; vertical-align: top\">2.25</td>\n",
       "        <td style=\"padding-left: 1em; padding-right: 1em; text-align: center; vertical-align: top\">4220</td>\n",
       "        <td style=\"padding-left: 1em; padding-right: 1em; text-align: center; vertical-align: top\">24186</td>\n",
       "        <td style=\"padding-left: 1em; padding-right: 1em; text-align: center; vertical-align: top\">1</td>\n",
       "        <td style=\"padding-left: 1em; padding-right: 1em; text-align: center; vertical-align: top\">0</td>\n",
       "    </tr>\n",
       "    <tr>\n",
       "        <td style=\"padding-left: 1em; padding-right: 1em; text-align: center; vertical-align: top\">9478500640</td>\n",
       "        <td style=\"padding-left: 1em; padding-right: 1em; text-align: center; vertical-align: top\">2014-08-19 00:00:00+00:00</td>\n",
       "        <td style=\"padding-left: 1em; padding-right: 1em; text-align: center; vertical-align: top\">292500</td>\n",
       "        <td style=\"padding-left: 1em; padding-right: 1em; text-align: center; vertical-align: top\">4</td>\n",
       "        <td style=\"padding-left: 1em; padding-right: 1em; text-align: center; vertical-align: top\">2.5</td>\n",
       "        <td style=\"padding-left: 1em; padding-right: 1em; text-align: center; vertical-align: top\">2250</td>\n",
       "        <td style=\"padding-left: 1em; padding-right: 1em; text-align: center; vertical-align: top\">4495</td>\n",
       "        <td style=\"padding-left: 1em; padding-right: 1em; text-align: center; vertical-align: top\">2</td>\n",
       "        <td style=\"padding-left: 1em; padding-right: 1em; text-align: center; vertical-align: top\">0</td>\n",
       "    </tr>\n",
       "    <tr>\n",
       "        <td style=\"padding-left: 1em; padding-right: 1em; text-align: center; vertical-align: top\">9558200045</td>\n",
       "        <td style=\"padding-left: 1em; padding-right: 1em; text-align: center; vertical-align: top\">2014-08-28 00:00:00+00:00</td>\n",
       "        <td style=\"padding-left: 1em; padding-right: 1em; text-align: center; vertical-align: top\">289000</td>\n",
       "        <td style=\"padding-left: 1em; padding-right: 1em; text-align: center; vertical-align: top\">3</td>\n",
       "        <td style=\"padding-left: 1em; padding-right: 1em; text-align: center; vertical-align: top\">1.75</td>\n",
       "        <td style=\"padding-left: 1em; padding-right: 1em; text-align: center; vertical-align: top\">1260</td>\n",
       "        <td style=\"padding-left: 1em; padding-right: 1em; text-align: center; vertical-align: top\">8400</td>\n",
       "        <td style=\"padding-left: 1em; padding-right: 1em; text-align: center; vertical-align: top\">1</td>\n",
       "        <td style=\"padding-left: 1em; padding-right: 1em; text-align: center; vertical-align: top\">0</td>\n",
       "    </tr>\n",
       "    <tr>\n",
       "        <td style=\"padding-left: 1em; padding-right: 1em; text-align: center; vertical-align: top\">8820901275</td>\n",
       "        <td style=\"padding-left: 1em; padding-right: 1em; text-align: center; vertical-align: top\">2014-06-10 00:00:00+00:00</td>\n",
       "        <td style=\"padding-left: 1em; padding-right: 1em; text-align: center; vertical-align: top\">571000</td>\n",
       "        <td style=\"padding-left: 1em; padding-right: 1em; text-align: center; vertical-align: top\">4</td>\n",
       "        <td style=\"padding-left: 1em; padding-right: 1em; text-align: center; vertical-align: top\">2</td>\n",
       "        <td style=\"padding-left: 1em; padding-right: 1em; text-align: center; vertical-align: top\">2750</td>\n",
       "        <td style=\"padding-left: 1em; padding-right: 1em; text-align: center; vertical-align: top\">7807</td>\n",
       "        <td style=\"padding-left: 1em; padding-right: 1em; text-align: center; vertical-align: top\">1.5</td>\n",
       "        <td style=\"padding-left: 1em; padding-right: 1em; text-align: center; vertical-align: top\">0</td>\n",
       "    </tr>\n",
       "</table>\n",
       "<table frame=\"box\" rules=\"cols\">\n",
       "    <tr>\n",
       "        <th style=\"padding-left: 1em; padding-right: 1em; text-align: center\">view</th>\n",
       "        <th style=\"padding-left: 1em; padding-right: 1em; text-align: center\">condition</th>\n",
       "        <th style=\"padding-left: 1em; padding-right: 1em; text-align: center\">grade</th>\n",
       "        <th style=\"padding-left: 1em; padding-right: 1em; text-align: center\">sqft_above</th>\n",
       "        <th style=\"padding-left: 1em; padding-right: 1em; text-align: center\">sqft_basement</th>\n",
       "        <th style=\"padding-left: 1em; padding-right: 1em; text-align: center\">yr_built</th>\n",
       "        <th style=\"padding-left: 1em; padding-right: 1em; text-align: center\">yr_renovated</th>\n",
       "        <th style=\"padding-left: 1em; padding-right: 1em; text-align: center\">zipcode</th>\n",
       "        <th style=\"padding-left: 1em; padding-right: 1em; text-align: center\">lat</th>\n",
       "    </tr>\n",
       "    <tr>\n",
       "        <td style=\"padding-left: 1em; padding-right: 1em; text-align: center; vertical-align: top\">0</td>\n",
       "        <td style=\"padding-left: 1em; padding-right: 1em; text-align: center; vertical-align: top\">4</td>\n",
       "        <td style=\"padding-left: 1em; padding-right: 1em; text-align: center; vertical-align: top\">7</td>\n",
       "        <td style=\"padding-left: 1em; padding-right: 1em; text-align: center; vertical-align: top\">1430</td>\n",
       "        <td style=\"padding-left: 1em; padding-right: 1em; text-align: center; vertical-align: top\">0</td>\n",
       "        <td style=\"padding-left: 1em; padding-right: 1em; text-align: center; vertical-align: top\">1927</td>\n",
       "        <td style=\"padding-left: 1em; padding-right: 1em; text-align: center; vertical-align: top\">0</td>\n",
       "        <td style=\"padding-left: 1em; padding-right: 1em; text-align: center; vertical-align: top\">98028</td>\n",
       "        <td style=\"padding-left: 1em; padding-right: 1em; text-align: center; vertical-align: top\">47.75584254</td>\n",
       "    </tr>\n",
       "    <tr>\n",
       "        <td style=\"padding-left: 1em; padding-right: 1em; text-align: center; vertical-align: top\">3</td>\n",
       "        <td style=\"padding-left: 1em; padding-right: 1em; text-align: center; vertical-align: top\">3</td>\n",
       "        <td style=\"padding-left: 1em; padding-right: 1em; text-align: center; vertical-align: top\">9</td>\n",
       "        <td style=\"padding-left: 1em; padding-right: 1em; text-align: center; vertical-align: top\">1980</td>\n",
       "        <td style=\"padding-left: 1em; padding-right: 1em; text-align: center; vertical-align: top\">970</td>\n",
       "        <td style=\"padding-left: 1em; padding-right: 1em; text-align: center; vertical-align: top\">1979</td>\n",
       "        <td style=\"padding-left: 1em; padding-right: 1em; text-align: center; vertical-align: top\">0</td>\n",
       "        <td style=\"padding-left: 1em; padding-right: 1em; text-align: center; vertical-align: top\">98126</td>\n",
       "        <td style=\"padding-left: 1em; padding-right: 1em; text-align: center; vertical-align: top\">47.57136955</td>\n",
       "    </tr>\n",
       "    <tr>\n",
       "        <td style=\"padding-left: 1em; padding-right: 1em; text-align: center; vertical-align: top\">0</td>\n",
       "        <td style=\"padding-left: 1em; padding-right: 1em; text-align: center; vertical-align: top\">5</td>\n",
       "        <td style=\"padding-left: 1em; padding-right: 1em; text-align: center; vertical-align: top\">6</td>\n",
       "        <td style=\"padding-left: 1em; padding-right: 1em; text-align: center; vertical-align: top\">1710</td>\n",
       "        <td style=\"padding-left: 1em; padding-right: 1em; text-align: center; vertical-align: top\">0</td>\n",
       "        <td style=\"padding-left: 1em; padding-right: 1em; text-align: center; vertical-align: top\">1941</td>\n",
       "        <td style=\"padding-left: 1em; padding-right: 1em; text-align: center; vertical-align: top\">0</td>\n",
       "        <td style=\"padding-left: 1em; padding-right: 1em; text-align: center; vertical-align: top\">98002</td>\n",
       "        <td style=\"padding-left: 1em; padding-right: 1em; text-align: center; vertical-align: top\">47.30482931</td>\n",
       "    </tr>\n",
       "    <tr>\n",
       "        <td style=\"padding-left: 1em; padding-right: 1em; text-align: center; vertical-align: top\">0</td>\n",
       "        <td style=\"padding-left: 1em; padding-right: 1em; text-align: center; vertical-align: top\">3</td>\n",
       "        <td style=\"padding-left: 1em; padding-right: 1em; text-align: center; vertical-align: top\">8</td>\n",
       "        <td style=\"padding-left: 1em; padding-right: 1em; text-align: center; vertical-align: top\">2320</td>\n",
       "        <td style=\"padding-left: 1em; padding-right: 1em; text-align: center; vertical-align: top\">0</td>\n",
       "        <td style=\"padding-left: 1em; padding-right: 1em; text-align: center; vertical-align: top\">2003</td>\n",
       "        <td style=\"padding-left: 1em; padding-right: 1em; text-align: center; vertical-align: top\">0</td>\n",
       "        <td style=\"padding-left: 1em; padding-right: 1em; text-align: center; vertical-align: top\">98027</td>\n",
       "        <td style=\"padding-left: 1em; padding-right: 1em; text-align: center; vertical-align: top\">47.5391103</td>\n",
       "    </tr>\n",
       "    <tr>\n",
       "        <td style=\"padding-left: 1em; padding-right: 1em; text-align: center; vertical-align: top\">0</td>\n",
       "        <td style=\"padding-left: 1em; padding-right: 1em; text-align: center; vertical-align: top\">4</td>\n",
       "        <td style=\"padding-left: 1em; padding-right: 1em; text-align: center; vertical-align: top\">8</td>\n",
       "        <td style=\"padding-left: 1em; padding-right: 1em; text-align: center; vertical-align: top\">1090</td>\n",
       "        <td style=\"padding-left: 1em; padding-right: 1em; text-align: center; vertical-align: top\">0</td>\n",
       "        <td style=\"padding-left: 1em; padding-right: 1em; text-align: center; vertical-align: top\">1929</td>\n",
       "        <td style=\"padding-left: 1em; padding-right: 1em; text-align: center; vertical-align: top\">0</td>\n",
       "        <td style=\"padding-left: 1em; padding-right: 1em; text-align: center; vertical-align: top\">98117</td>\n",
       "        <td style=\"padding-left: 1em; padding-right: 1em; text-align: center; vertical-align: top\">47.68889559</td>\n",
       "    </tr>\n",
       "    <tr>\n",
       "        <td style=\"padding-left: 1em; padding-right: 1em; text-align: center; vertical-align: top\">0</td>\n",
       "        <td style=\"padding-left: 1em; padding-right: 1em; text-align: center; vertical-align: top\">3</td>\n",
       "        <td style=\"padding-left: 1em; padding-right: 1em; text-align: center; vertical-align: top\">8</td>\n",
       "        <td style=\"padding-left: 1em; padding-right: 1em; text-align: center; vertical-align: top\">2620</td>\n",
       "        <td style=\"padding-left: 1em; padding-right: 1em; text-align: center; vertical-align: top\">0</td>\n",
       "        <td style=\"padding-left: 1em; padding-right: 1em; text-align: center; vertical-align: top\">1996</td>\n",
       "        <td style=\"padding-left: 1em; padding-right: 1em; text-align: center; vertical-align: top\">0</td>\n",
       "        <td style=\"padding-left: 1em; padding-right: 1em; text-align: center; vertical-align: top\">98056</td>\n",
       "        <td style=\"padding-left: 1em; padding-right: 1em; text-align: center; vertical-align: top\">47.53013988</td>\n",
       "    </tr>\n",
       "    <tr>\n",
       "        <td style=\"padding-left: 1em; padding-right: 1em; text-align: center; vertical-align: top\">0</td>\n",
       "        <td style=\"padding-left: 1em; padding-right: 1em; text-align: center; vertical-align: top\">3</td>\n",
       "        <td style=\"padding-left: 1em; padding-right: 1em; text-align: center; vertical-align: top\">8</td>\n",
       "        <td style=\"padding-left: 1em; padding-right: 1em; text-align: center; vertical-align: top\">2600</td>\n",
       "        <td style=\"padding-left: 1em; padding-right: 1em; text-align: center; vertical-align: top\">1620</td>\n",
       "        <td style=\"padding-left: 1em; padding-right: 1em; text-align: center; vertical-align: top\">1984</td>\n",
       "        <td style=\"padding-left: 1em; padding-right: 1em; text-align: center; vertical-align: top\">0</td>\n",
       "        <td style=\"padding-left: 1em; padding-right: 1em; text-align: center; vertical-align: top\">98166</td>\n",
       "        <td style=\"padding-left: 1em; padding-right: 1em; text-align: center; vertical-align: top\">47.44504345</td>\n",
       "    </tr>\n",
       "    <tr>\n",
       "        <td style=\"padding-left: 1em; padding-right: 1em; text-align: center; vertical-align: top\">0</td>\n",
       "        <td style=\"padding-left: 1em; padding-right: 1em; text-align: center; vertical-align: top\">3</td>\n",
       "        <td style=\"padding-left: 1em; padding-right: 1em; text-align: center; vertical-align: top\">7</td>\n",
       "        <td style=\"padding-left: 1em; padding-right: 1em; text-align: center; vertical-align: top\">2250</td>\n",
       "        <td style=\"padding-left: 1em; padding-right: 1em; text-align: center; vertical-align: top\">0</td>\n",
       "        <td style=\"padding-left: 1em; padding-right: 1em; text-align: center; vertical-align: top\">2008</td>\n",
       "        <td style=\"padding-left: 1em; padding-right: 1em; text-align: center; vertical-align: top\">0</td>\n",
       "        <td style=\"padding-left: 1em; padding-right: 1em; text-align: center; vertical-align: top\">98042</td>\n",
       "        <td style=\"padding-left: 1em; padding-right: 1em; text-align: center; vertical-align: top\">47.36628767</td>\n",
       "    </tr>\n",
       "    <tr>\n",
       "        <td style=\"padding-left: 1em; padding-right: 1em; text-align: center; vertical-align: top\">0</td>\n",
       "        <td style=\"padding-left: 1em; padding-right: 1em; text-align: center; vertical-align: top\">3</td>\n",
       "        <td style=\"padding-left: 1em; padding-right: 1em; text-align: center; vertical-align: top\">7</td>\n",
       "        <td style=\"padding-left: 1em; padding-right: 1em; text-align: center; vertical-align: top\">1260</td>\n",
       "        <td style=\"padding-left: 1em; padding-right: 1em; text-align: center; vertical-align: top\">0</td>\n",
       "        <td style=\"padding-left: 1em; padding-right: 1em; text-align: center; vertical-align: top\">1954</td>\n",
       "        <td style=\"padding-left: 1em; padding-right: 1em; text-align: center; vertical-align: top\">0</td>\n",
       "        <td style=\"padding-left: 1em; padding-right: 1em; text-align: center; vertical-align: top\">98148</td>\n",
       "        <td style=\"padding-left: 1em; padding-right: 1em; text-align: center; vertical-align: top\">47.43658598</td>\n",
       "    </tr>\n",
       "    <tr>\n",
       "        <td style=\"padding-left: 1em; padding-right: 1em; text-align: center; vertical-align: top\">0</td>\n",
       "        <td style=\"padding-left: 1em; padding-right: 1em; text-align: center; vertical-align: top\">5</td>\n",
       "        <td style=\"padding-left: 1em; padding-right: 1em; text-align: center; vertical-align: top\">7</td>\n",
       "        <td style=\"padding-left: 1em; padding-right: 1em; text-align: center; vertical-align: top\">2250</td>\n",
       "        <td style=\"padding-left: 1em; padding-right: 1em; text-align: center; vertical-align: top\">500</td>\n",
       "        <td style=\"padding-left: 1em; padding-right: 1em; text-align: center; vertical-align: top\">1916</td>\n",
       "        <td style=\"padding-left: 1em; padding-right: 1em; text-align: center; vertical-align: top\">0</td>\n",
       "        <td style=\"padding-left: 1em; padding-right: 1em; text-align: center; vertical-align: top\">98125</td>\n",
       "        <td style=\"padding-left: 1em; padding-right: 1em; text-align: center; vertical-align: top\">47.7168015</td>\n",
       "    </tr>\n",
       "</table>\n",
       "<table frame=\"box\" rules=\"cols\">\n",
       "    <tr>\n",
       "        <th style=\"padding-left: 1em; padding-right: 1em; text-align: center\">long</th>\n",
       "        <th style=\"padding-left: 1em; padding-right: 1em; text-align: center\">sqft_living15</th>\n",
       "        <th style=\"padding-left: 1em; padding-right: 1em; text-align: center\">sqft_lot15</th>\n",
       "    </tr>\n",
       "    <tr>\n",
       "        <td style=\"padding-left: 1em; padding-right: 1em; text-align: center; vertical-align: top\">-122.22874498</td>\n",
       "        <td style=\"padding-left: 1em; padding-right: 1em; text-align: center; vertical-align: top\">1780.0</td>\n",
       "        <td style=\"padding-left: 1em; padding-right: 1em; text-align: center; vertical-align: top\">12697.0</td>\n",
       "    </tr>\n",
       "    <tr>\n",
       "        <td style=\"padding-left: 1em; padding-right: 1em; text-align: center; vertical-align: top\">-122.37541218</td>\n",
       "        <td style=\"padding-left: 1em; padding-right: 1em; text-align: center; vertical-align: top\">2140.0</td>\n",
       "        <td style=\"padding-left: 1em; padding-right: 1em; text-align: center; vertical-align: top\">4000.0</td>\n",
       "    </tr>\n",
       "    <tr>\n",
       "        <td style=\"padding-left: 1em; padding-right: 1em; text-align: center; vertical-align: top\">-122.21774909</td>\n",
       "        <td style=\"padding-left: 1em; padding-right: 1em; text-align: center; vertical-align: top\">1030.0</td>\n",
       "        <td style=\"padding-left: 1em; padding-right: 1em; text-align: center; vertical-align: top\">4705.0</td>\n",
       "    </tr>\n",
       "    <tr>\n",
       "        <td style=\"padding-left: 1em; padding-right: 1em; text-align: center; vertical-align: top\">-122.06971484</td>\n",
       "        <td style=\"padding-left: 1em; padding-right: 1em; text-align: center; vertical-align: top\">2580.0</td>\n",
       "        <td style=\"padding-left: 1em; padding-right: 1em; text-align: center; vertical-align: top\">3980.0</td>\n",
       "    </tr>\n",
       "    <tr>\n",
       "        <td style=\"padding-left: 1em; padding-right: 1em; text-align: center; vertical-align: top\">-122.3752359</td>\n",
       "        <td style=\"padding-left: 1em; padding-right: 1em; text-align: center; vertical-align: top\">1570.0</td>\n",
       "        <td style=\"padding-left: 1em; padding-right: 1em; text-align: center; vertical-align: top\">5080.0</td>\n",
       "    </tr>\n",
       "    <tr>\n",
       "        <td style=\"padding-left: 1em; padding-right: 1em; text-align: center; vertical-align: top\">-122.18000831</td>\n",
       "        <td style=\"padding-left: 1em; padding-right: 1em; text-align: center; vertical-align: top\">2620.0</td>\n",
       "        <td style=\"padding-left: 1em; padding-right: 1em; text-align: center; vertical-align: top\">11884.0</td>\n",
       "    </tr>\n",
       "    <tr>\n",
       "        <td style=\"padding-left: 1em; padding-right: 1em; text-align: center; vertical-align: top\">-122.34720874</td>\n",
       "        <td style=\"padding-left: 1em; padding-right: 1em; text-align: center; vertical-align: top\">2410.0</td>\n",
       "        <td style=\"padding-left: 1em; padding-right: 1em; text-align: center; vertical-align: top\">30617.0</td>\n",
       "    </tr>\n",
       "    <tr>\n",
       "        <td style=\"padding-left: 1em; padding-right: 1em; text-align: center; vertical-align: top\">-122.11356981</td>\n",
       "        <td style=\"padding-left: 1em; padding-right: 1em; text-align: center; vertical-align: top\">2250.0</td>\n",
       "        <td style=\"padding-left: 1em; padding-right: 1em; text-align: center; vertical-align: top\">4500.0</td>\n",
       "    </tr>\n",
       "    <tr>\n",
       "        <td style=\"padding-left: 1em; padding-right: 1em; text-align: center; vertical-align: top\">-122.3346675</td>\n",
       "        <td style=\"padding-left: 1em; padding-right: 1em; text-align: center; vertical-align: top\">1290.0</td>\n",
       "        <td style=\"padding-left: 1em; padding-right: 1em; text-align: center; vertical-align: top\">8750.0</td>\n",
       "    </tr>\n",
       "    <tr>\n",
       "        <td style=\"padding-left: 1em; padding-right: 1em; text-align: center; vertical-align: top\">-122.28694727</td>\n",
       "        <td style=\"padding-left: 1em; padding-right: 1em; text-align: center; vertical-align: top\">1510.0</td>\n",
       "        <td style=\"padding-left: 1em; padding-right: 1em; text-align: center; vertical-align: top\">7807.0</td>\n",
       "    </tr>\n",
       "</table>\n",
       "[4229 rows x 21 columns]<br/>Note: Only the head of the SFrame is printed.<br/>You can use print_rows(num_rows=m, num_columns=n) to print more rows and columns.\n",
       "</div>"
      ],
      "text/plain": [
       "Columns:\n",
       "\tid\tstr\n",
       "\tdate\tdatetime\n",
       "\tprice\tint\n",
       "\tbedrooms\tstr\n",
       "\tbathrooms\tstr\n",
       "\tsqft_living\tint\n",
       "\tsqft_lot\tint\n",
       "\tfloors\tstr\n",
       "\twaterfront\tint\n",
       "\tview\tint\n",
       "\tcondition\tint\n",
       "\tgrade\tint\n",
       "\tsqft_above\tint\n",
       "\tsqft_basement\tint\n",
       "\tyr_built\tint\n",
       "\tyr_renovated\tint\n",
       "\tzipcode\tstr\n",
       "\tlat\tfloat\n",
       "\tlong\tfloat\n",
       "\tsqft_living15\tfloat\n",
       "\tsqft_lot15\tfloat\n",
       "\n",
       "Rows: 4229\n",
       "\n",
       "Data:\n",
       "+------------+---------------------------+--------+----------+-----------+-------------+\n",
       "|     id     |            date           | price  | bedrooms | bathrooms | sqft_living |\n",
       "+------------+---------------------------+--------+----------+-----------+-------------+\n",
       "| 0114101516 | 2014-05-28 00:00:00+00:00 | 310000 |    3     |     1     |     1430    |\n",
       "| 9297300055 | 2015-01-24 00:00:00+00:00 | 650000 |    4     |     3     |     2950    |\n",
       "| 1202000200 | 2014-11-03 00:00:00+00:00 | 233000 |    3     |     2     |     1710    |\n",
       "| 8562750320 | 2014-11-10 00:00:00+00:00 | 580500 |    3     |    2.5    |     2320    |\n",
       "| 7589200193 | 2014-11-10 00:00:00+00:00 | 535000 |    3     |     1     |     1090    |\n",
       "| 2078500320 | 2014-06-20 00:00:00+00:00 | 605000 |    4     |    2.5    |     2620    |\n",
       "| 7766200013 | 2014-08-11 00:00:00+00:00 | 775000 |    4     |    2.25   |     4220    |\n",
       "| 9478500640 | 2014-08-19 00:00:00+00:00 | 292500 |    4     |    2.5    |     2250    |\n",
       "| 9558200045 | 2014-08-28 00:00:00+00:00 | 289000 |    3     |    1.75   |     1260    |\n",
       "| 8820901275 | 2014-06-10 00:00:00+00:00 | 571000 |    4     |     2     |     2750    |\n",
       "+------------+---------------------------+--------+----------+-----------+-------------+\n",
       "+----------+--------+------------+------+-----------+-------+------------+---------------+\n",
       "| sqft_lot | floors | waterfront | view | condition | grade | sqft_above | sqft_basement |\n",
       "+----------+--------+------------+------+-----------+-------+------------+---------------+\n",
       "|  19901   |  1.5   |     0      |  0   |     4     |   7   |    1430    |       0       |\n",
       "|   5000   |   2    |     0      |  3   |     3     |   9   |    1980    |      970      |\n",
       "|   4697   |  1.5   |     0      |  0   |     5     |   6   |    1710    |       0       |\n",
       "|   3980   |   2    |     0      |  0   |     3     |   8   |    2320    |       0       |\n",
       "|   3000   |  1.5   |     0      |  0   |     4     |   8   |    1090    |       0       |\n",
       "|   7553   |   2    |     0      |  0   |     3     |   8   |    2620    |       0       |\n",
       "|  24186   |   1    |     0      |  0   |     3     |   8   |    2600    |      1620     |\n",
       "|   4495   |   2    |     0      |  0   |     3     |   7   |    2250    |       0       |\n",
       "|   8400   |   1    |     0      |  0   |     3     |   7   |    1260    |       0       |\n",
       "|   7807   |  1.5   |     0      |  0   |     5     |   7   |    2250    |      500      |\n",
       "+----------+--------+------------+------+-----------+-------+------------+---------------+\n",
       "+----------+--------------+---------+-------------+---------------+---------------+-----+\n",
       "| yr_built | yr_renovated | zipcode |     lat     |      long     | sqft_living15 | ... |\n",
       "+----------+--------------+---------+-------------+---------------+---------------+-----+\n",
       "|   1927   |      0       |  98028  | 47.75584254 | -122.22874498 |     1780.0    | ... |\n",
       "|   1979   |      0       |  98126  | 47.57136955 | -122.37541218 |     2140.0    | ... |\n",
       "|   1941   |      0       |  98002  | 47.30482931 | -122.21774909 |     1030.0    | ... |\n",
       "|   2003   |      0       |  98027  |  47.5391103 | -122.06971484 |     2580.0    | ... |\n",
       "|   1929   |      0       |  98117  | 47.68889559 |  -122.3752359 |     1570.0    | ... |\n",
       "|   1996   |      0       |  98056  | 47.53013988 | -122.18000831 |     2620.0    | ... |\n",
       "|   1984   |      0       |  98166  | 47.44504345 | -122.34720874 |     2410.0    | ... |\n",
       "|   2008   |      0       |  98042  | 47.36628767 | -122.11356981 |     2250.0    | ... |\n",
       "|   1954   |      0       |  98148  | 47.43658598 |  -122.3346675 |     1290.0    | ... |\n",
       "|   1916   |      0       |  98125  |  47.7168015 | -122.28694727 |     1510.0    | ... |\n",
       "+----------+--------------+---------+-------------+---------------+---------------+-----+\n",
       "[4229 rows x 21 columns]\n",
       "Note: Only the head of the SFrame is printed.\n",
       "You can use print_rows(num_rows=m, num_columns=n) to print more rows and columns."
      ]
     },
     "execution_count": 11,
     "metadata": {},
     "output_type": "execute_result"
    }
   ],
   "source": [
    "test"
   ]
  },
  {
   "cell_type": "code",
   "execution_count": 12,
   "metadata": {
    "collapsed": false
   },
   "outputs": [
    {
     "name": "stdout",
     "output_type": "stream",
     "text": [
      "PROGRESS: Creating a validation set from 5 percent of training data. This may take a while.\n",
      "          You can set ``validation_set=None`` to disable validation tracking.\n",
      "\n"
     ]
    },
    {
     "data": {
      "text/html": [
       "<pre>Linear regression:</pre>"
      ],
      "text/plain": [
       "Linear regression:"
      ]
     },
     "metadata": {},
     "output_type": "display_data"
    },
    {
     "data": {
      "text/html": [
       "<pre>--------------------------------------------------------</pre>"
      ],
      "text/plain": [
       "--------------------------------------------------------"
      ]
     },
     "metadata": {},
     "output_type": "display_data"
    },
    {
     "data": {
      "text/html": [
       "<pre>Number of examples          : 16485</pre>"
      ],
      "text/plain": [
       "Number of examples          : 16485"
      ]
     },
     "metadata": {},
     "output_type": "display_data"
    },
    {
     "data": {
      "text/html": [
       "<pre>Number of features          : 1</pre>"
      ],
      "text/plain": [
       "Number of features          : 1"
      ]
     },
     "metadata": {},
     "output_type": "display_data"
    },
    {
     "data": {
      "text/html": [
       "<pre>Number of unpacked features : 1</pre>"
      ],
      "text/plain": [
       "Number of unpacked features : 1"
      ]
     },
     "metadata": {},
     "output_type": "display_data"
    },
    {
     "data": {
      "text/html": [
       "<pre>Number of coefficients    : 2</pre>"
      ],
      "text/plain": [
       "Number of coefficients    : 2"
      ]
     },
     "metadata": {},
     "output_type": "display_data"
    },
    {
     "data": {
      "text/html": [
       "<pre>Starting Newton Method</pre>"
      ],
      "text/plain": [
       "Starting Newton Method"
      ]
     },
     "metadata": {},
     "output_type": "display_data"
    },
    {
     "data": {
      "text/html": [
       "<pre>--------------------------------------------------------</pre>"
      ],
      "text/plain": [
       "--------------------------------------------------------"
      ]
     },
     "metadata": {},
     "output_type": "display_data"
    },
    {
     "data": {
      "text/html": [
       "<pre>+-----------+----------+--------------+--------------------+----------------------+---------------+-----------------+</pre>"
      ],
      "text/plain": [
       "+-----------+----------+--------------+--------------------+----------------------+---------------+-----------------+"
      ]
     },
     "metadata": {},
     "output_type": "display_data"
    },
    {
     "data": {
      "text/html": [
       "<pre>| Iteration | Passes   | Elapsed Time | Training-max_error | Validation-max_error | Training-rmse | Validation-rmse |</pre>"
      ],
      "text/plain": [
       "| Iteration | Passes   | Elapsed Time | Training-max_error | Validation-max_error | Training-rmse | Validation-rmse |"
      ]
     },
     "metadata": {},
     "output_type": "display_data"
    },
    {
     "data": {
      "text/html": [
       "<pre>+-----------+----------+--------------+--------------------+----------------------+---------------+-----------------+</pre>"
      ],
      "text/plain": [
       "+-----------+----------+--------------+--------------------+----------------------+---------------+-----------------+"
      ]
     },
     "metadata": {},
     "output_type": "display_data"
    },
    {
     "data": {
      "text/html": [
       "<pre>| 1         | 2        | 1.010404     | 4297314.629387     | 4372663.317328       | 260882.261732 | 298375.840708   |</pre>"
      ],
      "text/plain": [
       "| 1         | 2        | 1.010404     | 4297314.629387     | 4372663.317328       | 260882.261732 | 298375.840708   |"
      ]
     },
     "metadata": {},
     "output_type": "display_data"
    },
    {
     "data": {
      "text/html": [
       "<pre>+-----------+----------+--------------+--------------------+----------------------+---------------+-----------------+</pre>"
      ],
      "text/plain": [
       "+-----------+----------+--------------+--------------------+----------------------+---------------+-----------------+"
      ]
     },
     "metadata": {},
     "output_type": "display_data"
    },
    {
     "data": {
      "text/html": [
       "<pre>SUCCESS: Optimal solution found.</pre>"
      ],
      "text/plain": [
       "SUCCESS: Optimal solution found."
      ]
     },
     "metadata": {},
     "output_type": "display_data"
    },
    {
     "data": {
      "text/html": [
       "<pre></pre>"
      ],
      "text/plain": []
     },
     "metadata": {},
     "output_type": "display_data"
    }
   ],
   "source": [
    "pmodel= graphlab.linear_regression.create(training, target=\"price\", features=[\"sqft_living\"])\n"
   ]
  },
  {
   "cell_type": "code",
   "execution_count": 13,
   "metadata": {
    "collapsed": false
   },
   "outputs": [
    {
     "data": {
      "text/plain": [
       "{'max_error': 4161766.219839277, 'rmse': 255154.39026056457}"
      ]
     },
     "execution_count": 13,
     "metadata": {},
     "output_type": "execute_result"
    }
   ],
   "source": [
    "pmodel.evaluate(test)\n"
   ]
  },
  {
   "cell_type": "code",
   "execution_count": 14,
   "metadata": {
    "collapsed": false
   },
   "outputs": [
    {
     "data": {
      "text/plain": [
       "[<matplotlib.lines.Line2D at 0x7fd4545d6090>,\n",
       " <matplotlib.lines.Line2D at 0x7fd4545d6190>]"
      ]
     },
     "execution_count": 14,
     "metadata": {},
     "output_type": "execute_result"
    },
    {
     "data": {
      "image/png": "[encoded data removed]",
      "text/plain": [
       "<matplotlib.figure.Figure at 0x7fd45475a110>"
      ]
     },
     "metadata": {},
     "output_type": "display_data"
    }
   ],
   "source": [
    "import matplotlib.pyplot as pt\n",
    "%matplotlib inline\n",
    "pt.plot(test[\"sqft_living\"], test[\"price\"] , \".\", test[\"sqft_living\"], pmodel.predict(test), \"-\")\n",
    "    "
   ]
  },
  {
   "cell_type": "code",
   "execution_count": 15,
   "metadata": {
    "collapsed": false
   },
   "outputs": [],
   "source": [
    " comp= [test[\"price\"],pmodel.predict(test)]"
   ]
  },
  {
   "cell_type": "code",
   "execution_count": 16,
   "metadata": {
    "collapsed": false
   },
   "outputs": [
    {
     "data": {
      "text/plain": [
       "[dtype: int\n",
       " Rows: 4229\n",
       " [310000, 650000, 233000, 580500, 535000, 605000, 775000, 292500, 289000, 571000, 349000, 360000, 243500, 247500, 470000, 480000, 770000, 519950, 527700, 420000, 890000, 282950, 255000, 420000, 807100, 284000, 917500, 425000, 260000, 297000, 274250, 840000, 677900, 280000, 279950, 479950, 264950, 1025000, 2400000, 260000, 525000, 369900, 210000, 304900, 170000, 2050000, 780000, 330000, 360000, 550000, 208633, 315000, 1384000, 1400000, 548000, 520000, 230000, 232000, 740000, 640000, 940000, 559900, 265000, 425000, 552250, 206600, 299000, 855000, 437500, 420000, 795000, 810000, 338000, 315000, 450000, 799000, 403950, 490000, 330000, 927000, 530000, 352000, 322500, 650000, 339000, 570000, 423000, 482000, 1300000, 988000, 1000000, 350000, 205000, 333500, 255000, 348000, 325000, 340500, 290900, 315000, ... ],\n",
       " dtype: float\n",
       " Rows: 4229\n",
       " [357164.07865654863, 782273.5285721922, 435473.71416732506, 606076.8486729452, 262073.8069648915, 689980.0295773485, 1137463.6610674995, 586499.439795251, 309618.94281072007, 726338.0746359233, 457847.8957418326, 488612.39540678053, 510986.57698128803, 505393.0315876611, 524970.4404653553, 860583.1640829686, 771086.4377849384, 284447.98853939906, 745915.4835136174, 253683.48887445114, 670402.6206996544, 306822.1701139066, 533360.7585557956, 522173.66776854184, 706760.6657582292, 393522.1237151234, 1042373.3893758424, 270464.12505533185, 424286.62338007125, 499799.4861940342, 211731.8984222495, 650825.2118219603, 639638.1210347065, 194951.26224136882, 446660.8049545788, 379538.2602310562, 438270.4868641385, 1008812.1170140812, 978047.6173491332, 463441.4411354595, 544547.8493430493, 169780.3079700478, 432676.9414705116, 684386.4841837216, 197748.03493818227, 1028389.5258917753, 936096.0268969316, 634044.5756410796, 561328.48552393, 508189.8042844746, 527767.2131621687, 572515.5763111839, 1157041.0699451938, 1157041.0699451938, 368351.1694438024, 524970.4404653553, 362757.6240501755, 304025.39741709316, 530563.9858589822, 256480.2615712646, 653621.9845187737, 776679.9831785653, 354367.3059597352, 656418.7572155872, 678792.9387900947, 345976.9878692948, 113844.85403377895, 592092.9851888779, 234106.07999675703, 446660.8049545788, 807444.4828435131, 941689.5722905585, 541751.076646236, 566922.030917557, 415896.30528963095, 659215.5299124006, 550141.3947366762, 510986.57698128803, 404709.21450237714, 880160.5729606628, 717947.7565454829, 220122.21651268983, 466238.213832273, 379538.2602310562, 625654.2575506393, 771086.4377849384, 572515.5763111839, 222918.98920950328, 614467.1667633855, 1087121.7525248576, 687183.256880535, 306822.1701139066, 220122.21651268983, 298431.85202346626, 304025.39741709316, 675996.1660932812, 474628.5319227133, 592092.9851888779, 407505.9871991906, 133422.26291147305, ... ]]"
      ]
     },
     "execution_count": 16,
     "metadata": {},
     "output_type": "execute_result"
    }
   ],
   "source": [
    "comp\n"
   ]
  },
  {
   "cell_type": "code",
   "execution_count": 17,
   "metadata": {
    "collapsed": false
   },
   "outputs": [
    {
     "data": {
      "text/html": [
       "<div style=\"max-height:1000px;max-width:1500px;overflow:auto;\"><table frame=\"box\" rules=\"cols\">\n",
       "    <tr>\n",
       "        <th style=\"padding-left: 1em; padding-right: 1em; text-align: center\">name</th>\n",
       "        <th style=\"padding-left: 1em; padding-right: 1em; text-align: center\">index</th>\n",
       "        <th style=\"padding-left: 1em; padding-right: 1em; text-align: center\">value</th>\n",
       "        <th style=\"padding-left: 1em; padding-right: 1em; text-align: center\">stderr</th>\n",
       "    </tr>\n",
       "    <tr>\n",
       "        <td style=\"padding-left: 1em; padding-right: 1em; text-align: center; vertical-align: top\">(intercept)</td>\n",
       "        <td style=\"padding-left: 1em; padding-right: 1em; text-align: center; vertical-align: top\">None</td>\n",
       "        <td style=\"padding-left: 1em; padding-right: 1em; text-align: center; vertical-align: top\">-42774.4169878</td>\n",
       "        <td style=\"padding-left: 1em; padding-right: 1em; text-align: center; vertical-align: top\">5033.47367593</td>\n",
       "    </tr>\n",
       "    <tr>\n",
       "        <td style=\"padding-left: 1em; padding-right: 1em; text-align: center; vertical-align: top\">sqft_living</td>\n",
       "        <td style=\"padding-left: 1em; padding-right: 1em; text-align: center; vertical-align: top\">None</td>\n",
       "        <td style=\"padding-left: 1em; padding-right: 1em; text-align: center; vertical-align: top\">279.677269681</td>\n",
       "        <td style=\"padding-left: 1em; padding-right: 1em; text-align: center; vertical-align: top\">2.21423519694</td>\n",
       "    </tr>\n",
       "</table>\n",
       "[2 rows x 4 columns]<br/>\n",
       "</div>"
      ],
      "text/plain": [
       "Columns:\n",
       "\tname\tstr\n",
       "\tindex\tstr\n",
       "\tvalue\tfloat\n",
       "\tstderr\tfloat\n",
       "\n",
       "Rows: 2\n",
       "\n",
       "Data:\n",
       "+-------------+-------+----------------+---------------+\n",
       "|     name    | index |     value      |     stderr    |\n",
       "+-------------+-------+----------------+---------------+\n",
       "| (intercept) |  None | -42774.4169878 | 5033.47367593 |\n",
       "| sqft_living |  None | 279.677269681  | 2.21423519694 |\n",
       "+-------------+-------+----------------+---------------+\n",
       "[2 rows x 4 columns]"
      ]
     },
     "execution_count": 17,
     "metadata": {},
     "output_type": "execute_result"
    }
   ],
   "source": [
    "pmodel.get(\"coefficients\")\n"
   ]
  },
  {
   "cell_type": "code",
   "execution_count": 18,
   "metadata": {
    "collapsed": false
   },
   "outputs": [
    {
     "data": {
      "text/html": [
       "<div style=\"max-height:1000px;max-width:1500px;overflow:auto;\"><table frame=\"box\" rules=\"cols\">\n",
       "    <tr>\n",
       "        <th style=\"padding-left: 1em; padding-right: 1em; text-align: center\">name</th>\n",
       "        <th style=\"padding-left: 1em; padding-right: 1em; text-align: center\">index</th>\n",
       "        <th style=\"padding-left: 1em; padding-right: 1em; text-align: center\">value</th>\n",
       "        <th style=\"padding-left: 1em; padding-right: 1em; text-align: center\">stderr</th>\n",
       "    </tr>\n",
       "    <tr>\n",
       "        <td style=\"padding-left: 1em; padding-right: 1em; text-align: center; vertical-align: top\">(intercept)</td>\n",
       "        <td style=\"padding-left: 1em; padding-right: 1em; text-align: center; vertical-align: top\">None</td>\n",
       "        <td style=\"padding-left: 1em; padding-right: 1em; text-align: center; vertical-align: top\">-42774.4169878</td>\n",
       "        <td style=\"padding-left: 1em; padding-right: 1em; text-align: center; vertical-align: top\">5033.47367593</td>\n",
       "    </tr>\n",
       "    <tr>\n",
       "        <td style=\"padding-left: 1em; padding-right: 1em; text-align: center; vertical-align: top\">sqft_living</td>\n",
       "        <td style=\"padding-left: 1em; padding-right: 1em; text-align: center; vertical-align: top\">None</td>\n",
       "        <td style=\"padding-left: 1em; padding-right: 1em; text-align: center; vertical-align: top\">279.677269681</td>\n",
       "        <td style=\"padding-left: 1em; padding-right: 1em; text-align: center; vertical-align: top\">2.21423519694</td>\n",
       "    </tr>\n",
       "</table>\n",
       "[2 rows x 4 columns]<br/>\n",
       "</div>"
      ],
      "text/plain": [
       "Columns:\n",
       "\tname\tstr\n",
       "\tindex\tstr\n",
       "\tvalue\tfloat\n",
       "\tstderr\tfloat\n",
       "\n",
       "Rows: 2\n",
       "\n",
       "Data:\n",
       "+-------------+-------+----------------+---------------+\n",
       "|     name    | index |     value      |     stderr    |\n",
       "+-------------+-------+----------------+---------------+\n",
       "| (intercept) |  None | -42774.4169878 | 5033.47367593 |\n",
       "| sqft_living |  None | 279.677269681  | 2.21423519694 |\n",
       "+-------------+-------+----------------+---------------+\n",
       "[2 rows x 4 columns]"
      ]
     },
     "execution_count": 18,
     "metadata": {},
     "output_type": "execute_result"
    }
   ],
   "source": [
    "pmodel.get(\"coefficients\")\n",
    "                \n",
    "\n"
   ]
  },
  {
   "cell_type": "code",
   "execution_count": 19,
   "metadata": {
    "collapsed": false
   },
   "outputs": [
    {
     "data": {
      "text/plain": [
       "dtype: int\n",
       "Rows: 4229\n",
       "[310000, 650000, 233000, 580500, 535000, 605000, 775000, 292500, 289000, 571000, 349000, 360000, 243500, 247500, 470000, 480000, 770000, 519950, 527700, 420000, 890000, 282950, 255000, 420000, 807100, 284000, 917500, 425000, 260000, 297000, 274250, 840000, 677900, 280000, 279950, 479950, 264950, 1025000, 2400000, 260000, 525000, 369900, 210000, 304900, 170000, 2050000, 780000, 330000, 360000, 550000, 208633, 315000, 1384000, 1400000, 548000, 520000, 230000, 232000, 740000, 640000, 940000, 559900, 265000, 425000, 552250, 206600, 299000, 855000, 437500, 420000, 795000, 810000, 338000, 315000, 450000, 799000, 403950, 490000, 330000, 927000, 530000, 352000, 322500, 650000, 339000, 570000, 423000, 482000, 1300000, 988000, 1000000, 350000, 205000, 333500, 255000, 348000, 325000, 340500, 290900, 315000, ... ]"
      ]
     },
     "execution_count": 19,
     "metadata": {},
     "output_type": "execute_result"
    }
   ],
   "source": [
    "test[\"price\"]"
   ]
  },
  {
   "cell_type": "code",
   "execution_count": 20,
   "metadata": {
    "collapsed": false
   },
   "outputs": [
    {
     "data": {
      "text/plain": [
       "233000"
      ]
     },
     "execution_count": 20,
     "metadata": {},
     "output_type": "execute_result"
    }
   ],
   "source": [
    "test[\"price\"][2]"
   ]
  },
  {
   "cell_type": "code",
   "execution_count": 21,
   "metadata": {
    "collapsed": false
   },
   "outputs": [
    {
     "data": {
      "text/plain": [
       "{'bathrooms': '2',\n",
       " 'bedrooms': '3',\n",
       " 'condition': 5,\n",
       " 'date': datetime.datetime(2014, 11, 3, 0, 0, tzinfo=GMT +0.0),\n",
       " 'floors': '1.5',\n",
       " 'grade': 6,\n",
       " 'id': '1202000200',\n",
       " 'lat': 47.30482931,\n",
       " 'long': -122.21774909,\n",
       " 'price': 233000,\n",
       " 'sqft_above': 1710,\n",
       " 'sqft_basement': 0,\n",
       " 'sqft_living': 1710,\n",
       " 'sqft_living15': 1030.0,\n",
       " 'sqft_lot': 4697,\n",
       " 'sqft_lot15': 4705.0,\n",
       " 'view': 0,\n",
       " 'waterfront': 0,\n",
       " 'yr_built': 1941,\n",
       " 'yr_renovated': 0,\n",
       " 'zipcode': '98002'}"
      ]
     },
     "execution_count": 21,
     "metadata": {},
     "output_type": "execute_result"
    }
   ],
   "source": [
    "test[2]"
   ]
  },
  {
   "cell_type": "code",
   "execution_count": 22,
   "metadata": {
    "collapsed": false
   },
   "outputs": [
    {
     "ename": "TypeError",
     "evalue": "Invalid key type: must be str, bytes or type",
     "output_type": "error",
     "traceback": [
      "\u001b[1;31m---------------------------------------------------------------------------\u001b[0m",
      "\u001b[1;31mTypeError\u001b[0m                                 Traceback (most recent call last)",
      "\u001b[1;32m<ipython-input-22-c7226e975b32>\u001b[0m in \u001b[0;36m<module>\u001b[1;34m()\u001b[0m\n\u001b[1;32m----> 1\u001b[1;33m \u001b[0mtest\u001b[0m\u001b[1;33m[\u001b[0m\u001b[1;33m[\u001b[0m\u001b[1;36m3\u001b[0m\u001b[1;33m]\u001b[0m\u001b[1;33m]\u001b[0m\u001b[1;33m\u001b[0m\u001b[0m\n\u001b[0m",
      "\u001b[1;32m/opt/conda/lib/python2.7/site-packages/graphlab/data_structures/sframe.pyc\u001b[0m in \u001b[0;36m__getitem__\u001b[1;34m(self, key)\u001b[0m\n\u001b[0;32m   4003\u001b[0m             \u001b[1;32mreturn\u001b[0m \u001b[0mself\u001b[0m\u001b[1;33m.\u001b[0m\u001b[0mselect_columns\u001b[0m\u001b[1;33m(\u001b[0m\u001b[1;33m[\u001b[0m\u001b[0mkey\u001b[0m\u001b[1;33m]\u001b[0m\u001b[1;33m)\u001b[0m\u001b[1;33m\u001b[0m\u001b[0m\n\u001b[0;32m   4004\u001b[0m         \u001b[1;32melif\u001b[0m \u001b[0m_is_non_string_iterable\u001b[0m\u001b[1;33m(\u001b[0m\u001b[0mkey\u001b[0m\u001b[1;33m)\u001b[0m\u001b[1;33m:\u001b[0m\u001b[1;33m\u001b[0m\u001b[0m\n\u001b[1;32m-> 4005\u001b[1;33m             \u001b[1;32mreturn\u001b[0m \u001b[0mself\u001b[0m\u001b[1;33m.\u001b[0m\u001b[0mselect_columns\u001b[0m\u001b[1;33m(\u001b[0m\u001b[0mkey\u001b[0m\u001b[1;33m)\u001b[0m\u001b[1;33m\u001b[0m\u001b[0m\n\u001b[0m\u001b[0;32m   4006\u001b[0m         \u001b[1;32melif\u001b[0m \u001b[0misinstance\u001b[0m\u001b[1;33m(\u001b[0m\u001b[0mkey\u001b[0m\u001b[1;33m,\u001b[0m \u001b[0mnumbers\u001b[0m\u001b[1;33m.\u001b[0m\u001b[0mIntegral\u001b[0m\u001b[1;33m)\u001b[0m\u001b[1;33m:\u001b[0m\u001b[1;33m\u001b[0m\u001b[0m\n\u001b[0;32m   4007\u001b[0m             \u001b[0msf_len\u001b[0m \u001b[1;33m=\u001b[0m \u001b[0mlen\u001b[0m\u001b[1;33m(\u001b[0m\u001b[0mself\u001b[0m\u001b[1;33m)\u001b[0m\u001b[1;33m\u001b[0m\u001b[0m\n",
      "\u001b[1;32m/opt/conda/lib/python2.7/site-packages/graphlab/data_structures/sframe.pyc\u001b[0m in \u001b[0;36mselect_columns\u001b[1;34m(self, keylist)\u001b[0m\n\u001b[0;32m   3650\u001b[0m         if not (all([isinstance(x, str) or isinstance(x, type) or isinstance(x, bytes)\n\u001b[0;32m   3651\u001b[0m                      for x in keylist])):\n\u001b[1;32m-> 3652\u001b[1;33m             \u001b[1;32mraise\u001b[0m \u001b[0mTypeError\u001b[0m\u001b[1;33m(\u001b[0m\u001b[1;34m\"Invalid key type: must be str, bytes or type\"\u001b[0m\u001b[1;33m)\u001b[0m\u001b[1;33m\u001b[0m\u001b[0m\n\u001b[0m\u001b[0;32m   3653\u001b[0m \u001b[1;33m\u001b[0m\u001b[0m\n\u001b[0;32m   3654\u001b[0m         \u001b[0mcolumn_names_set\u001b[0m \u001b[1;33m=\u001b[0m \u001b[0mset\u001b[0m\u001b[1;33m(\u001b[0m\u001b[0mself\u001b[0m\u001b[1;33m.\u001b[0m\u001b[0mcolumn_names\u001b[0m\u001b[1;33m(\u001b[0m\u001b[1;33m)\u001b[0m\u001b[1;33m)\u001b[0m\u001b[1;33m\u001b[0m\u001b[0m\n",
      "\u001b[1;31mTypeError\u001b[0m: Invalid key type: must be str, bytes or type"
     ]
    }
   ],
   "source": [
    "test[[3]]"
   ]
  },
  {
   "cell_type": "code",
   "execution_count": null,
   "metadata": {
    "collapsed": false
   },
   "outputs": [],
   "source": [
    "pmodel.get('coefficients')[\"value\"]"
   ]
  },
  {
   "cell_type": "code",
   "execution_count": null,
   "metadata": {
    "collapsed": false
   },
   "outputs": [],
   "source": [
    "help(trans)\n",
    "\n",
    "    "
   ]
  },
  {
   "cell_type": "markdown",
   "metadata": {},
   "source": [
    "# Exploring  more featurs \n",
    "\n"
   ]
  },
  {
   "cell_type": "code",
   "execution_count": null,
   "metadata": {
    "collapsed": true
   },
   "outputs": [],
   "source": [
    "myfeature= [\"bedrooms\", \"bathrooms\", \"sqft_living\",\"sqft_lot\", \"floors\", \"zipcode\"]\n"
   ]
  },
  {
   "cell_type": "code",
   "execution_count": null,
   "metadata": {
    "collapsed": false
   },
   "outputs": [],
   "source": [
    "md[myfeature].show()"
   ]
  },
  {
   "cell_type": "code",
   "execution_count": null,
   "metadata": {
    "collapsed": true
   },
   "outputs": [],
   "source": [
    "old_price=graphlab.SFrame(md[\"price\"])"
   ]
  },
  {
   "cell_type": "code",
   "execution_count": null,
   "metadata": {
    "collapsed": false
   },
   "outputs": [],
   "source": [
    "old_price"
   ]
  },
  {
   "cell_type": "code",
   "execution_count": 27,
   "metadata": {
    "collapsed": false
   },
   "outputs": [
    {
     "data": {
      "application/javascript": [
       "$(\"head\").append($(\"<link/>\").attr({\n",
       "  rel:  \"stylesheet\",\n",
       "  type: \"text/css\",\n",
       "  href: \"//cdnjs.cloudflare.com/ajax/libs/font-awesome/4.1.0/css/font-awesome.min.css\"\n",
       "}));\n",
       "$(\"head\").append($(\"<link/>\").attr({\n",
       "  rel:  \"stylesheet\",\n",
       "  type: \"text/css\",\n",
       "  href: \"//dato.com/files/canvas/1.9/css/canvas.css\"\n",
       "}));\n",
       "\n",
       "            (function(){\n",
       "\n",
       "                var e = null;\n",
       "                if (typeof element == 'undefined') {\n",
       "                    var scripts = document.getElementsByTagName('script');\n",
       "                    var thisScriptTag = scripts[scripts.length-1];\n",
       "                    var parentDiv = thisScriptTag.parentNode;\n",
       "                    e = document.createElement('div');\n",
       "                    parentDiv.appendChild(e);\n",
       "                } else {\n",
       "                    e = element[0];\n",
       "                }\n",
       "\n",
       "                if (typeof requirejs !== 'undefined') {\n",
       "                    // disable load timeout; ipython_app.js is large and can take a while to load.\n",
       "                    requirejs.config({waitSeconds: 0});\n",
       "                }\n",
       "\n",
       "                require(['//dato.com/files/canvas/1.9/js/ipython_app.js'], function(IPythonApp){\n",
       "                    var app = new IPythonApp();\n",
       "                    app.attachView('sframe','Plots', {\"selected_variable\": {\"name\": [\"md\"], \"descriptives\": {\"rows\": 21613, \"columns\": 21}, \"view_component\": \"Plots\", \"view_file\": \"sframe\", \"view_params\": {\"y\": \"price\", \"x\": \"zipcode\", \"columns\": [\"id\", \"date\", \"price\", \"bedrooms\", \"bathrooms\", \"sqft_living\", \"sqft_lot\", \"floors\", \"waterfront\", \"view\", \"condition\", \"grade\", \"sqft_above\", \"sqft_basement\", \"yr_built\", \"yr_renovated\", \"zipcode\", \"lat\", \"long\", \"sqft_living15\", \"sqft_lot15\"], \"view\": \"BoxWhisker Plot\"}, \"view_components\": [\"Summary\", \"Table\", \"Bar Chart\", \"BoxWhisker Plot\", \"Line Chart\", \"Scatter Plot\", \"Heat Map\", \"Plots\"], \"type\": \"SFrame\", \"columns\": [{\"dtype\": \"str\", \"name\": \"id\"}, {\"dtype\": \"datetime\", \"name\": \"date\"}, {\"dtype\": \"int\", \"name\": \"price\"}, {\"dtype\": \"str\", \"name\": \"bedrooms\"}, {\"dtype\": \"str\", \"name\": \"bathrooms\"}, {\"dtype\": \"int\", \"name\": \"sqft_living\"}, {\"dtype\": \"int\", \"name\": \"sqft_lot\"}, {\"dtype\": \"str\", \"name\": \"floors\"}, {\"dtype\": \"int\", \"name\": \"waterfront\"}, {\"dtype\": \"int\", \"name\": \"view\"}, {\"dtype\": \"int\", \"name\": \"condition\"}, {\"dtype\": \"int\", \"name\": \"grade\"}, {\"dtype\": \"int\", \"name\": \"sqft_above\"}, {\"dtype\": \"int\", \"name\": \"sqft_basement\"}, {\"dtype\": \"int\", \"name\": \"yr_built\"}, {\"dtype\": \"int\", \"name\": \"yr_renovated\"}, {\"dtype\": \"str\", \"name\": \"zipcode\"}, {\"dtype\": \"float\", \"name\": \"lat\"}, {\"dtype\": \"float\", \"name\": \"long\"}, {\"dtype\": \"float\", \"name\": \"sqft_living15\"}, {\"dtype\": \"float\", \"name\": \"sqft_lot15\"}], \"column_identifiers\": [\"bathrooms\", \"sqft_living15\", \"sqft_above\", \"grade\", \"yr_built\", \"price\", \"bedrooms\", \"zipcode\", \"long\", \"id\", \"sqft_lot15\", \"sqft_living\", \"floors\", \"sqft_lot\", \"date\", \"waterfront\", \"sqft_basement\", \"yr_renovated\", \"lat\", \"condition\", \"view\"]}, \"complete\": 1, \"ipython\": true, \"progress\": 1.0, \"data\": {\"grouped\": [[\"98001\", [100000.0, 115000.0, 180000.0, 184000.0, 215000.0, 260000.0, 320000.0, 420000.0, 427000.0, 625000.0, 850000.0]], [\"98002\", [95000.0, 111300.0, 160000.0, 163500.0, 199950.0, 235000.0, 269000.0, 298900.0, 300000.0, 370000.0, 389000.0]], [\"98003\", [128000.0, 152500.0, 199000.0, 200000.0, 229000.0, 267950.0, 333000.0, 420000.0, 429900.0, 740000.0, 950000.0]], [\"98004\", [425000.0, 595000.0, 695000.0, 720000.0, 845000.0, 1150000.0, 1691000.0, 2150000.0, 2200000.0, 3800000.0, 7062500.0]], [\"98005\", [400000.0, 411100.0, 542500.0, 549000.0, 638700.0, 768500.0, 915000.0, 1110000.0, 1125000.0, 1900000.0, 1960000.0]], [\"98006\", [247500.0, 295000.0, 450000.0, 455000.0, 575000.0, 760369.0, 978000.0, 1380000.0, 1400000.0, 2525000.0, 4208000.0]], [\"98007\", [295000.0, 330000.0, 415500.0, 419000.0, 465000.0, 555000.0, 730000.0, 900000.0, 907500.0, 1229000.0, 1315000.0]], [\"98008\", [250000.0, 277700.0, 405000.0, 415000.0, 465000.0, 545000.0, 660000.0, 850000.0, 899000.0, 3300000.0, 3567000.0]], [\"98010\", [135000.0, 162000.0, 208500.0, 212644.0, 257000.0, 360000.0, 600000.0, 712000.0, 720000.0, 935000.0, 935000.0]], [\"98011\", [245500.0, 260000.0, 347000.0, 361000.0, 411800.0, 470000.0, 550000.0, 632000.0, 650000.0, 870000.0, 1075000.0]], [\"98014\", [80000.0, 134000.0, 167000.0, 180000.0, 309000.0, 415000.0, 539000.0, 739000.0, 755000.0, 1610000.0, 1680000.0]], [\"98019\", [119500.0, 170000.0, 289275.0, 299950.0, 330000.0, 402500.0, 500000.0, 570000.0, 570000.0, 979500.0, 1015000.0]], [\"98022\", [75000.0, 152900.0, 199990.0, 200000.0, 235000.0, 280000.0, 350000.0, 475000.0, 487000.0, 750000.0, 858000.0]], [\"98023\", [86500.0, 115000.0, 188000.0, 193000.0, 224097.0, 268450.0, 316500.0, 402500.0, 415000.0, 629000.0, 1275000.0]], [\"98024\", [142000.0, 142000.0, 258000.0, 260000.0, 340000.0, 460000.0, 700000.0, 997950.0, 1065000.0, 1862000.0, 1862000.0]], [\"98027\", [130000.0, 240000.0, 352499.0, 361000.0, 450000.0, 571000.0, 716500.0, 865000.0, 890000.0, 1800000.0, 2700000.0]], [\"98028\", [160000.0, 196000.0, 300000.0, 310000.0, 379950.0, 445000.0, 526750.0, 610000.0, 619990.0, 1120000.0, 1600000.0]], [\"98029\", [285000.0, 310000.0, 413565.0, 420000.0, 485000.0, 575000.0, 690000.0, 795000.0, 812000.0, 1450000.0, 2200000.0]], [\"98030\", [120000.0, 140000.0, 213400.0, 220000.0, 249950.0, 282510.0, 339950.0, 380000.0, 386000.0, 491000.0, 565000.0]], [\"98031\", [147500.0, 152000.0, 223000.0, 230000.0, 252000.0, 288400.0, 327500.0, 377000.0, 382500.0, 680000.0, 800000.0]], [\"98032\", [85000.0, 85000.0, 165000.0, 169000.0, 221700.0, 249000.0, 285000.0, 321000.0, 324900.0, 400000.0, 545000.0]], [\"98033\", [130000.0, 305000.0, 425000.0, 437500.0, 535000.0, 678700.0, 902000.0, 1339000.0, 1378000.0, 2650000.0, 5110800.0]], [\"98034\", [90000.0, 257000.0, 330000.0, 335000.0, 387000.0, 445950.0, 525000.0, 749950.0, 799950.0, 2125000.0, 3120000.0]], [\"98038\", [110000.0, 176000.0, 240000.0, 245000.0, 285000.0, 342000.0, 410000.0, 533000.0, 540000.0, 849000.0, 1350000.0]], [\"98039\", [787500.0, 787500.0, 940000.0, 1000000.0, 1398000.0, 1905000.0, 2575000.0, 3640900.0, 3640900.0, 6885000.0, 6885000.0]], [\"98040\", [500000.0, 550000.0, 685000.0, 698000.0, 821000.0, 994000.0, 1387000.0, 1815000.0, 1900000.0, 3850000.0, 5300000.0]], [\"98042\", [105000.0, 132825.0, 200000.0, 204000.0, 240000.0, 292500.0, 359950.0, 444900.0, 450000.0, 734000.0, 859000.0]], [\"98045\", [175000.0, 189000.0, 259000.0, 271000.0, 305000.0, 399500.0, 495000.0, 665000.0, 688000.0, 1075000.0, 1950000.0]], [\"98052\", [225000.0, 315000.0, 425000.0, 432100.0, 509250.0, 615000.0, 751000.0, 852500.0, 872750.0, 1299888.0, 2200000.0]], [\"98053\", [170000.0, 300000.0, 400000.0, 405000.0, 485000.0, 635000.0, 790500.0, 955990.0, 975000.0, 1769000.0, 2280000.0]], [\"98055\", [100000.0, 126000.0, 192000.0, 197500.0, 240000.0, 295000.0, 350000.0, 430000.0, 440000.0, 580000.0, 631000.0]], [\"98056\", [139000.0, 155000.0, 230000.0, 231500.0, 289000.0, 380000.0, 510000.0, 635000.0, 640000.0, 980000.0, 3000000.0]], [\"98058\", [95000.0, 144000.0, 225000.0, 230000.0, 285000.0, 335000.0, 392000.0, 475000.0, 485000.0, 790000.0, 1500000.0]], [\"98059\", [172500.0, 217000.0, 291375.0, 294500.0, 340000.0, 435000.0, 552500.0, 751000.0, 785000.0, 1300000.0, 1780000.0]], [\"98065\", [170000.0, 208000.0, 323000.0, 335000.0, 424950.0, 500000.0, 619000.0, 710000.0, 723000.0, 1145000.0, 1998000.0]], [\"98070\", [160000.0, 181000.0, 280000.0, 285000.0, 340000.0, 465000.0, 575000.0, 729000.0, 730000.0, 1350000.0, 1379900.0]], [\"98072\", [200000.0, 275000.0, 357823.0, 365000.0, 422800.0, 515000.0, 642860.0, 879000.0, 905000.0, 1350000.0, 1565000.0]], [\"98074\", [280000.0, 325000.0, 420000.0, 434900.0, 532000.0, 642000.0, 798000.0, 922755.0, 929000.0, 1675000.0, 3075000.0]], [\"98075\", [406430.0, 432000.0, 545000.0, 550000.0, 641000.0, 739999.0, 870000.0, 1060000.0, 1062500.0, 2000000.0, 3200000.0]], [\"98077\", [250000.0, 274975.0, 335000.0, 353000.0, 510000.0, 654950.0, 835000.0, 950000.0, 985000.0, 1820000.0, 1920000.0]], [\"98092\", [90000.0, 148226.0, 210000.0, 216000.0, 263950.0, 309780.0, 379500.0, 471275.0, 480000.0, 835000.0, 930000.0]], [\"98102\", [330000.0, 350000.0, 440000.0, 475000.0, 575000.0, 720000.0, 979700.0, 1440000.0, 1443917.0, 2479000.0, 7700000.0]], [\"98103\", [238000.0, 259250.0, 352950.0, 355000.0, 432000.0, 550000.0, 695000.0, 830000.0, 850000.0, 1350000.0, 1695000.0]], [\"98105\", [380000.0, 395000.0, 483000.0, 485000.0, 550000.0, 675000.0, 1005000.0, 1415000.0, 1482500.0, 2555000.0, 3650000.0]], [\"98106\", [90000.0, 107000.0, 208400.0, 210000.0, 260000.0, 315000.0, 366000.0, 426000.0, 435000.0, 625000.0, 795000.0]], [\"98107\", [290000.0, 356000.0, 425000.0, 430000.0, 470000.0, 529950.0, 630000.0, 752500.0, 769950.0, 1205000.0, 2945000.0]], [\"98108\", [90000.0, 130000.0, 230000.0, 230000.0, 284000.0, 345000.0, 425000.0, 491000.0, 500000.0, 635000.0, 640000.0]], [\"98109\", [216650.0, 216650.0, 478000.0, 479000.0, 620000.0, 736000.0, 1000000.0, 1450000.0, 1450000.0, 2900000.0, 3200000.0]], [\"98112\", [169317.0, 350000.0, 515000.0, 524000.0, 680000.0, 915000.0, 1328000.0, 1975000.0, 2048000.0, 3000000.0, 3400000.0]], [\"98115\", [200000.0, 289500.0, 395000.0, 399000.0, 455000.0, 567000.0, 719000.0, 897000.0, 925000.0, 1500000.0, 2300000.0]], [\"98116\", [130000.0, 252000.0, 386950.0, 390000.0, 460000.0, 565500.0, 703000.0, 930000.0, 950000.0, 1598888.0, 2050000.0]], [\"98117\", [125000.0, 280000.0, 375000.0, 390000.0, 450000.0, 544000.0, 657500.0, 825000.0, 850000.0, 1275000.0, 1370000.0]], [\"98118\", [109000.0, 155000.0, 221000.0, 226000.0, 289000.0, 367500.0, 476500.0, 665000.0, 680000.0, 1309500.0, 2903000.0]], [\"98119\", [300523.0, 365000.0, 485000.0, 490000.0, 600000.0, 749950.0, 940000.0, 1320000.0, 1330000.0, 2630000.0, 3065000.0]], [\"98122\", [202000.0, 260000.0, 375000.0, 385000.0, 450000.0, 574000.0, 720000.0, 920000.0, 925000.0, 1850000.0, 2050000.0]], [\"98125\", [175000.0, 228000.0, 303697.0, 310000.0, 357250.0, 425000.0, 518000.0, 675000.0, 689000.0, 1335000.0, 2050000.0]], [\"98126\", [110000.0, 183000.0, 250000.0, 255000.0, 320000.0, 396500.0, 485000.0, 643500.0, 661000.0, 901000.0, 1085000.0]], [\"98133\", [130000.0, 210000.0, 275000.0, 277500.0, 318000.0, 375000.0, 435000.0, 507000.0, 518000.0, 729953.0, 808100.0]], [\"98136\", [200000.0, 229050.0, 340000.0, 345000.0, 398000.0, 489950.0, 660000.0, 838000.0, 850000.0, 1662000.0, 2230000.0]], [\"98144\", [181000.0, 230000.0, 325000.0, 327000.0, 374950.0, 450000.0, 666000.0, 970000.0, 1039000.0, 2450000.0, 3600000.0]], [\"98146\", [82000.0, 104950.0, 158800.0, 175000.0, 229500.0, 307000.0, 409000.0, 605000.0, 665900.0, 1250000.0, 1410000.0]], [\"98148\", [105500.0, 105500.0, 193000.0, 193000.0, 240000.0, 278000.0, 319990.0, 375000.0, 375000.0, 600600.0, 600600.0]], [\"98155\", [153000.0, 195000.0, 267800.0, 270000.0, 315000.0, 375000.0, 460000.0, 590000.0, 600000.0, 1680000.0, 4500000.0]], [\"98166\", [100000.0, 129888.0, 220000.0, 229000.0, 292000.0, 390000.0, 540500.0, 755000.0, 770000.0, 1899000.0, 2510000.0]], [\"98168\", [78000.0, 82500.0, 150550.0, 158000.0, 199950.0, 235000.0, 285000.0, 325000.0, 327200.0, 424305.0, 600000.0]], [\"98177\", [245560.0, 276000.0, 355950.0, 367500.0, 427000.0, 554000.0, 749950.0, 1075000.0, 1200000.0, 2880500.0, 3800000.0]], [\"98178\", [90000.0, 119900.0, 180000.0, 188000.0, 223000.0, 279000.0, 350000.0, 450000.0, 460000.0, 869000.0, 1700000.0]], [\"98188\", [110000.0, 110700.0, 179000.0, 179950.0, 230000.0, 265000.0, 335000.0, 400200.0, 408000.0, 706000.0, 707000.0]], [\"98198\", [95000.0, 120000.0, 174500.0, 175000.0, 216500.0, 265000.0, 340000.0, 455000.0, 475000.0, 950000.0, 1350000.0]], [\"98199\", [323000.0, 334000.0, 419000.0, 425000.0, 535000.0, 689800.0, 950000.0, 1289000.0, 1300000.0, 2160000.0, 3200000.0]]], \"omitted\": 0}, \"columns\": [{\"dtype\": \"str\", \"name\": \"id\"}, {\"dtype\": \"datetime\", \"name\": \"date\"}, {\"dtype\": \"int\", \"name\": \"price\"}, {\"dtype\": \"str\", \"name\": \"bedrooms\"}, {\"dtype\": \"str\", \"name\": \"bathrooms\"}, {\"dtype\": \"int\", \"name\": \"sqft_living\"}, {\"dtype\": \"int\", \"name\": \"sqft_lot\"}, {\"dtype\": \"str\", \"name\": \"floors\"}, {\"dtype\": \"int\", \"name\": \"waterfront\"}, {\"dtype\": \"int\", \"name\": \"view\"}, {\"dtype\": \"int\", \"name\": \"condition\"}, {\"dtype\": \"int\", \"name\": \"grade\"}, {\"dtype\": \"int\", \"name\": \"sqft_above\"}, {\"dtype\": \"int\", \"name\": \"sqft_basement\"}, {\"dtype\": \"int\", \"name\": \"yr_built\"}, {\"dtype\": \"int\", \"name\": \"yr_renovated\"}, {\"dtype\": \"str\", \"name\": \"zipcode\"}, {\"dtype\": \"float\", \"name\": \"lat\"}, {\"dtype\": \"float\", \"name\": \"long\"}, {\"dtype\": \"float\", \"name\": \"sqft_living15\"}, {\"dtype\": \"float\", \"name\": \"sqft_lot15\"}]}, e);\n",
       "                });\n",
       "            })();\n",
       "        "
      ]
     },
     "metadata": {},
     "output_type": "display_data"
    }
   ],
   "source": [
    "md.show(view=\"BoxWhisker Plot\", x=\"zipcode\", y=\"price\")"
   ]
  },
  {
   "cell_type": "code",
   "execution_count": null,
   "metadata": {
    "collapsed": false
   },
   "outputs": [],
   "source": [
    "md.show(view=\"BoxWhisker Plot\", x=\"yr_built\", y= \"price\")"
   ]
  },
  {
   "cell_type": "markdown",
   "metadata": {},
   "source": [
    "md.plot( \"sqft_living\", \"price\", \".\")"
   ]
  },
  {
   "cell_type": "markdown",
   "metadata": {
    "collapsed": true
   },
   "source": [
    "# Build regression model with more features \n"
   ]
  },
  {
   "cell_type": "code",
   "execution_count": null,
   "metadata": {
    "collapsed": false
   },
   "outputs": [],
   "source": [
    "feature_model= graphlab.linear_regression.create(training, target=\"price\", features= myfeature)"
   ]
  },
  {
   "cell_type": "code",
   "execution_count": null,
   "metadata": {
    "collapsed": false
   },
   "outputs": [],
   "source": [
    "feature_model.get(\"coefficients\")"
   ]
  },
  {
   "cell_type": "code",
   "execution_count": null,
   "metadata": {
    "collapsed": false
   },
   "outputs": [],
   "source": [
    "print pmodel.evaluate(test)\n",
    "print feature_model.evaluate(test)"
   ]
  },
  {
   "cell_type": "markdown",
   "metadata": {},
   "source": [
    "# apply leaned model to predict three house \n"
   ]
  },
  {
   "cell_type": "code",
   "execution_count": 1,
   "metadata": {
    "collapsed": false
   },
   "outputs": [
    {
     "ename": "NameError",
     "evalue": "name 'md' is not defined",
     "output_type": "error",
     "traceback": [
      "\u001b[1;31m---------------------------------------------------------------------------\u001b[0m",
      "\u001b[1;31mNameError\u001b[0m                                 Traceback (most recent call last)",
      "\u001b[1;32m<ipython-input-1-497314a0cc16>\u001b[0m in \u001b[0;36m<module>\u001b[1;34m()\u001b[0m\n\u001b[1;32m----> 1\u001b[1;33m \u001b[0mh1\u001b[0m\u001b[1;33m=\u001b[0m \u001b[0mmd\u001b[0m\u001b[1;33m[\u001b[0m\u001b[0mmd\u001b[0m\u001b[1;33m[\u001b[0m\u001b[1;34m'id'\u001b[0m\u001b[1;33m]\u001b[0m\u001b[1;33m==\u001b[0m\u001b[1;34m\"5309101200\"\u001b[0m\u001b[1;33m]\u001b[0m\u001b[1;33m\u001b[0m\u001b[0m\n\u001b[0m\u001b[0;32m      2\u001b[0m \u001b[0mh1\u001b[0m\u001b[1;33m\u001b[0m\u001b[0m\n",
      "\u001b[1;31mNameError\u001b[0m: name 'md' is not defined"
     ]
    }
   ],
   "source": [
    "h1= md[md['id']==\"5309101200\"]\n",
    "h1\n"
   ]
  },
  {
   "cell_type": "markdown",
   "metadata": {},
   "source": [
    "<img src=\"house-5309101200.jpg\">"
   ]
  },
  {
   "cell_type": "code",
   "execution_count": null,
   "metadata": {
    "collapsed": false
   },
   "outputs": [],
   "source": [
    "print h1[\"price\"]"
   ]
  },
  {
   "cell_type": "code",
   "execution_count": null,
   "metadata": {
    "collapsed": false
   },
   "outputs": [],
   "source": [
    "print pmodel.predict(h1)\n",
    "print feature_model.predict(h1)"
   ]
  },
  {
   "cell_type": "code",
   "execution_count": null,
   "metadata": {
    "collapsed": false
   },
   "outputs": [],
   "source": [
    "print pmodel.evaluate(h1)\n",
    "print feature_model.evaluate(h1)"
   ]
  },
  {
   "cell_type": "markdown",
   "metadata": {},
   "source": [
    "# prediction for the second house"
   ]
  },
  {
   "cell_type": "code",
   "execution_count": null,
   "metadata": {
    "collapsed": true
   },
   "outputs": [],
   "source": [
    "h2= md[md[\"id\"]==\"1925069082\"]"
   ]
  },
  {
   "cell_type": "code",
   "execution_count": null,
   "metadata": {
    "collapsed": false
   },
   "outputs": [],
   "source": [
    "h2\n"
   ]
  },
  {
   "cell_type": "code",
   "execution_count": null,
   "metadata": {
    "collapsed": false
   },
   "outputs": [],
   "source": [
    " print h2[\"price\"]"
   ]
  },
  {
   "cell_type": "code",
   "execution_count": null,
   "metadata": {
    "collapsed": false
   },
   "outputs": [],
   "source": [
    "print feature_model.predict(h2)"
   ]
  },
  {
   "cell_type": "code",
   "execution_count": null,
   "metadata": {
    "collapsed": false
   },
   "outputs": [],
   "source": [
    "print pmodel.predict(h2)"
   ]
  },
  {
   "cell_type": "code",
   "execution_count": null,
   "metadata": {
    "collapsed": true
   },
   "outputs": [],
   "source": [
    "h3= {'bedrooms':[8],'bathrooms':[25],\"sqft_living\":[50000], 'sqft_lot': [225000], 'floors': [4], 'zipcode':['98039']}"
   ]
  },
  {
   "cell_type": "code",
   "execution_count": null,
   "metadata": {
    "collapsed": false
   },
   "outputs": [],
   "source": [
    "print h3"
   ]
  },
  {
   "cell_type": "code",
   "execution_count": null,
   "metadata": {
    "collapsed": false
   },
   "outputs": [],
   "source": [
    "dh3= graphlab.SFrame(h3)"
   ]
  },
  {
   "cell_type": "code",
   "execution_count": null,
   "metadata": {
    "collapsed": false
   },
   "outputs": [],
   "source": [
    "dh3"
   ]
  },
  {
   "cell_type": "code",
   "execution_count": null,
   "metadata": {
    "collapsed": false
   },
   "outputs": [],
   "source": [
    "print feature_model.predict(dh3)"
   ]
  },
  {
   "cell_type": "markdown",
   "metadata": {},
   "source": [
    "# Coding assignment : \n",
    "Identifieng the zipcode having the highest sales price and comput the average in the area "
   ]
  },
  {
   "cell_type": "code",
   "execution_count": null,
   "metadata": {
    "collapsed": false
   },
   "outputs": [],
   "source": [
    "graphlab.canvas.set_target(\"ipynb\")\n",
    "md.show(view=\"BoxWhisker Plot\", x=\"zipcode\", y= \"price\")\n",
    "    "
   ]
  },
  {
   "cell_type": "code",
   "execution_count": null,
   "metadata": {
    "collapsed": true
   },
   "outputs": [],
   "source": [
    "import matplotlib as mp"
   ]
  },
  {
   "cell_type": "code",
   "execution_count": 2,
   "metadata": {
    "collapsed": false
   },
   "outputs": [
    {
     "ename": "SyntaxError",
     "evalue": "invalid syntax (<ipython-input-2-128fb1922282>, line 1)",
     "output_type": "error",
     "traceback": [
      "\u001b[1;36m  File \u001b[1;32m\"<ipython-input-2-128fb1922282>\"\u001b[1;36m, line \u001b[1;32m1\u001b[0m\n\u001b[1;33m    mp.plot(scatter plotmd['price'], md['zipcode'])\u001b[0m\n\u001b[1;37m                         ^\u001b[0m\n\u001b[1;31mSyntaxError\u001b[0m\u001b[1;31m:\u001b[0m invalid syntax\n"
     ]
    }
   ],
   "source": [
    "mp.plot(scatter plotmd['price'], md['zipcode'])"
   ]
  },
  {
   "cell_type": "code",
   "execution_count": null,
   "metadata": {
    "collapsed": true
   },
   "outputs": [],
   "source": []
  }
 ],
 "metadata": {
  "kernelspec": {
   "display_name": "Python 2",
   "language": "python",
   "name": "python2"
  },
  "language_info": {
   "codemirror_mode": {
    "name": "ipython",
    "version": 2
   },
   "file_extension": ".py",
   "mimetype": "text/x-python",
   "name": "python",
   "nbconvert_exporter": "python",
   "pygments_lexer": "ipython2",
   "version": "2.7.11"
  }
 },
 "nbformat": 4,
 "nbformat_minor": 0
}
